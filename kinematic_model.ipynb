{
 "cells": [
  {
   "cell_type": "code",
   "execution_count": 2,
   "metadata": {},
   "outputs": [],
   "source": [
    "import glob as glob\n",
    "import pandas as pd\n",
    "import numpy as np\n",
    "import plotly.express as px\n",
    "import plotly.graph_objects as go\n",
    "import plotly.io as pio\n",
    "import plotly.figure_factory as ff\n",
    "from pathlib import Path\n",
    "\n",
    "# Create the figures directory:\n",
    "\n",
    "Path(\"figures\").mkdir(parents=True, exist_ok=True)"
   ]
  },
  {
   "cell_type": "markdown",
   "metadata": {},
   "source": []
  },
  {
   "cell_type": "code",
   "execution_count": 3,
   "metadata": {},
   "outputs": [
    {
     "data": {
      "text/html": [
       "<div>\n",
       "<style scoped>\n",
       "    .dataframe tbody tr th:only-of-type {\n",
       "        vertical-align: middle;\n",
       "    }\n",
       "\n",
       "    .dataframe tbody tr th {\n",
       "        vertical-align: top;\n",
       "    }\n",
       "\n",
       "    .dataframe thead th {\n",
       "        text-align: right;\n",
       "    }\n",
       "</style>\n",
       "<table border=\"1\" class=\"dataframe\">\n",
       "  <thead>\n",
       "    <tr style=\"text-align: right;\">\n",
       "      <th></th>\n",
       "      <th>lat</th>\n",
       "      <th>lon</th>\n",
       "      <th>alt</th>\n",
       "      <th>vx</th>\n",
       "      <th>vy</th>\n",
       "      <th>vz</th>\n",
       "    </tr>\n",
       "    <tr>\n",
       "      <th>time</th>\n",
       "      <th></th>\n",
       "      <th></th>\n",
       "      <th></th>\n",
       "      <th></th>\n",
       "      <th></th>\n",
       "      <th></th>\n",
       "    </tr>\n",
       "  </thead>\n",
       "  <tbody>\n",
       "    <tr>\n",
       "      <th>0.140</th>\n",
       "      <td>42.724676</td>\n",
       "      <td>-84.480802</td>\n",
       "      <td>274.12</td>\n",
       "      <td>-0.01</td>\n",
       "      <td>-0.02</td>\n",
       "      <td>-0.00</td>\n",
       "    </tr>\n",
       "    <tr>\n",
       "      <th>0.473</th>\n",
       "      <td>42.724676</td>\n",
       "      <td>-84.480802</td>\n",
       "      <td>274.12</td>\n",
       "      <td>0.00</td>\n",
       "      <td>-0.02</td>\n",
       "      <td>-0.00</td>\n",
       "    </tr>\n",
       "    <tr>\n",
       "      <th>0.806</th>\n",
       "      <td>42.724676</td>\n",
       "      <td>-84.480802</td>\n",
       "      <td>274.12</td>\n",
       "      <td>0.00</td>\n",
       "      <td>-0.02</td>\n",
       "      <td>-0.00</td>\n",
       "    </tr>\n",
       "    <tr>\n",
       "      <th>1.138</th>\n",
       "      <td>42.724676</td>\n",
       "      <td>-84.480802</td>\n",
       "      <td>274.11</td>\n",
       "      <td>0.00</td>\n",
       "      <td>-0.02</td>\n",
       "      <td>-0.00</td>\n",
       "    </tr>\n",
       "    <tr>\n",
       "      <th>1.471</th>\n",
       "      <td>42.724675</td>\n",
       "      <td>-84.480802</td>\n",
       "      <td>274.11</td>\n",
       "      <td>0.00</td>\n",
       "      <td>-0.02</td>\n",
       "      <td>-0.00</td>\n",
       "    </tr>\n",
       "    <tr>\n",
       "      <th>...</th>\n",
       "      <td>...</td>\n",
       "      <td>...</td>\n",
       "      <td>...</td>\n",
       "      <td>...</td>\n",
       "      <td>...</td>\n",
       "      <td>...</td>\n",
       "    </tr>\n",
       "    <tr>\n",
       "      <th>75.398</th>\n",
       "      <td>42.724638</td>\n",
       "      <td>-84.480762</td>\n",
       "      <td>275.50</td>\n",
       "      <td>1.22</td>\n",
       "      <td>-0.39</td>\n",
       "      <td>-0.20</td>\n",
       "    </tr>\n",
       "    <tr>\n",
       "      <th>75.731</th>\n",
       "      <td>42.724641</td>\n",
       "      <td>-84.480763</td>\n",
       "      <td>275.55</td>\n",
       "      <td>0.92</td>\n",
       "      <td>-0.65</td>\n",
       "      <td>-0.00</td>\n",
       "    </tr>\n",
       "    <tr>\n",
       "      <th>76.063</th>\n",
       "      <td>42.724644</td>\n",
       "      <td>-84.480766</td>\n",
       "      <td>275.55</td>\n",
       "      <td>0.89</td>\n",
       "      <td>-0.89</td>\n",
       "      <td>-0.01</td>\n",
       "    </tr>\n",
       "    <tr>\n",
       "      <th>76.396</th>\n",
       "      <td>42.724646</td>\n",
       "      <td>-84.480770</td>\n",
       "      <td>275.60</td>\n",
       "      <td>0.79</td>\n",
       "      <td>-0.90</td>\n",
       "      <td>-0.20</td>\n",
       "    </tr>\n",
       "    <tr>\n",
       "      <th>76.731</th>\n",
       "      <td>42.724648</td>\n",
       "      <td>-84.480773</td>\n",
       "      <td>275.58</td>\n",
       "      <td>0.56</td>\n",
       "      <td>-1.01</td>\n",
       "      <td>0.11</td>\n",
       "    </tr>\n",
       "  </tbody>\n",
       "</table>\n",
       "<p>231 rows × 6 columns</p>\n",
       "</div>"
      ],
      "text/plain": [
       "              lat        lon     alt    vx    vy    vz\n",
       "time                                                  \n",
       "0.140   42.724676 -84.480802  274.12 -0.01 -0.02 -0.00\n",
       "0.473   42.724676 -84.480802  274.12  0.00 -0.02 -0.00\n",
       "0.806   42.724676 -84.480802  274.12  0.00 -0.02 -0.00\n",
       "1.138   42.724676 -84.480802  274.11  0.00 -0.02 -0.00\n",
       "1.471   42.724675 -84.480802  274.11  0.00 -0.02 -0.00\n",
       "...           ...        ...     ...   ...   ...   ...\n",
       "75.398  42.724638 -84.480762  275.50  1.22 -0.39 -0.20\n",
       "75.731  42.724641 -84.480763  275.55  0.92 -0.65 -0.00\n",
       "76.063  42.724644 -84.480766  275.55  0.89 -0.89 -0.01\n",
       "76.396  42.724646 -84.480770  275.60  0.79 -0.90 -0.20\n",
       "76.731  42.724648 -84.480773  275.58  0.56 -1.01  0.11\n",
       "\n",
       "[231 rows x 6 columns]"
      ]
     },
     "execution_count": 3,
     "metadata": {},
     "output_type": "execute_result"
    }
   ],
   "source": [
    "# Data preprocessing\n",
    "drone = pd.read_json('data/data_20092023-15:36:05(more_movement).json')\n",
    "gcs = pd.read_json('data/data_20092023-15:39:26(less_movement).json')\n",
    "\n",
    "# add prefix to packet type\n",
    "drone['mavpackettype'] = 'UAV_' + drone['mavpackettype']\n",
    "gcs['mavpackettype'] = 'GCS_' + gcs['mavpackettype']\n",
    "\n",
    "# zero time to the beginning of the flight\n",
    "drone['time_boot_ms'] -= drone['time_boot_ms'].min()\n",
    "gcs['time_boot_ms'] -= gcs['time_boot_ms'].min()\n",
    "\n",
    "# combine dataframes\n",
    "df = pd.concat([drone, gcs], ignore_index=True)\n",
    "df = df.sort_values(by=['time_boot_ms'], ignore_index=True)\n",
    "\n",
    "df['time_s'] = df['time_boot_ms'] / 1000\n",
    "df['lat'] = df['lat'] / 1e7 # int->float\n",
    "df['lon'] = df['lon'] / 1e7\n",
    "df['alt'] = df['alt'] / 1000 # orginally in mm\n",
    "\n",
    "df['vx'] = df['vx'] / 100 # to m/s\n",
    "df['vy'] = df['vy'] / 100\n",
    "df['vz'] = -1*(df['vz'] / 100) # Invert z velocity. Up is now positive.\n",
    "\n",
    "df = df[\n",
    "    df['mavpackettype'].str.contains('UAV_GLOBAL_POSITION_INT')\n",
    "]\n",
    "df = df[['time_s', 'lat', 'lon', 'alt', 'vx', 'vy', 'vz']]\n",
    "df.set_index('time_s', inplace=True)\n",
    "df.index.name = 'time'\n",
    "df"
   ]
  },
  {
   "cell_type": "markdown",
   "metadata": {},
   "source": [
    "This is the data we are working with in this exmaple.\n",
    "\n",
    "    - time is in seconds\n",
    "    - vx: m/s in north direction\n",
    "    - vy: m/s in east direction\n",
    "    - vz: m/s upwards\n",
    "    - alt: meters above sea level\n",
    "    - lat and lon: geodesic coordinates"
   ]
  },
  {
   "cell_type": "markdown",
   "metadata": {},
   "source": [
    "Next, use `pymap3d.geodetic2enu()` to convert lat, lon, and alt to east, north, up (m). The reference point is the starting point."
   ]
  },
  {
   "cell_type": "code",
   "execution_count": 4,
   "metadata": {},
   "outputs": [
    {
     "data": {
      "text/html": [
       "<div>\n",
       "<style scoped>\n",
       "    .dataframe tbody tr th:only-of-type {\n",
       "        vertical-align: middle;\n",
       "    }\n",
       "\n",
       "    .dataframe tbody tr th {\n",
       "        vertical-align: top;\n",
       "    }\n",
       "\n",
       "    .dataframe thead th {\n",
       "        text-align: right;\n",
       "    }\n",
       "</style>\n",
       "<table border=\"1\" class=\"dataframe\">\n",
       "  <thead>\n",
       "    <tr style=\"text-align: right;\">\n",
       "      <th></th>\n",
       "      <th>lat</th>\n",
       "      <th>lon</th>\n",
       "      <th>alt</th>\n",
       "      <th>vx</th>\n",
       "      <th>vy</th>\n",
       "      <th>vz</th>\n",
       "      <th>x</th>\n",
       "      <th>y</th>\n",
       "      <th>z</th>\n",
       "    </tr>\n",
       "    <tr>\n",
       "      <th>time</th>\n",
       "      <th></th>\n",
       "      <th></th>\n",
       "      <th></th>\n",
       "      <th></th>\n",
       "      <th></th>\n",
       "      <th></th>\n",
       "      <th></th>\n",
       "      <th></th>\n",
       "      <th></th>\n",
       "    </tr>\n",
       "  </thead>\n",
       "  <tbody>\n",
       "    <tr>\n",
       "      <th>0.140</th>\n",
       "      <td>42.724676</td>\n",
       "      <td>-84.480802</td>\n",
       "      <td>274.12</td>\n",
       "      <td>-0.01</td>\n",
       "      <td>-0.02</td>\n",
       "      <td>-0.00</td>\n",
       "      <td>0.000000</td>\n",
       "      <td>0.000000</td>\n",
       "      <td>0.000000e+00</td>\n",
       "    </tr>\n",
       "    <tr>\n",
       "      <th>0.473</th>\n",
       "      <td>42.724676</td>\n",
       "      <td>-84.480802</td>\n",
       "      <td>274.12</td>\n",
       "      <td>0.00</td>\n",
       "      <td>-0.02</td>\n",
       "      <td>-0.00</td>\n",
       "      <td>-0.011109</td>\n",
       "      <td>-0.008191</td>\n",
       "      <td>-2.696653e-10</td>\n",
       "    </tr>\n",
       "    <tr>\n",
       "      <th>0.806</th>\n",
       "      <td>42.724676</td>\n",
       "      <td>-84.480802</td>\n",
       "      <td>274.12</td>\n",
       "      <td>0.00</td>\n",
       "      <td>-0.02</td>\n",
       "      <td>-0.00</td>\n",
       "      <td>-0.022218</td>\n",
       "      <td>-0.016382</td>\n",
       "      <td>6.995199e-10</td>\n",
       "    </tr>\n",
       "    <tr>\n",
       "      <th>1.138</th>\n",
       "      <td>42.724676</td>\n",
       "      <td>-84.480802</td>\n",
       "      <td>274.11</td>\n",
       "      <td>0.00</td>\n",
       "      <td>-0.02</td>\n",
       "      <td>-0.00</td>\n",
       "      <td>-0.033328</td>\n",
       "      <td>-0.032763</td>\n",
       "      <td>-9.999998e-03</td>\n",
       "    </tr>\n",
       "    <tr>\n",
       "      <th>1.471</th>\n",
       "      <td>42.724675</td>\n",
       "      <td>-84.480802</td>\n",
       "      <td>274.11</td>\n",
       "      <td>0.00</td>\n",
       "      <td>-0.02</td>\n",
       "      <td>-0.00</td>\n",
       "      <td>-0.044437</td>\n",
       "      <td>-0.040954</td>\n",
       "      <td>-9.999999e-03</td>\n",
       "    </tr>\n",
       "    <tr>\n",
       "      <th>...</th>\n",
       "      <td>...</td>\n",
       "      <td>...</td>\n",
       "      <td>...</td>\n",
       "      <td>...</td>\n",
       "      <td>...</td>\n",
       "      <td>...</td>\n",
       "      <td>...</td>\n",
       "      <td>...</td>\n",
       "      <td>...</td>\n",
       "    </tr>\n",
       "    <tr>\n",
       "      <th>75.398</th>\n",
       "      <td>42.724638</td>\n",
       "      <td>-84.480762</td>\n",
       "      <td>275.50</td>\n",
       "      <td>1.22</td>\n",
       "      <td>-0.39</td>\n",
       "      <td>-0.20</td>\n",
       "      <td>-4.154847</td>\n",
       "      <td>3.276307</td>\n",
       "      <td>1.379998e+00</td>\n",
       "    </tr>\n",
       "    <tr>\n",
       "      <th>75.731</th>\n",
       "      <td>42.724641</td>\n",
       "      <td>-84.480763</td>\n",
       "      <td>275.55</td>\n",
       "      <td>0.92</td>\n",
       "      <td>-0.65</td>\n",
       "      <td>-0.00</td>\n",
       "      <td>-3.821570</td>\n",
       "      <td>3.137064</td>\n",
       "      <td>1.429998e+00</td>\n",
       "    </tr>\n",
       "    <tr>\n",
       "      <th>76.063</th>\n",
       "      <td>42.724644</td>\n",
       "      <td>-84.480766</td>\n",
       "      <td>275.55</td>\n",
       "      <td>0.89</td>\n",
       "      <td>-0.89</td>\n",
       "      <td>-0.01</td>\n",
       "      <td>-3.588277</td>\n",
       "      <td>2.907722</td>\n",
       "      <td>1.429998e+00</td>\n",
       "    </tr>\n",
       "    <tr>\n",
       "      <th>76.396</th>\n",
       "      <td>42.724646</td>\n",
       "      <td>-84.480770</td>\n",
       "      <td>275.60</td>\n",
       "      <td>0.79</td>\n",
       "      <td>-0.90</td>\n",
       "      <td>-0.20</td>\n",
       "      <td>-3.366093</td>\n",
       "      <td>2.621045</td>\n",
       "      <td>1.479999e+00</td>\n",
       "    </tr>\n",
       "    <tr>\n",
       "      <th>76.731</th>\n",
       "      <td>42.724648</td>\n",
       "      <td>-84.480773</td>\n",
       "      <td>275.58</td>\n",
       "      <td>0.56</td>\n",
       "      <td>-1.01</td>\n",
       "      <td>0.11</td>\n",
       "      <td>-3.132799</td>\n",
       "      <td>2.309796</td>\n",
       "      <td>1.459999e+00</td>\n",
       "    </tr>\n",
       "  </tbody>\n",
       "</table>\n",
       "<p>231 rows × 9 columns</p>\n",
       "</div>"
      ],
      "text/plain": [
       "              lat        lon     alt    vx    vy    vz         x         y  \\\n",
       "time                                                                         \n",
       "0.140   42.724676 -84.480802  274.12 -0.01 -0.02 -0.00  0.000000  0.000000   \n",
       "0.473   42.724676 -84.480802  274.12  0.00 -0.02 -0.00 -0.011109 -0.008191   \n",
       "0.806   42.724676 -84.480802  274.12  0.00 -0.02 -0.00 -0.022218 -0.016382   \n",
       "1.138   42.724676 -84.480802  274.11  0.00 -0.02 -0.00 -0.033328 -0.032763   \n",
       "1.471   42.724675 -84.480802  274.11  0.00 -0.02 -0.00 -0.044437 -0.040954   \n",
       "...           ...        ...     ...   ...   ...   ...       ...       ...   \n",
       "75.398  42.724638 -84.480762  275.50  1.22 -0.39 -0.20 -4.154847  3.276307   \n",
       "75.731  42.724641 -84.480763  275.55  0.92 -0.65 -0.00 -3.821570  3.137064   \n",
       "76.063  42.724644 -84.480766  275.55  0.89 -0.89 -0.01 -3.588277  2.907722   \n",
       "76.396  42.724646 -84.480770  275.60  0.79 -0.90 -0.20 -3.366093  2.621045   \n",
       "76.731  42.724648 -84.480773  275.58  0.56 -1.01  0.11 -3.132799  2.309796   \n",
       "\n",
       "                   z  \n",
       "time                  \n",
       "0.140   0.000000e+00  \n",
       "0.473  -2.696653e-10  \n",
       "0.806   6.995199e-10  \n",
       "1.138  -9.999998e-03  \n",
       "1.471  -9.999999e-03  \n",
       "...              ...  \n",
       "75.398  1.379998e+00  \n",
       "75.731  1.429998e+00  \n",
       "76.063  1.429998e+00  \n",
       "76.396  1.479999e+00  \n",
       "76.731  1.459999e+00  \n",
       "\n",
       "[231 rows x 9 columns]"
      ]
     },
     "execution_count": 4,
     "metadata": {},
     "output_type": "execute_result"
    }
   ],
   "source": [
    "import pymap3d as pm\n",
    "\n",
    "def geodesic_distances(lat1, lon1, alt1, lat2, lon2, alt2):\n",
    "    # In mavlink, east is y, north is x, down is z (z flipped upwards in preprocessing)\n",
    "    y, x, z = pm.geodetic2enu(lat1, lon1, alt1, lat2, lon2, alt2)\n",
    "    return x, y, z\n",
    "\n",
    "origin = df.iloc[0]\n",
    "\n",
    "df['x'], df['y'], df['z'] = geodesic_distances(\n",
    "    df['lat'], df['lon'], df['alt'], origin['lat'], origin['lon'], origin['alt']\n",
    ")\n",
    "\n",
    "df"
   ]
  },
  {
   "cell_type": "markdown",
   "metadata": {},
   "source": [
    "Run the incoming data through a moving average filter, in this case implemented via convolution. The goal of this is to remove random noise brought on by error in the GPS data. In the future, this should probably be implemented via a IIR filter for speed. To enable this functionality, set the `avg_flag` to `True`. You can also specify the pole count, which is the number of values included in the averaging operation. \n",
    "\n",
    "The problem with this implementation is there are issues with outliers in the boundaries. The higher the pole count, the more outliers in the last few values in the data will be present. This can be fixed with an IIR implementation."
   ]
  },
  {
   "cell_type": "code",
   "execution_count": 5,
   "metadata": {},
   "outputs": [
    {
     "data": {
      "text/html": [
       "<div>\n",
       "<style scoped>\n",
       "    .dataframe tbody tr th:only-of-type {\n",
       "        vertical-align: middle;\n",
       "    }\n",
       "\n",
       "    .dataframe tbody tr th {\n",
       "        vertical-align: top;\n",
       "    }\n",
       "\n",
       "    .dataframe thead th {\n",
       "        text-align: right;\n",
       "    }\n",
       "</style>\n",
       "<table border=\"1\" class=\"dataframe\">\n",
       "  <thead>\n",
       "    <tr style=\"text-align: right;\">\n",
       "      <th></th>\n",
       "      <th>lat</th>\n",
       "      <th>lon</th>\n",
       "      <th>alt</th>\n",
       "      <th>vx</th>\n",
       "      <th>vy</th>\n",
       "      <th>vz</th>\n",
       "      <th>x</th>\n",
       "      <th>y</th>\n",
       "      <th>z</th>\n",
       "    </tr>\n",
       "    <tr>\n",
       "      <th>time</th>\n",
       "      <th></th>\n",
       "      <th></th>\n",
       "      <th></th>\n",
       "      <th></th>\n",
       "      <th></th>\n",
       "      <th></th>\n",
       "      <th></th>\n",
       "      <th></th>\n",
       "      <th></th>\n",
       "    </tr>\n",
       "  </thead>\n",
       "  <tbody>\n",
       "    <tr>\n",
       "      <th>0.140</th>\n",
       "      <td>42.724676</td>\n",
       "      <td>-84.480802</td>\n",
       "      <td>274.12</td>\n",
       "      <td>-0.01</td>\n",
       "      <td>-0.02</td>\n",
       "      <td>-0.00</td>\n",
       "      <td>-0.002777</td>\n",
       "      <td>-0.002048</td>\n",
       "      <td>-6.741632e-11</td>\n",
       "    </tr>\n",
       "    <tr>\n",
       "      <th>0.473</th>\n",
       "      <td>42.724676</td>\n",
       "      <td>-84.480802</td>\n",
       "      <td>274.12</td>\n",
       "      <td>0.00</td>\n",
       "      <td>-0.02</td>\n",
       "      <td>-0.00</td>\n",
       "      <td>-0.008332</td>\n",
       "      <td>-0.006143</td>\n",
       "      <td>1.074636e-10</td>\n",
       "    </tr>\n",
       "    <tr>\n",
       "      <th>0.806</th>\n",
       "      <td>42.724676</td>\n",
       "      <td>-84.480802</td>\n",
       "      <td>274.12</td>\n",
       "      <td>0.00</td>\n",
       "      <td>-0.02</td>\n",
       "      <td>-0.00</td>\n",
       "      <td>-0.016664</td>\n",
       "      <td>-0.014334</td>\n",
       "      <td>-2.499999e-03</td>\n",
       "    </tr>\n",
       "    <tr>\n",
       "      <th>1.138</th>\n",
       "      <td>42.724676</td>\n",
       "      <td>-84.480802</td>\n",
       "      <td>274.11</td>\n",
       "      <td>0.00</td>\n",
       "      <td>-0.02</td>\n",
       "      <td>-0.00</td>\n",
       "      <td>-0.027773</td>\n",
       "      <td>-0.024572</td>\n",
       "      <td>-4.999999e-03</td>\n",
       "    </tr>\n",
       "    <tr>\n",
       "      <th>1.471</th>\n",
       "      <td>42.724675</td>\n",
       "      <td>-84.480802</td>\n",
       "      <td>274.11</td>\n",
       "      <td>0.00</td>\n",
       "      <td>-0.02</td>\n",
       "      <td>-0.00</td>\n",
       "      <td>-0.038882</td>\n",
       "      <td>-0.034811</td>\n",
       "      <td>-4.999999e-03</td>\n",
       "    </tr>\n",
       "    <tr>\n",
       "      <th>...</th>\n",
       "      <td>...</td>\n",
       "      <td>...</td>\n",
       "      <td>...</td>\n",
       "      <td>...</td>\n",
       "      <td>...</td>\n",
       "      <td>...</td>\n",
       "      <td>...</td>\n",
       "      <td>...</td>\n",
       "      <td>...</td>\n",
       "    </tr>\n",
       "    <tr>\n",
       "      <th>75.398</th>\n",
       "      <td>42.724638</td>\n",
       "      <td>-84.480762</td>\n",
       "      <td>275.50</td>\n",
       "      <td>1.22</td>\n",
       "      <td>-0.39</td>\n",
       "      <td>-0.20</td>\n",
       "      <td>-4.354813</td>\n",
       "      <td>3.307023</td>\n",
       "      <td>1.384998e+00</td>\n",
       "    </tr>\n",
       "    <tr>\n",
       "      <th>75.731</th>\n",
       "      <td>42.724641</td>\n",
       "      <td>-84.480763</td>\n",
       "      <td>275.55</td>\n",
       "      <td>0.92</td>\n",
       "      <td>-0.65</td>\n",
       "      <td>-0.00</td>\n",
       "      <td>-4.024314</td>\n",
       "      <td>3.167779</td>\n",
       "      <td>1.397498e+00</td>\n",
       "    </tr>\n",
       "    <tr>\n",
       "      <th>76.063</th>\n",
       "      <td>42.724644</td>\n",
       "      <td>-84.480766</td>\n",
       "      <td>275.55</td>\n",
       "      <td>0.89</td>\n",
       "      <td>-0.89</td>\n",
       "      <td>-0.01</td>\n",
       "      <td>-3.732697</td>\n",
       "      <td>2.985535</td>\n",
       "      <td>1.429998e+00</td>\n",
       "    </tr>\n",
       "    <tr>\n",
       "      <th>76.396</th>\n",
       "      <td>42.724646</td>\n",
       "      <td>-84.480770</td>\n",
       "      <td>275.60</td>\n",
       "      <td>0.79</td>\n",
       "      <td>-0.90</td>\n",
       "      <td>-0.20</td>\n",
       "      <td>-3.477185</td>\n",
       "      <td>2.743907</td>\n",
       "      <td>1.449998e+00</td>\n",
       "    </tr>\n",
       "    <tr>\n",
       "      <th>76.731</th>\n",
       "      <td>42.724648</td>\n",
       "      <td>-84.480773</td>\n",
       "      <td>275.58</td>\n",
       "      <td>0.56</td>\n",
       "      <td>-1.01</td>\n",
       "      <td>0.11</td>\n",
       "      <td>-2.521792</td>\n",
       "      <td>1.959641</td>\n",
       "      <td>1.092499e+00</td>\n",
       "    </tr>\n",
       "  </tbody>\n",
       "</table>\n",
       "<p>231 rows × 9 columns</p>\n",
       "</div>"
      ],
      "text/plain": [
       "              lat        lon     alt    vx    vy    vz         x         y  \\\n",
       "time                                                                         \n",
       "0.140   42.724676 -84.480802  274.12 -0.01 -0.02 -0.00 -0.002777 -0.002048   \n",
       "0.473   42.724676 -84.480802  274.12  0.00 -0.02 -0.00 -0.008332 -0.006143   \n",
       "0.806   42.724676 -84.480802  274.12  0.00 -0.02 -0.00 -0.016664 -0.014334   \n",
       "1.138   42.724676 -84.480802  274.11  0.00 -0.02 -0.00 -0.027773 -0.024572   \n",
       "1.471   42.724675 -84.480802  274.11  0.00 -0.02 -0.00 -0.038882 -0.034811   \n",
       "...           ...        ...     ...   ...   ...   ...       ...       ...   \n",
       "75.398  42.724638 -84.480762  275.50  1.22 -0.39 -0.20 -4.354813  3.307023   \n",
       "75.731  42.724641 -84.480763  275.55  0.92 -0.65 -0.00 -4.024314  3.167779   \n",
       "76.063  42.724644 -84.480766  275.55  0.89 -0.89 -0.01 -3.732697  2.985535   \n",
       "76.396  42.724646 -84.480770  275.60  0.79 -0.90 -0.20 -3.477185  2.743907   \n",
       "76.731  42.724648 -84.480773  275.58  0.56 -1.01  0.11 -2.521792  1.959641   \n",
       "\n",
       "                   z  \n",
       "time                  \n",
       "0.140  -6.741632e-11  \n",
       "0.473   1.074636e-10  \n",
       "0.806  -2.499999e-03  \n",
       "1.138  -4.999999e-03  \n",
       "1.471  -4.999999e-03  \n",
       "...              ...  \n",
       "75.398  1.384998e+00  \n",
       "75.731  1.397498e+00  \n",
       "76.063  1.429998e+00  \n",
       "76.396  1.449998e+00  \n",
       "76.731  1.092499e+00  \n",
       "\n",
       "[231 rows x 9 columns]"
      ]
     },
     "execution_count": 5,
     "metadata": {},
     "output_type": "execute_result"
    }
   ],
   "source": [
    "def moving_average(x, n=3):\n",
    "    return np.convolve(x, np.ones(n), 'same') / n\n",
    "\n",
    "avg_flag = True\n",
    "\n",
    "if avg_flag:\n",
    "\n",
    "    # Take moving average of input data:\n",
    "\n",
    "    n = 4\n",
    "\n",
    "    df['x'] = moving_average(df['x'], n)\n",
    "    df['y'] = moving_average(df['y'], n)\n",
    "    df['z'] = moving_average(df['z'], n)\n",
    "\n",
    "df"
   ]
  },
  {
   "cell_type": "markdown",
   "metadata": {},
   "source": [
    "Calculate the prediction for the next timestamp using the current position and velocity.\n",
    "\n",
    "In `df`, `x_pred`, `y_pred`, and `z_pred` are the current timestamp's predcitions for the next timestamp.\n",
    "\n",
    "In `df_shifted`, the `*_pred` columns hold last timestamp's predction for this timestamp.\n",
    "\n",
    "`df_shifted` is better for computing error metrics, and `df` is better for plotting.\n"
   ]
  },
  {
   "cell_type": "code",
   "execution_count": 6,
   "metadata": {},
   "outputs": [
    {
     "data": {
      "text/html": [
       "<div>\n",
       "<style scoped>\n",
       "    .dataframe tbody tr th:only-of-type {\n",
       "        vertical-align: middle;\n",
       "    }\n",
       "\n",
       "    .dataframe tbody tr th {\n",
       "        vertical-align: top;\n",
       "    }\n",
       "\n",
       "    .dataframe thead th {\n",
       "        text-align: right;\n",
       "    }\n",
       "</style>\n",
       "<table border=\"1\" class=\"dataframe\">\n",
       "  <thead>\n",
       "    <tr style=\"text-align: right;\">\n",
       "      <th></th>\n",
       "      <th>lat</th>\n",
       "      <th>lon</th>\n",
       "      <th>alt</th>\n",
       "      <th>vx</th>\n",
       "      <th>vy</th>\n",
       "      <th>vz</th>\n",
       "      <th>x</th>\n",
       "      <th>y</th>\n",
       "      <th>z</th>\n",
       "      <th>dt</th>\n",
       "      <th>x_pred</th>\n",
       "      <th>y_pred</th>\n",
       "      <th>z_pred</th>\n",
       "    </tr>\n",
       "    <tr>\n",
       "      <th>time</th>\n",
       "      <th></th>\n",
       "      <th></th>\n",
       "      <th></th>\n",
       "      <th></th>\n",
       "      <th></th>\n",
       "      <th></th>\n",
       "      <th></th>\n",
       "      <th></th>\n",
       "      <th></th>\n",
       "      <th></th>\n",
       "      <th></th>\n",
       "      <th></th>\n",
       "      <th></th>\n",
       "    </tr>\n",
       "  </thead>\n",
       "  <tbody>\n",
       "    <tr>\n",
       "      <th>0.140</th>\n",
       "      <td>42.724676</td>\n",
       "      <td>-84.480802</td>\n",
       "      <td>274.12</td>\n",
       "      <td>-0.01</td>\n",
       "      <td>-0.02</td>\n",
       "      <td>-0.00</td>\n",
       "      <td>-0.002777</td>\n",
       "      <td>-0.002048</td>\n",
       "      <td>-6.741632e-11</td>\n",
       "      <td>0.333</td>\n",
       "      <td>-0.006107</td>\n",
       "      <td>-0.008708</td>\n",
       "      <td>-6.741632e-11</td>\n",
       "    </tr>\n",
       "    <tr>\n",
       "      <th>0.473</th>\n",
       "      <td>42.724676</td>\n",
       "      <td>-84.480802</td>\n",
       "      <td>274.12</td>\n",
       "      <td>0.00</td>\n",
       "      <td>-0.02</td>\n",
       "      <td>-0.00</td>\n",
       "      <td>-0.008332</td>\n",
       "      <td>-0.006143</td>\n",
       "      <td>1.074636e-10</td>\n",
       "      <td>0.333</td>\n",
       "      <td>-0.008332</td>\n",
       "      <td>-0.012803</td>\n",
       "      <td>1.074636e-10</td>\n",
       "    </tr>\n",
       "    <tr>\n",
       "      <th>0.806</th>\n",
       "      <td>42.724676</td>\n",
       "      <td>-84.480802</td>\n",
       "      <td>274.12</td>\n",
       "      <td>0.00</td>\n",
       "      <td>-0.02</td>\n",
       "      <td>-0.00</td>\n",
       "      <td>-0.016664</td>\n",
       "      <td>-0.014334</td>\n",
       "      <td>-2.499999e-03</td>\n",
       "      <td>0.332</td>\n",
       "      <td>-0.016664</td>\n",
       "      <td>-0.020974</td>\n",
       "      <td>-2.499999e-03</td>\n",
       "    </tr>\n",
       "    <tr>\n",
       "      <th>1.138</th>\n",
       "      <td>42.724676</td>\n",
       "      <td>-84.480802</td>\n",
       "      <td>274.11</td>\n",
       "      <td>0.00</td>\n",
       "      <td>-0.02</td>\n",
       "      <td>-0.00</td>\n",
       "      <td>-0.027773</td>\n",
       "      <td>-0.024572</td>\n",
       "      <td>-4.999999e-03</td>\n",
       "      <td>0.333</td>\n",
       "      <td>-0.027773</td>\n",
       "      <td>-0.031232</td>\n",
       "      <td>-4.999999e-03</td>\n",
       "    </tr>\n",
       "    <tr>\n",
       "      <th>1.471</th>\n",
       "      <td>42.724675</td>\n",
       "      <td>-84.480802</td>\n",
       "      <td>274.11</td>\n",
       "      <td>0.00</td>\n",
       "      <td>-0.02</td>\n",
       "      <td>-0.00</td>\n",
       "      <td>-0.038882</td>\n",
       "      <td>-0.034811</td>\n",
       "      <td>-4.999999e-03</td>\n",
       "      <td>0.335</td>\n",
       "      <td>-0.038882</td>\n",
       "      <td>-0.041511</td>\n",
       "      <td>-4.999999e-03</td>\n",
       "    </tr>\n",
       "    <tr>\n",
       "      <th>...</th>\n",
       "      <td>...</td>\n",
       "      <td>...</td>\n",
       "      <td>...</td>\n",
       "      <td>...</td>\n",
       "      <td>...</td>\n",
       "      <td>...</td>\n",
       "      <td>...</td>\n",
       "      <td>...</td>\n",
       "      <td>...</td>\n",
       "      <td>...</td>\n",
       "      <td>...</td>\n",
       "      <td>...</td>\n",
       "      <td>...</td>\n",
       "    </tr>\n",
       "    <tr>\n",
       "      <th>75.398</th>\n",
       "      <td>42.724638</td>\n",
       "      <td>-84.480762</td>\n",
       "      <td>275.50</td>\n",
       "      <td>1.22</td>\n",
       "      <td>-0.39</td>\n",
       "      <td>-0.20</td>\n",
       "      <td>-4.354813</td>\n",
       "      <td>3.307023</td>\n",
       "      <td>1.384998e+00</td>\n",
       "      <td>0.333</td>\n",
       "      <td>-3.948553</td>\n",
       "      <td>3.177153</td>\n",
       "      <td>1.318398e+00</td>\n",
       "    </tr>\n",
       "    <tr>\n",
       "      <th>75.731</th>\n",
       "      <td>42.724641</td>\n",
       "      <td>-84.480763</td>\n",
       "      <td>275.55</td>\n",
       "      <td>0.92</td>\n",
       "      <td>-0.65</td>\n",
       "      <td>-0.00</td>\n",
       "      <td>-4.024314</td>\n",
       "      <td>3.167779</td>\n",
       "      <td>1.397498e+00</td>\n",
       "      <td>0.332</td>\n",
       "      <td>-3.718874</td>\n",
       "      <td>2.951979</td>\n",
       "      <td>1.397498e+00</td>\n",
       "    </tr>\n",
       "    <tr>\n",
       "      <th>76.063</th>\n",
       "      <td>42.724644</td>\n",
       "      <td>-84.480766</td>\n",
       "      <td>275.55</td>\n",
       "      <td>0.89</td>\n",
       "      <td>-0.89</td>\n",
       "      <td>-0.01</td>\n",
       "      <td>-3.732697</td>\n",
       "      <td>2.985535</td>\n",
       "      <td>1.429998e+00</td>\n",
       "      <td>0.333</td>\n",
       "      <td>-3.436327</td>\n",
       "      <td>2.689165</td>\n",
       "      <td>1.426668e+00</td>\n",
       "    </tr>\n",
       "    <tr>\n",
       "      <th>76.396</th>\n",
       "      <td>42.724646</td>\n",
       "      <td>-84.480770</td>\n",
       "      <td>275.60</td>\n",
       "      <td>0.79</td>\n",
       "      <td>-0.90</td>\n",
       "      <td>-0.20</td>\n",
       "      <td>-3.477185</td>\n",
       "      <td>2.743907</td>\n",
       "      <td>1.449998e+00</td>\n",
       "      <td>0.335</td>\n",
       "      <td>-3.212535</td>\n",
       "      <td>2.442407</td>\n",
       "      <td>1.382998e+00</td>\n",
       "    </tr>\n",
       "    <tr>\n",
       "      <th>76.731</th>\n",
       "      <td>42.724648</td>\n",
       "      <td>-84.480773</td>\n",
       "      <td>275.58</td>\n",
       "      <td>0.56</td>\n",
       "      <td>-1.01</td>\n",
       "      <td>0.11</td>\n",
       "      <td>-2.521792</td>\n",
       "      <td>1.959641</td>\n",
       "      <td>1.092499e+00</td>\n",
       "      <td>NaN</td>\n",
       "      <td>NaN</td>\n",
       "      <td>NaN</td>\n",
       "      <td>NaN</td>\n",
       "    </tr>\n",
       "  </tbody>\n",
       "</table>\n",
       "<p>231 rows × 13 columns</p>\n",
       "</div>"
      ],
      "text/plain": [
       "              lat        lon     alt    vx    vy    vz         x         y  \\\n",
       "time                                                                         \n",
       "0.140   42.724676 -84.480802  274.12 -0.01 -0.02 -0.00 -0.002777 -0.002048   \n",
       "0.473   42.724676 -84.480802  274.12  0.00 -0.02 -0.00 -0.008332 -0.006143   \n",
       "0.806   42.724676 -84.480802  274.12  0.00 -0.02 -0.00 -0.016664 -0.014334   \n",
       "1.138   42.724676 -84.480802  274.11  0.00 -0.02 -0.00 -0.027773 -0.024572   \n",
       "1.471   42.724675 -84.480802  274.11  0.00 -0.02 -0.00 -0.038882 -0.034811   \n",
       "...           ...        ...     ...   ...   ...   ...       ...       ...   \n",
       "75.398  42.724638 -84.480762  275.50  1.22 -0.39 -0.20 -4.354813  3.307023   \n",
       "75.731  42.724641 -84.480763  275.55  0.92 -0.65 -0.00 -4.024314  3.167779   \n",
       "76.063  42.724644 -84.480766  275.55  0.89 -0.89 -0.01 -3.732697  2.985535   \n",
       "76.396  42.724646 -84.480770  275.60  0.79 -0.90 -0.20 -3.477185  2.743907   \n",
       "76.731  42.724648 -84.480773  275.58  0.56 -1.01  0.11 -2.521792  1.959641   \n",
       "\n",
       "                   z     dt    x_pred    y_pred        z_pred  \n",
       "time                                                           \n",
       "0.140  -6.741632e-11  0.333 -0.006107 -0.008708 -6.741632e-11  \n",
       "0.473   1.074636e-10  0.333 -0.008332 -0.012803  1.074636e-10  \n",
       "0.806  -2.499999e-03  0.332 -0.016664 -0.020974 -2.499999e-03  \n",
       "1.138  -4.999999e-03  0.333 -0.027773 -0.031232 -4.999999e-03  \n",
       "1.471  -4.999999e-03  0.335 -0.038882 -0.041511 -4.999999e-03  \n",
       "...              ...    ...       ...       ...           ...  \n",
       "75.398  1.384998e+00  0.333 -3.948553  3.177153  1.318398e+00  \n",
       "75.731  1.397498e+00  0.332 -3.718874  2.951979  1.397498e+00  \n",
       "76.063  1.429998e+00  0.333 -3.436327  2.689165  1.426668e+00  \n",
       "76.396  1.449998e+00  0.335 -3.212535  2.442407  1.382998e+00  \n",
       "76.731  1.092499e+00    NaN       NaN       NaN           NaN  \n",
       "\n",
       "[231 rows x 13 columns]"
      ]
     },
     "execution_count": 6,
     "metadata": {},
     "output_type": "execute_result"
    }
   ],
   "source": [
    "# dt is the time to the next timestamp\n",
    "df['dt'] = df.index.to_series().diff().shift(-1)\n",
    "\n",
    "# Our guess for the position at the next timestamp is the current position plus the velocity times the time to the next timestamp\n",
    "df['x_pred'] = df['x'] + df['vx'] * df['dt']\n",
    "df['y_pred'] = df['y'] + df['vy'] * df['dt']\n",
    "df['z_pred'] = df['z'] + df['vz'] * df['dt']\n",
    "\n",
    "# now we need to shift the predictions forward one\n",
    "# df_shifted now has the prediction for the current timestamp from the last timestamp\n",
    "df_shifted = df.copy()\n",
    "df_shifted['x_pred'] = df['x_pred'].shift(1)\n",
    "df_shifted['y_pred'] = df['y_pred'].shift(1)\n",
    "df_shifted['z_pred'] = df['z_pred'].shift(1)"
   ]
  },
  {
   "cell_type": "markdown",
   "metadata": {},
   "source": [
    "### Results\n",
    "The table below is our guess(es) for the position at the next stamp(s). I believe these are the numbers that we'd like to feed the gimbal. "
   ]
  },
  {
   "cell_type": "code",
   "execution_count": 19,
   "metadata": {},
   "outputs": [
    {
     "data": {
      "text/html": [
       "<div>\n",
       "<style scoped>\n",
       "    .dataframe tbody tr th:only-of-type {\n",
       "        vertical-align: middle;\n",
       "    }\n",
       "\n",
       "    .dataframe tbody tr th {\n",
       "        vertical-align: top;\n",
       "    }\n",
       "\n",
       "    .dataframe thead th {\n",
       "        text-align: right;\n",
       "    }\n",
       "</style>\n",
       "<table border=\"1\" class=\"dataframe\">\n",
       "  <thead>\n",
       "    <tr style=\"text-align: right;\">\n",
       "      <th></th>\n",
       "      <th>lat</th>\n",
       "      <th>lon</th>\n",
       "      <th>alt</th>\n",
       "      <th>vx</th>\n",
       "      <th>vy</th>\n",
       "      <th>vz</th>\n",
       "      <th>x</th>\n",
       "      <th>y</th>\n",
       "      <th>z</th>\n",
       "      <th>dt</th>\n",
       "      <th>x_pred</th>\n",
       "      <th>y_pred</th>\n",
       "      <th>z_pred</th>\n",
       "      <th>error</th>\n",
       "    </tr>\n",
       "    <tr>\n",
       "      <th>time</th>\n",
       "      <th></th>\n",
       "      <th></th>\n",
       "      <th></th>\n",
       "      <th></th>\n",
       "      <th></th>\n",
       "      <th></th>\n",
       "      <th></th>\n",
       "      <th></th>\n",
       "      <th></th>\n",
       "      <th></th>\n",
       "      <th></th>\n",
       "      <th></th>\n",
       "      <th></th>\n",
       "      <th></th>\n",
       "    </tr>\n",
       "  </thead>\n",
       "  <tbody>\n",
       "    <tr>\n",
       "      <th>0.140</th>\n",
       "      <td>42.724676</td>\n",
       "      <td>-84.480802</td>\n",
       "      <td>274.12</td>\n",
       "      <td>-0.01</td>\n",
       "      <td>-0.02</td>\n",
       "      <td>-0.00</td>\n",
       "      <td>-0.002777</td>\n",
       "      <td>-0.002048</td>\n",
       "      <td>-6.741632e-11</td>\n",
       "      <td>0.333</td>\n",
       "      <td>-0.006107</td>\n",
       "      <td>-0.008708</td>\n",
       "      <td>-6.741632e-11</td>\n",
       "      <td>0.339502</td>\n",
       "    </tr>\n",
       "    <tr>\n",
       "      <th>0.473</th>\n",
       "      <td>42.724676</td>\n",
       "      <td>-84.480802</td>\n",
       "      <td>274.12</td>\n",
       "      <td>0.00</td>\n",
       "      <td>-0.02</td>\n",
       "      <td>-0.00</td>\n",
       "      <td>-0.008332</td>\n",
       "      <td>-0.006143</td>\n",
       "      <td>1.074636e-10</td>\n",
       "      <td>0.333</td>\n",
       "      <td>-0.008332</td>\n",
       "      <td>-0.012803</td>\n",
       "      <td>1.074636e-10</td>\n",
       "      <td>0.883255</td>\n",
       "    </tr>\n",
       "    <tr>\n",
       "      <th>0.806</th>\n",
       "      <td>42.724676</td>\n",
       "      <td>-84.480802</td>\n",
       "      <td>274.12</td>\n",
       "      <td>0.00</td>\n",
       "      <td>-0.02</td>\n",
       "      <td>-0.00</td>\n",
       "      <td>-0.016664</td>\n",
       "      <td>-0.014334</td>\n",
       "      <td>-2.499999e-03</td>\n",
       "      <td>0.332</td>\n",
       "      <td>-0.016664</td>\n",
       "      <td>-0.020974</td>\n",
       "      <td>-2.499999e-03</td>\n",
       "      <td>1.194209</td>\n",
       "    </tr>\n",
       "    <tr>\n",
       "      <th>1.138</th>\n",
       "      <td>42.724676</td>\n",
       "      <td>-84.480802</td>\n",
       "      <td>274.11</td>\n",
       "      <td>0.00</td>\n",
       "      <td>-0.02</td>\n",
       "      <td>-0.00</td>\n",
       "      <td>-0.027773</td>\n",
       "      <td>-0.024572</td>\n",
       "      <td>-4.999999e-03</td>\n",
       "      <td>0.333</td>\n",
       "      <td>-0.027773</td>\n",
       "      <td>-0.031232</td>\n",
       "      <td>-4.999999e-03</td>\n",
       "      <td>1.167133</td>\n",
       "    </tr>\n",
       "    <tr>\n",
       "      <th>1.471</th>\n",
       "      <td>42.724675</td>\n",
       "      <td>-84.480802</td>\n",
       "      <td>274.11</td>\n",
       "      <td>0.00</td>\n",
       "      <td>-0.02</td>\n",
       "      <td>-0.00</td>\n",
       "      <td>-0.038882</td>\n",
       "      <td>-0.034811</td>\n",
       "      <td>-4.999999e-03</td>\n",
       "      <td>0.335</td>\n",
       "      <td>-0.038882</td>\n",
       "      <td>-0.041511</td>\n",
       "      <td>-4.999999e-03</td>\n",
       "      <td>1.192415</td>\n",
       "    </tr>\n",
       "    <tr>\n",
       "      <th>...</th>\n",
       "      <td>...</td>\n",
       "      <td>...</td>\n",
       "      <td>...</td>\n",
       "      <td>...</td>\n",
       "      <td>...</td>\n",
       "      <td>...</td>\n",
       "      <td>...</td>\n",
       "      <td>...</td>\n",
       "      <td>...</td>\n",
       "      <td>...</td>\n",
       "      <td>...</td>\n",
       "      <td>...</td>\n",
       "      <td>...</td>\n",
       "      <td>...</td>\n",
       "    </tr>\n",
       "    <tr>\n",
       "      <th>75.398</th>\n",
       "      <td>42.724638</td>\n",
       "      <td>-84.480762</td>\n",
       "      <td>275.50</td>\n",
       "      <td>1.22</td>\n",
       "      <td>-0.39</td>\n",
       "      <td>-0.20</td>\n",
       "      <td>-4.354813</td>\n",
       "      <td>3.307023</td>\n",
       "      <td>1.384998e+00</td>\n",
       "      <td>0.333</td>\n",
       "      <td>-3.948553</td>\n",
       "      <td>3.177153</td>\n",
       "      <td>1.318398e+00</td>\n",
       "      <td>10.992914</td>\n",
       "    </tr>\n",
       "    <tr>\n",
       "      <th>75.731</th>\n",
       "      <td>42.724641</td>\n",
       "      <td>-84.480763</td>\n",
       "      <td>275.55</td>\n",
       "      <td>0.92</td>\n",
       "      <td>-0.65</td>\n",
       "      <td>-0.00</td>\n",
       "      <td>-4.024314</td>\n",
       "      <td>3.167779</td>\n",
       "      <td>1.397498e+00</td>\n",
       "      <td>0.332</td>\n",
       "      <td>-3.718874</td>\n",
       "      <td>2.951979</td>\n",
       "      <td>1.397498e+00</td>\n",
       "      <td>4.871658</td>\n",
       "    </tr>\n",
       "    <tr>\n",
       "      <th>76.063</th>\n",
       "      <td>42.724644</td>\n",
       "      <td>-84.480766</td>\n",
       "      <td>275.55</td>\n",
       "      <td>0.89</td>\n",
       "      <td>-0.89</td>\n",
       "      <td>-0.01</td>\n",
       "      <td>-3.732697</td>\n",
       "      <td>2.985535</td>\n",
       "      <td>1.429998e+00</td>\n",
       "      <td>0.333</td>\n",
       "      <td>-3.436327</td>\n",
       "      <td>2.689165</td>\n",
       "      <td>1.426668e+00</td>\n",
       "      <td>7.218311</td>\n",
       "    </tr>\n",
       "    <tr>\n",
       "      <th>76.396</th>\n",
       "      <td>42.724646</td>\n",
       "      <td>-84.480770</td>\n",
       "      <td>275.60</td>\n",
       "      <td>0.79</td>\n",
       "      <td>-0.90</td>\n",
       "      <td>-0.20</td>\n",
       "      <td>-3.477185</td>\n",
       "      <td>2.743907</td>\n",
       "      <td>1.449998e+00</td>\n",
       "      <td>0.335</td>\n",
       "      <td>-3.212535</td>\n",
       "      <td>2.442407</td>\n",
       "      <td>1.382998e+00</td>\n",
       "      <td>89.139121</td>\n",
       "    </tr>\n",
       "    <tr>\n",
       "      <th>76.731</th>\n",
       "      <td>42.724648</td>\n",
       "      <td>-84.480773</td>\n",
       "      <td>275.58</td>\n",
       "      <td>0.56</td>\n",
       "      <td>-1.01</td>\n",
       "      <td>0.11</td>\n",
       "      <td>-2.521792</td>\n",
       "      <td>1.959641</td>\n",
       "      <td>1.092499e+00</td>\n",
       "      <td>NaN</td>\n",
       "      <td>NaN</td>\n",
       "      <td>NaN</td>\n",
       "      <td>NaN</td>\n",
       "      <td>NaN</td>\n",
       "    </tr>\n",
       "  </tbody>\n",
       "</table>\n",
       "<p>231 rows × 14 columns</p>\n",
       "</div>"
      ],
      "text/plain": [
       "              lat        lon     alt    vx    vy    vz         x         y  \\\n",
       "time                                                                         \n",
       "0.140   42.724676 -84.480802  274.12 -0.01 -0.02 -0.00 -0.002777 -0.002048   \n",
       "0.473   42.724676 -84.480802  274.12  0.00 -0.02 -0.00 -0.008332 -0.006143   \n",
       "0.806   42.724676 -84.480802  274.12  0.00 -0.02 -0.00 -0.016664 -0.014334   \n",
       "1.138   42.724676 -84.480802  274.11  0.00 -0.02 -0.00 -0.027773 -0.024572   \n",
       "1.471   42.724675 -84.480802  274.11  0.00 -0.02 -0.00 -0.038882 -0.034811   \n",
       "...           ...        ...     ...   ...   ...   ...       ...       ...   \n",
       "75.398  42.724638 -84.480762  275.50  1.22 -0.39 -0.20 -4.354813  3.307023   \n",
       "75.731  42.724641 -84.480763  275.55  0.92 -0.65 -0.00 -4.024314  3.167779   \n",
       "76.063  42.724644 -84.480766  275.55  0.89 -0.89 -0.01 -3.732697  2.985535   \n",
       "76.396  42.724646 -84.480770  275.60  0.79 -0.90 -0.20 -3.477185  2.743907   \n",
       "76.731  42.724648 -84.480773  275.58  0.56 -1.01  0.11 -2.521792  1.959641   \n",
       "\n",
       "                   z     dt    x_pred    y_pred        z_pred      error  \n",
       "time                                                                      \n",
       "0.140  -6.741632e-11  0.333 -0.006107 -0.008708 -6.741632e-11   0.339502  \n",
       "0.473   1.074636e-10  0.333 -0.008332 -0.012803  1.074636e-10   0.883255  \n",
       "0.806  -2.499999e-03  0.332 -0.016664 -0.020974 -2.499999e-03   1.194209  \n",
       "1.138  -4.999999e-03  0.333 -0.027773 -0.031232 -4.999999e-03   1.167133  \n",
       "1.471  -4.999999e-03  0.335 -0.038882 -0.041511 -4.999999e-03   1.192415  \n",
       "...              ...    ...       ...       ...           ...        ...  \n",
       "75.398  1.384998e+00  0.333 -3.948553  3.177153  1.318398e+00  10.992914  \n",
       "75.731  1.397498e+00  0.332 -3.718874  2.951979  1.397498e+00   4.871658  \n",
       "76.063  1.429998e+00  0.333 -3.436327  2.689165  1.426668e+00   7.218311  \n",
       "76.396  1.449998e+00  0.335 -3.212535  2.442407  1.382998e+00  89.139121  \n",
       "76.731  1.092499e+00    NaN       NaN       NaN           NaN        NaN  \n",
       "\n",
       "[231 rows x 14 columns]"
      ]
     },
     "execution_count": 19,
     "metadata": {},
     "output_type": "execute_result"
    }
   ],
   "source": [
    "df"
   ]
  },
  {
   "cell_type": "markdown",
   "metadata": {},
   "source": [
    "### Error Analysis"
   ]
  },
  {
   "cell_type": "code",
   "execution_count": 7,
   "metadata": {},
   "outputs": [
    {
     "data": {
      "text/plain": [
       "time\n",
       "0.140           NaN\n",
       "0.473      0.339502\n",
       "0.806      0.883255\n",
       "1.138      1.194209\n",
       "1.471      1.167133\n",
       "            ...    \n",
       "75.398     3.556635\n",
       "75.731    10.992914\n",
       "76.063     4.871658\n",
       "76.396     7.218311\n",
       "76.731    89.139121\n",
       "Length: 231, dtype: float64"
      ]
     },
     "execution_count": 7,
     "metadata": {},
     "output_type": "execute_result"
    }
   ],
   "source": [
    "error = 100 * np.sqrt( # euclidean distance - centimeters\n",
    "    (df_shifted['x_pred'] - df_shifted['x'])**2 +\n",
    "    (df_shifted['y_pred'] - df_shifted['y'])**2 +\n",
    "    (df_shifted['z_pred'] - df_shifted['z'])**2\n",
    ")  \n",
    "error"
   ]
  },
  {
   "cell_type": "code",
   "execution_count": 8,
   "metadata": {},
   "outputs": [
    {
     "data": {
      "application/vnd.plotly.v1+json": {
       "config": {
        "plotlyServerURL": "https://plot.ly"
       },
       "data": [
        {
         "alignmentgroup": "True",
         "bingroup": "x",
         "hovertemplate": "variable=0<br>value=%{x}<br>count=%{y}<extra></extra>",
         "legendgroup": "0",
         "marker": {
          "color": "#636efa",
          "pattern": {
           "shape": ""
          }
         },
         "name": "0",
         "nbinsx": 50,
         "offsetgroup": "0",
         "orientation": "v",
         "showlegend": true,
         "type": "histogram",
         "x": [
          null,
          0.33950193981268206,
          0.8832552500873787,
          1.1942090651304955,
          1.1671331948339463,
          1.1924148232456724,
          1.2280860400714677,
          1.3970635268829623,
          1.4009983678099487,
          2.062546286886277,
          2.1940459756363677,
          1.508408596937434,
          1.9536113055273547,
          1.591353403256785,
          1.5588736055915393,
          2.070789651796398,
          2.2757288267594,
          2.4618375851760725,
          2.427006827392932,
          5.5935947796751,
          7.998496671625103,
          2.105092952283543,
          7.369189324091255,
          15.345778443529504,
          13.277665820579893,
          11.28979256318284,
          10.218989921667713,
          5.9130231404117914,
          8.746214129532412,
          7.853882501121981,
          5.985457442981685,
          3.49929351818515,
          7.781116234683504,
          10.307189134202694,
          7.0949271274803145,
          5.736138195586003,
          6.447672882670391,
          8.119153327194237,
          10.166483893169158,
          7.340289180636455,
          6.454023866540763,
          3.302050942961876,
          3.601807370186743,
          4.224936705005665,
          6.486495187123019,
          8.717195953245756,
          7.9612737214500235,
          8.482456451357487,
          16.049129466934716,
          11.901427528301497,
          10.300590129489098,
          7.626491889122841,
          4.807079671066093,
          9.390251499179032,
          6.234544151650266,
          6.118471646448344,
          7.325250283602834,
          4.5028089063802295,
          6.66314071330978,
          8.488061015056916,
          4.750042064752875,
          9.594168602394424,
          5.6486333829997175,
          5.281329425760128,
          8.567156784202789,
          5.783731292649385,
          5.538050433657699,
          4.133296994673814,
          2.318998168199312,
          4.149801140593317,
          4.693341241421508,
          4.0233619231543924,
          4.512424227425738,
          8.988395723568367,
          4.469277880441335,
          3.9735171482127782,
          8.387732979971261,
          5.851776191620997,
          7.504977728876532,
          9.56934974834162,
          5.917237463488183,
          5.944604417010025,
          3.045235074378263,
          5.786080222680199,
          3.5919310855833433,
          5.194914393950295,
          4.380104354053271,
          4.035767032540175,
          6.765505480562384,
          5.119890957092217,
          2.662331370592723,
          4.593736311671166,
          3.9252329754491506,
          7.248242875488065,
          6.4955463085479686,
          4.931346655220434,
          8.030451666356642,
          2.2022388852075543,
          2.6505894574406765,
          9.119602170123605,
          7.056468472269523,
          11.221740681054076,
          8.54921306763736,
          8.874609914805129,
          8.331937008515947,
          8.093954273144647,
          10.472046545657962,
          10.65338426076375,
          6.62343532733662,
          9.966655604204796,
          10.515258504464633,
          4.240934110663859,
          7.794079697096601,
          6.917615913668579,
          4.089702231543994,
          0.4641364812924831,
          8.114688635564598,
          1.7033399676919605,
          7.004071012742948,
          5.627335008562507,
          3.9840924830653073,
          10.763883953920471,
          7.120327557102439,
          8.406544657345542,
          9.707484883570412,
          5.510626452406429,
          4.390843375870752,
          1.5627127193554313,
          4.254917447305104,
          9.335362089247583,
          5.151211648504902,
          8.110278820040794,
          11.214650592653916,
          8.071083329232216,
          9.060912422417648,
          6.963609494631803,
          7.6431286872805035,
          8.708941481342805,
          7.161144961014256,
          11.857622793345858,
          5.280701745300814,
          5.275338983651928,
          10.930784759221174,
          5.29450511621666,
          4.780697286861059,
          5.670300212034565,
          12.251476499953538,
          6.187240606043639,
          11.754192657106197,
          12.609823605255762,
          8.171558100688287,
          9.990223315537762,
          8.606092435436892,
          3.0843009914255646,
          9.517249491677793,
          15.11851046107798,
          15.525365357233504,
          20.370382961230035,
          14.09393967167355,
          11.884787110612137,
          12.702023669507364,
          9.056829461509956,
          11.86431270850972,
          6.17432307371105,
          5.975046369045664,
          3.208519370419813,
          5.473909310242716,
          8.915909135945768,
          10.779842999692898,
          4.426118682521765,
          7.010178659543627,
          3.9884003551400564,
          10.906698479319216,
          6.1380024850643595,
          12.893232655336448,
          12.103860496528911,
          6.639528471967948,
          9.121567361479828,
          6.468674552677058,
          5.4870259651515685,
          6.160383001952402,
          6.399912750875336,
          6.325481843680601,
          5.218952398891321,
          9.49463941076955,
          8.063473149427463,
          10.361657700971703,
          3.9256085506062672,
          5.511928254012975,
          3.8681607315628224,
          10.280087538296305,
          5.922487397518666,
          2.710517016056823,
          7.891997342231297,
          4.339035561861294,
          3.632989343653481,
          5.007897434732106,
          5.627787923133802,
          8.539478291561348,
          3.1474575416272845,
          7.19494340090366,
          7.5080078341690255,
          5.273285382259929,
          5.275429169566821,
          4.874292600213281,
          3.836490343765784,
          6.839108865087358,
          5.7518714761877145,
          3.7555199520609666,
          6.50601038811628,
          2.884959531132794,
          8.393678833520354,
          9.632025190985907,
          6.921059718245825,
          5.719420872720665,
          4.410927945383089,
          5.417424302447981,
          7.8046311680013964,
          4.9463750729105245,
          2.0848090401045423,
          2.7911621217403257,
          4.005829091328345,
          4.703098945780095,
          2.7520104015365416,
          6.2952173487688485,
          7.895855904939748,
          3.556634705960697,
          10.99291413832807,
          4.871657954569358,
          7.21831078095678,
          89.13912064455711
         ],
         "xaxis": "x",
         "yaxis": "y"
        },
        {
         "alignmentgroup": "True",
         "hovertemplate": "variable=0<br>value=%{x}<extra></extra>",
         "legendgroup": "0",
         "marker": {
          "color": "#636efa"
         },
         "name": "0",
         "offsetgroup": "0",
         "scalegroup": "x",
         "showlegend": false,
         "type": "violin",
         "x": [
          null,
          0.33950193981268206,
          0.8832552500873787,
          1.1942090651304955,
          1.1671331948339463,
          1.1924148232456724,
          1.2280860400714677,
          1.3970635268829623,
          1.4009983678099487,
          2.062546286886277,
          2.1940459756363677,
          1.508408596937434,
          1.9536113055273547,
          1.591353403256785,
          1.5588736055915393,
          2.070789651796398,
          2.2757288267594,
          2.4618375851760725,
          2.427006827392932,
          5.5935947796751,
          7.998496671625103,
          2.105092952283543,
          7.369189324091255,
          15.345778443529504,
          13.277665820579893,
          11.28979256318284,
          10.218989921667713,
          5.9130231404117914,
          8.746214129532412,
          7.853882501121981,
          5.985457442981685,
          3.49929351818515,
          7.781116234683504,
          10.307189134202694,
          7.0949271274803145,
          5.736138195586003,
          6.447672882670391,
          8.119153327194237,
          10.166483893169158,
          7.340289180636455,
          6.454023866540763,
          3.302050942961876,
          3.601807370186743,
          4.224936705005665,
          6.486495187123019,
          8.717195953245756,
          7.9612737214500235,
          8.482456451357487,
          16.049129466934716,
          11.901427528301497,
          10.300590129489098,
          7.626491889122841,
          4.807079671066093,
          9.390251499179032,
          6.234544151650266,
          6.118471646448344,
          7.325250283602834,
          4.5028089063802295,
          6.66314071330978,
          8.488061015056916,
          4.750042064752875,
          9.594168602394424,
          5.6486333829997175,
          5.281329425760128,
          8.567156784202789,
          5.783731292649385,
          5.538050433657699,
          4.133296994673814,
          2.318998168199312,
          4.149801140593317,
          4.693341241421508,
          4.0233619231543924,
          4.512424227425738,
          8.988395723568367,
          4.469277880441335,
          3.9735171482127782,
          8.387732979971261,
          5.851776191620997,
          7.504977728876532,
          9.56934974834162,
          5.917237463488183,
          5.944604417010025,
          3.045235074378263,
          5.786080222680199,
          3.5919310855833433,
          5.194914393950295,
          4.380104354053271,
          4.035767032540175,
          6.765505480562384,
          5.119890957092217,
          2.662331370592723,
          4.593736311671166,
          3.9252329754491506,
          7.248242875488065,
          6.4955463085479686,
          4.931346655220434,
          8.030451666356642,
          2.2022388852075543,
          2.6505894574406765,
          9.119602170123605,
          7.056468472269523,
          11.221740681054076,
          8.54921306763736,
          8.874609914805129,
          8.331937008515947,
          8.093954273144647,
          10.472046545657962,
          10.65338426076375,
          6.62343532733662,
          9.966655604204796,
          10.515258504464633,
          4.240934110663859,
          7.794079697096601,
          6.917615913668579,
          4.089702231543994,
          0.4641364812924831,
          8.114688635564598,
          1.7033399676919605,
          7.004071012742948,
          5.627335008562507,
          3.9840924830653073,
          10.763883953920471,
          7.120327557102439,
          8.406544657345542,
          9.707484883570412,
          5.510626452406429,
          4.390843375870752,
          1.5627127193554313,
          4.254917447305104,
          9.335362089247583,
          5.151211648504902,
          8.110278820040794,
          11.214650592653916,
          8.071083329232216,
          9.060912422417648,
          6.963609494631803,
          7.6431286872805035,
          8.708941481342805,
          7.161144961014256,
          11.857622793345858,
          5.280701745300814,
          5.275338983651928,
          10.930784759221174,
          5.29450511621666,
          4.780697286861059,
          5.670300212034565,
          12.251476499953538,
          6.187240606043639,
          11.754192657106197,
          12.609823605255762,
          8.171558100688287,
          9.990223315537762,
          8.606092435436892,
          3.0843009914255646,
          9.517249491677793,
          15.11851046107798,
          15.525365357233504,
          20.370382961230035,
          14.09393967167355,
          11.884787110612137,
          12.702023669507364,
          9.056829461509956,
          11.86431270850972,
          6.17432307371105,
          5.975046369045664,
          3.208519370419813,
          5.473909310242716,
          8.915909135945768,
          10.779842999692898,
          4.426118682521765,
          7.010178659543627,
          3.9884003551400564,
          10.906698479319216,
          6.1380024850643595,
          12.893232655336448,
          12.103860496528911,
          6.639528471967948,
          9.121567361479828,
          6.468674552677058,
          5.4870259651515685,
          6.160383001952402,
          6.399912750875336,
          6.325481843680601,
          5.218952398891321,
          9.49463941076955,
          8.063473149427463,
          10.361657700971703,
          3.9256085506062672,
          5.511928254012975,
          3.8681607315628224,
          10.280087538296305,
          5.922487397518666,
          2.710517016056823,
          7.891997342231297,
          4.339035561861294,
          3.632989343653481,
          5.007897434732106,
          5.627787923133802,
          8.539478291561348,
          3.1474575416272845,
          7.19494340090366,
          7.5080078341690255,
          5.273285382259929,
          5.275429169566821,
          4.874292600213281,
          3.836490343765784,
          6.839108865087358,
          5.7518714761877145,
          3.7555199520609666,
          6.50601038811628,
          2.884959531132794,
          8.393678833520354,
          9.632025190985907,
          6.921059718245825,
          5.719420872720665,
          4.410927945383089,
          5.417424302447981,
          7.8046311680013964,
          4.9463750729105245,
          2.0848090401045423,
          2.7911621217403257,
          4.005829091328345,
          4.703098945780095,
          2.7520104015365416,
          6.2952173487688485,
          7.895855904939748,
          3.556634705960697,
          10.99291413832807,
          4.871657954569358,
          7.21831078095678,
          89.13912064455711
         ],
         "xaxis": "x2",
         "yaxis": "y2"
        }
       ],
       "layout": {
        "bargap": 0.2,
        "bargroupgap": 0.1,
        "barmode": "relative",
        "legend": {
         "title": {
          "text": "variable"
         },
         "tracegroupgap": 0
        },
        "margin": {
         "t": 60
        },
        "template": {
         "data": {
          "bar": [
           {
            "error_x": {
             "color": "#2a3f5f"
            },
            "error_y": {
             "color": "#2a3f5f"
            },
            "marker": {
             "line": {
              "color": "#E5ECF6",
              "width": 0.5
             },
             "pattern": {
              "fillmode": "overlay",
              "size": 10,
              "solidity": 0.2
             }
            },
            "type": "bar"
           }
          ],
          "barpolar": [
           {
            "marker": {
             "line": {
              "color": "#E5ECF6",
              "width": 0.5
             },
             "pattern": {
              "fillmode": "overlay",
              "size": 10,
              "solidity": 0.2
             }
            },
            "type": "barpolar"
           }
          ],
          "carpet": [
           {
            "aaxis": {
             "endlinecolor": "#2a3f5f",
             "gridcolor": "white",
             "linecolor": "white",
             "minorgridcolor": "white",
             "startlinecolor": "#2a3f5f"
            },
            "baxis": {
             "endlinecolor": "#2a3f5f",
             "gridcolor": "white",
             "linecolor": "white",
             "minorgridcolor": "white",
             "startlinecolor": "#2a3f5f"
            },
            "type": "carpet"
           }
          ],
          "choropleth": [
           {
            "colorbar": {
             "outlinewidth": 0,
             "ticks": ""
            },
            "type": "choropleth"
           }
          ],
          "contour": [
           {
            "colorbar": {
             "outlinewidth": 0,
             "ticks": ""
            },
            "colorscale": [
             [
              0,
              "#0d0887"
             ],
             [
              0.1111111111111111,
              "#46039f"
             ],
             [
              0.2222222222222222,
              "#7201a8"
             ],
             [
              0.3333333333333333,
              "#9c179e"
             ],
             [
              0.4444444444444444,
              "#bd3786"
             ],
             [
              0.5555555555555556,
              "#d8576b"
             ],
             [
              0.6666666666666666,
              "#ed7953"
             ],
             [
              0.7777777777777778,
              "#fb9f3a"
             ],
             [
              0.8888888888888888,
              "#fdca26"
             ],
             [
              1,
              "#f0f921"
             ]
            ],
            "type": "contour"
           }
          ],
          "contourcarpet": [
           {
            "colorbar": {
             "outlinewidth": 0,
             "ticks": ""
            },
            "type": "contourcarpet"
           }
          ],
          "heatmap": [
           {
            "colorbar": {
             "outlinewidth": 0,
             "ticks": ""
            },
            "colorscale": [
             [
              0,
              "#0d0887"
             ],
             [
              0.1111111111111111,
              "#46039f"
             ],
             [
              0.2222222222222222,
              "#7201a8"
             ],
             [
              0.3333333333333333,
              "#9c179e"
             ],
             [
              0.4444444444444444,
              "#bd3786"
             ],
             [
              0.5555555555555556,
              "#d8576b"
             ],
             [
              0.6666666666666666,
              "#ed7953"
             ],
             [
              0.7777777777777778,
              "#fb9f3a"
             ],
             [
              0.8888888888888888,
              "#fdca26"
             ],
             [
              1,
              "#f0f921"
             ]
            ],
            "type": "heatmap"
           }
          ],
          "heatmapgl": [
           {
            "colorbar": {
             "outlinewidth": 0,
             "ticks": ""
            },
            "colorscale": [
             [
              0,
              "#0d0887"
             ],
             [
              0.1111111111111111,
              "#46039f"
             ],
             [
              0.2222222222222222,
              "#7201a8"
             ],
             [
              0.3333333333333333,
              "#9c179e"
             ],
             [
              0.4444444444444444,
              "#bd3786"
             ],
             [
              0.5555555555555556,
              "#d8576b"
             ],
             [
              0.6666666666666666,
              "#ed7953"
             ],
             [
              0.7777777777777778,
              "#fb9f3a"
             ],
             [
              0.8888888888888888,
              "#fdca26"
             ],
             [
              1,
              "#f0f921"
             ]
            ],
            "type": "heatmapgl"
           }
          ],
          "histogram": [
           {
            "marker": {
             "pattern": {
              "fillmode": "overlay",
              "size": 10,
              "solidity": 0.2
             }
            },
            "type": "histogram"
           }
          ],
          "histogram2d": [
           {
            "colorbar": {
             "outlinewidth": 0,
             "ticks": ""
            },
            "colorscale": [
             [
              0,
              "#0d0887"
             ],
             [
              0.1111111111111111,
              "#46039f"
             ],
             [
              0.2222222222222222,
              "#7201a8"
             ],
             [
              0.3333333333333333,
              "#9c179e"
             ],
             [
              0.4444444444444444,
              "#bd3786"
             ],
             [
              0.5555555555555556,
              "#d8576b"
             ],
             [
              0.6666666666666666,
              "#ed7953"
             ],
             [
              0.7777777777777778,
              "#fb9f3a"
             ],
             [
              0.8888888888888888,
              "#fdca26"
             ],
             [
              1,
              "#f0f921"
             ]
            ],
            "type": "histogram2d"
           }
          ],
          "histogram2dcontour": [
           {
            "colorbar": {
             "outlinewidth": 0,
             "ticks": ""
            },
            "colorscale": [
             [
              0,
              "#0d0887"
             ],
             [
              0.1111111111111111,
              "#46039f"
             ],
             [
              0.2222222222222222,
              "#7201a8"
             ],
             [
              0.3333333333333333,
              "#9c179e"
             ],
             [
              0.4444444444444444,
              "#bd3786"
             ],
             [
              0.5555555555555556,
              "#d8576b"
             ],
             [
              0.6666666666666666,
              "#ed7953"
             ],
             [
              0.7777777777777778,
              "#fb9f3a"
             ],
             [
              0.8888888888888888,
              "#fdca26"
             ],
             [
              1,
              "#f0f921"
             ]
            ],
            "type": "histogram2dcontour"
           }
          ],
          "mesh3d": [
           {
            "colorbar": {
             "outlinewidth": 0,
             "ticks": ""
            },
            "type": "mesh3d"
           }
          ],
          "parcoords": [
           {
            "line": {
             "colorbar": {
              "outlinewidth": 0,
              "ticks": ""
             }
            },
            "type": "parcoords"
           }
          ],
          "pie": [
           {
            "automargin": true,
            "type": "pie"
           }
          ],
          "scatter": [
           {
            "fillpattern": {
             "fillmode": "overlay",
             "size": 10,
             "solidity": 0.2
            },
            "type": "scatter"
           }
          ],
          "scatter3d": [
           {
            "line": {
             "colorbar": {
              "outlinewidth": 0,
              "ticks": ""
             }
            },
            "marker": {
             "colorbar": {
              "outlinewidth": 0,
              "ticks": ""
             }
            },
            "type": "scatter3d"
           }
          ],
          "scattercarpet": [
           {
            "marker": {
             "colorbar": {
              "outlinewidth": 0,
              "ticks": ""
             }
            },
            "type": "scattercarpet"
           }
          ],
          "scattergeo": [
           {
            "marker": {
             "colorbar": {
              "outlinewidth": 0,
              "ticks": ""
             }
            },
            "type": "scattergeo"
           }
          ],
          "scattergl": [
           {
            "marker": {
             "colorbar": {
              "outlinewidth": 0,
              "ticks": ""
             }
            },
            "type": "scattergl"
           }
          ],
          "scattermapbox": [
           {
            "marker": {
             "colorbar": {
              "outlinewidth": 0,
              "ticks": ""
             }
            },
            "type": "scattermapbox"
           }
          ],
          "scatterpolar": [
           {
            "marker": {
             "colorbar": {
              "outlinewidth": 0,
              "ticks": ""
             }
            },
            "type": "scatterpolar"
           }
          ],
          "scatterpolargl": [
           {
            "marker": {
             "colorbar": {
              "outlinewidth": 0,
              "ticks": ""
             }
            },
            "type": "scatterpolargl"
           }
          ],
          "scatterternary": [
           {
            "marker": {
             "colorbar": {
              "outlinewidth": 0,
              "ticks": ""
             }
            },
            "type": "scatterternary"
           }
          ],
          "surface": [
           {
            "colorbar": {
             "outlinewidth": 0,
             "ticks": ""
            },
            "colorscale": [
             [
              0,
              "#0d0887"
             ],
             [
              0.1111111111111111,
              "#46039f"
             ],
             [
              0.2222222222222222,
              "#7201a8"
             ],
             [
              0.3333333333333333,
              "#9c179e"
             ],
             [
              0.4444444444444444,
              "#bd3786"
             ],
             [
              0.5555555555555556,
              "#d8576b"
             ],
             [
              0.6666666666666666,
              "#ed7953"
             ],
             [
              0.7777777777777778,
              "#fb9f3a"
             ],
             [
              0.8888888888888888,
              "#fdca26"
             ],
             [
              1,
              "#f0f921"
             ]
            ],
            "type": "surface"
           }
          ],
          "table": [
           {
            "cells": {
             "fill": {
              "color": "#EBF0F8"
             },
             "line": {
              "color": "white"
             }
            },
            "header": {
             "fill": {
              "color": "#C8D4E3"
             },
             "line": {
              "color": "white"
             }
            },
            "type": "table"
           }
          ]
         },
         "layout": {
          "annotationdefaults": {
           "arrowcolor": "#2a3f5f",
           "arrowhead": 0,
           "arrowwidth": 1
          },
          "autotypenumbers": "strict",
          "coloraxis": {
           "colorbar": {
            "outlinewidth": 0,
            "ticks": ""
           }
          },
          "colorscale": {
           "diverging": [
            [
             0,
             "#8e0152"
            ],
            [
             0.1,
             "#c51b7d"
            ],
            [
             0.2,
             "#de77ae"
            ],
            [
             0.3,
             "#f1b6da"
            ],
            [
             0.4,
             "#fde0ef"
            ],
            [
             0.5,
             "#f7f7f7"
            ],
            [
             0.6,
             "#e6f5d0"
            ],
            [
             0.7,
             "#b8e186"
            ],
            [
             0.8,
             "#7fbc41"
            ],
            [
             0.9,
             "#4d9221"
            ],
            [
             1,
             "#276419"
            ]
           ],
           "sequential": [
            [
             0,
             "#0d0887"
            ],
            [
             0.1111111111111111,
             "#46039f"
            ],
            [
             0.2222222222222222,
             "#7201a8"
            ],
            [
             0.3333333333333333,
             "#9c179e"
            ],
            [
             0.4444444444444444,
             "#bd3786"
            ],
            [
             0.5555555555555556,
             "#d8576b"
            ],
            [
             0.6666666666666666,
             "#ed7953"
            ],
            [
             0.7777777777777778,
             "#fb9f3a"
            ],
            [
             0.8888888888888888,
             "#fdca26"
            ],
            [
             1,
             "#f0f921"
            ]
           ],
           "sequentialminus": [
            [
             0,
             "#0d0887"
            ],
            [
             0.1111111111111111,
             "#46039f"
            ],
            [
             0.2222222222222222,
             "#7201a8"
            ],
            [
             0.3333333333333333,
             "#9c179e"
            ],
            [
             0.4444444444444444,
             "#bd3786"
            ],
            [
             0.5555555555555556,
             "#d8576b"
            ],
            [
             0.6666666666666666,
             "#ed7953"
            ],
            [
             0.7777777777777778,
             "#fb9f3a"
            ],
            [
             0.8888888888888888,
             "#fdca26"
            ],
            [
             1,
             "#f0f921"
            ]
           ]
          },
          "colorway": [
           "#636efa",
           "#EF553B",
           "#00cc96",
           "#ab63fa",
           "#FFA15A",
           "#19d3f3",
           "#FF6692",
           "#B6E880",
           "#FF97FF",
           "#FECB52"
          ],
          "font": {
           "color": "#2a3f5f"
          },
          "geo": {
           "bgcolor": "white",
           "lakecolor": "white",
           "landcolor": "#E5ECF6",
           "showlakes": true,
           "showland": true,
           "subunitcolor": "white"
          },
          "hoverlabel": {
           "align": "left"
          },
          "hovermode": "closest",
          "mapbox": {
           "style": "light"
          },
          "paper_bgcolor": "white",
          "plot_bgcolor": "#E5ECF6",
          "polar": {
           "angularaxis": {
            "gridcolor": "white",
            "linecolor": "white",
            "ticks": ""
           },
           "bgcolor": "#E5ECF6",
           "radialaxis": {
            "gridcolor": "white",
            "linecolor": "white",
            "ticks": ""
           }
          },
          "scene": {
           "xaxis": {
            "backgroundcolor": "#E5ECF6",
            "gridcolor": "white",
            "gridwidth": 2,
            "linecolor": "white",
            "showbackground": true,
            "ticks": "",
            "zerolinecolor": "white"
           },
           "yaxis": {
            "backgroundcolor": "#E5ECF6",
            "gridcolor": "white",
            "gridwidth": 2,
            "linecolor": "white",
            "showbackground": true,
            "ticks": "",
            "zerolinecolor": "white"
           },
           "zaxis": {
            "backgroundcolor": "#E5ECF6",
            "gridcolor": "white",
            "gridwidth": 2,
            "linecolor": "white",
            "showbackground": true,
            "ticks": "",
            "zerolinecolor": "white"
           }
          },
          "shapedefaults": {
           "line": {
            "color": "#2a3f5f"
           }
          },
          "ternary": {
           "aaxis": {
            "gridcolor": "white",
            "linecolor": "white",
            "ticks": ""
           },
           "baxis": {
            "gridcolor": "white",
            "linecolor": "white",
            "ticks": ""
           },
           "bgcolor": "#E5ECF6",
           "caxis": {
            "gridcolor": "white",
            "linecolor": "white",
            "ticks": ""
           }
          },
          "title": {
           "x": 0.05
          },
          "xaxis": {
           "automargin": true,
           "gridcolor": "white",
           "linecolor": "white",
           "ticks": "",
           "title": {
            "standoff": 15
           },
           "zerolinecolor": "white",
           "zerolinewidth": 2
          },
          "yaxis": {
           "automargin": true,
           "gridcolor": "white",
           "linecolor": "white",
           "ticks": "",
           "title": {
            "standoff": 15
           },
           "zerolinecolor": "white",
           "zerolinewidth": 2
          }
         }
        },
        "title": {
         "text": "Error in Position Prediction"
        },
        "xaxis": {
         "anchor": "y",
         "domain": [
          0,
          1
         ],
         "title": {
          "text": "Error (cm)"
         }
        },
        "xaxis2": {
         "anchor": "y2",
         "domain": [
          0,
          1
         ],
         "matches": "x",
         "showgrid": true,
         "showticklabels": false
        },
        "yaxis": {
         "anchor": "x",
         "domain": [
          0,
          0.7326
         ],
         "title": {
          "text": "Count"
         }
        },
        "yaxis2": {
         "anchor": "x2",
         "domain": [
          0.7426,
          1
         ],
         "matches": "y2",
         "showgrid": false,
         "showline": false,
         "showticklabels": false,
         "ticks": ""
        }
       }
      }
     },
     "metadata": {},
     "output_type": "display_data"
    }
   ],
   "source": [
    "fig = px.histogram(error, nbins=50, marginal=\"violin\") # or violin,)\n",
    "fig.update_layout(\n",
    "    title_text='Error in Position Prediction',\n",
    "    xaxis_title_text='Error (cm)',\n",
    "    yaxis_title_text='Count',\n",
    "    bargap=0.2,\n",
    "    bargroupgap=0.1\n",
    ")"
   ]
  },
  {
   "cell_type": "code",
   "execution_count": 9,
   "metadata": {},
   "outputs": [
    {
     "name": "stdout",
     "output_type": "stream",
     "text": [
      "95% of the error is less than 12.19 cm\n"
     ]
    }
   ],
   "source": [
    "ninefifthpercent = np.quantile(error.dropna(), 0.95)\n",
    "print(f'95% of the error is less than {ninefifthpercent:.2f} cm')"
   ]
  },
  {
   "cell_type": "code",
   "execution_count": 10,
   "metadata": {},
   "outputs": [
    {
     "name": "stdout",
     "output_type": "stream",
     "text": [
      "Average error is 6.95 cm\n"
     ]
    }
   ],
   "source": [
    "av = error.mean()\n",
    "print(f'Average error is {av:.2f} cm')"
   ]
  },
  {
   "cell_type": "code",
   "execution_count": 11,
   "metadata": {},
   "outputs": [
    {
     "name": "stdout",
     "output_type": "stream",
     "text": [
      "Standard Deviation is: 6.36 cm\n"
     ]
    }
   ],
   "source": [
    "sd = error.std()\n",
    "print(f'Standard Deviation is: {sd:.2f} cm')"
   ]
  },
  {
   "cell_type": "code",
   "execution_count": 12,
   "metadata": {},
   "outputs": [
    {
     "name": "stdout",
     "output_type": "stream",
     "text": [
      "67.97% of the error is below 15cm\n"
     ]
    }
   ],
   "source": [
    "below_15 = (error < 8).sum() / len(error)\n",
    "print(f'{below_15:.2%} of the error is below 15cm')"
   ]
  },
  {
   "cell_type": "markdown",
   "metadata": {},
   "source": [
    "Below are plots showing the locations in the telemetry streams (points), and their predicted movement to the next timestamp (lines).\n",
    "\n",
    "In a perfect system, the lines would connect to the position at the next timestamp."
   ]
  },
  {
   "cell_type": "code",
   "execution_count": 13,
   "metadata": {},
   "outputs": [
    {
     "data": {
      "application/vnd.plotly.v1+json": {
       "config": {
        "plotlyServerURL": "https://plot.ly"
       },
       "data": [
        {
         "hovertemplate": "x=%{x}<br>y=%{y}<extra></extra>",
         "legendgroup": "",
         "marker": {
          "color": "#636efa",
          "symbol": "circle"
         },
         "mode": "markers",
         "name": "",
         "orientation": "v",
         "showlegend": false,
         "type": "scatter",
         "x": [
          -0.0027773041017701986,
          -0.008331912274413038,
          -0.016663824259108267,
          -0.02777304032753148,
          -0.03888225614189801,
          -0.04999147189129271,
          -0.06110068772137897,
          -0.07498720711365575,
          -0.08609642275495744,
          -0.10276024616461193,
          -0.11942406936610597,
          -0.13053328493325578,
          -0.14719710827932692,
          -0.15830632392493765,
          -0.17219284347881725,
          -0.19163397083353056,
          -0.2138524020014138,
          -0.24162544113383636,
          -0.266621176853062,
          -0.283285002429441,
          -0.2888396156728394,
          -0.2721757993906363,
          -0.2638438985194564,
          -0.294394256025022,
          -0.4082637388604132,
          -0.6304480858119649,
          -0.9581699972351705,
          -1.3219968735419385,
          -1.6108365382350143,
          -1.749701766926348,
          -1.69137838506066,
          -1.4997443837938345,
          -1.249786978010518,
          -0.9998295616230661,
          -0.7665359563357793,
          -0.5360196371399902,
          -0.2888394789607579,
          -0.030550094494993102,
          0.213852782917758,
          0.4610329820200092,
          0.7082131998197165,
          0.9331750016846216,
          1.13314107339112,
          1.2858929826474377,
          1.3608803882137446,
          1.3692125085860058,
          1.3136666592328623,
          1.191465525073171,
          1.0081637043468394,
          0.7665384916332803,
          0.4915856092231278,
          0.18052775239853927,
          -0.16385777819218078,
          -0.5276844631290394,
          -0.9387253588820705,
          -1.3914258800807189,
          -1.8607902769734257,
          -2.3412639386953895,
          -2.821737630908921,
          -3.288324796012251,
          -3.754911970099792,
          -4.238162980704606,
          -4.7269685994683766,
          -5.2352153598390725,
          -5.749016734431235,
          -6.257263478650112,
          -6.765510207233884,
          -7.2598704040055,
          -7.7514532975456785,
          -8.24303620835881,
          -8.723509907423406,
          -9.190097104505215,
          -9.653907010638767,
          -10.10660769783939,
          -10.55375381837855,
          -11.006454557989413,
          -11.445268790655016,
          -11.87297385837979,
          -12.29512432330077,
          -12.697833688306147,
          -13.086656518709423,
          -13.467147387970641,
          -13.833751707525863,
          -14.20591059566995,
          -14.589178672371238,
          -14.983555977134845,
          -15.405706325749966,
          -15.838965900256202,
          -16.286112026719373,
          -16.741590029563294,
          -17.17484959254795,
          -17.574781501770964,
          -17.930276524834085,
          -18.227448226312035,
          -18.474628508142466,
          -18.655153527051112,
          -18.757914095556217,
          -18.78568743646,
          -18.73291890159208,
          -18.610717665651578,
          -18.421860993914834,
          -18.171903551359826,
          -17.858068049299373,
          -17.5109048747069,
          -17.147077880657495,
          -16.791582744884614,
          -16.46663797864874,
          -16.138915948779793,
          -15.811193928509558,
          -15.464030839618836,
          -15.08354006116323,
          -14.689162708079772,
          -14.264235007025892,
          -13.800425028421426,
          -13.314396664740237,
          -12.82559105852597,
          -12.353449322677884,
          -11.92852183833335,
          -11.536922023339844,
          -11.173095276667766,
          -10.834264283973607,
          -10.489878635381222,
          -10.156602188586557,
          -9.823325689912949,
          -9.476162603019173,
          -9.131776795164527,
          -8.784613636945682,
          -8.459668887454654,
          -8.179160976188736,
          -7.92364877393533,
          -7.679245803937986,
          -7.395960574533843,
          -7.054352017445263,
          -6.65997475167182,
          -6.240601784037336,
          -5.849001937403335,
          -5.507393615197728,
          -5.229663313328242,
          -4.996369917659503,
          -4.788072262634644,
          -4.5686653712087395,
          -4.318708098314038,
          -4.024313904936195,
          -3.677150878238423,
          -3.293882833168027,
          -2.893950928602827,
          -2.507905520336045,
          -2.1468558250496677,
          -1.8219110848459494,
          -1.516407467222217,
          -1.2109038408344204,
          -0.8748498689224382,
          -0.4943590341416984,
          -0.09164978570967514,
          0.29995020220965257,
          0.6193402109955035,
          0.8554110278632328,
          1.0276038007760198,
          1.163691592296137,
          1.2831155533658063,
          1.383098388673458,
          1.424757836483571,
          1.3830981558299162,
          1.2692285683462323,
          1.0859263752032071,
          0.8498554031972089,
          0.5971206173777709,
          0.34716314967543827,
          0.0999829986597503,
          -0.15275175515916276,
          -0.4332595501991054,
          -0.7554269075956312,
          -1.1109219089230653,
          -1.449753060947153,
          -1.75525653499392,
          -2.0413188441569776,
          -2.3079399932752827,
          -2.5717838243394007,
          -2.846736855576103,
          -3.1133579759329892,
          -3.3605379696015714,
          -3.5938314496547066,
          -3.7854653800393763,
          -3.935439773667828,
          -4.079859605123021,
          -4.252052531864631,
          -4.488123491050354,
          -4.796404381998555,
          -5.157454049650003,
          -5.549054036492558,
          -5.95176323866702,
          -6.360027035480339,
          -6.7655135275940985,
          -7.182109235764407,
          -7.607036844571367,
          -8.029187159963383,
          -8.459669370048234,
          -8.879042359406895,
          -9.29286075823871,
          -9.701124532822202,
          -10.101056431784349,
          -10.478769915106378,
          -10.806491918587305,
          -11.0620040182344,
          -11.200869292475527,
          -11.223087778338396,
          -11.139768664726304,
          -10.962021180622799,
          -10.728727625417946,
          -10.456551768611602,
          -10.159380181167503,
          -9.845544747141362,
          -9.528931960556246,
          -9.201209962626702,
          -8.856824107508189,
          -8.520770155978523,
          -8.173606993102911,
          -7.815334601872264,
          -7.448730315177828,
          -7.059907583186581,
          -6.659975639856102,
          -6.260043711749724,
          -5.865666389930011,
          -5.4796210269336205,
          -5.099130300265569,
          -4.721416897443834,
          -4.354812749722859,
          -4.024313580188635,
          -3.7326967001489733,
          -3.477184789162825,
          -2.5217921928353393
         ],
         "xaxis": "x",
         "y": [
          -0.0020476899123041785,
          -0.006143070020026171,
          -0.01433383076964257,
          -0.024572281706767753,
          -0.03481073296927756,
          -0.04504918428196738,
          -0.053239945444445096,
          -0.061430706360652135,
          -0.07166915767946368,
          -0.08190760928162139,
          -0.09214606034636949,
          -0.10238451169266508,
          -0.11262296313564504,
          -0.12286141457690761,
          -0.13309986606189106,
          -0.14333831768567862,
          -0.1515290792753972,
          -0.15767215052832315,
          -0.16586291254953955,
          -0.1822444372283468,
          -0.20067365507172236,
          -0.2293413288369271,
          -0.26210438775843403,
          -0.32148742833096944,
          -0.43206274219466617,
          -0.5610672807801993,
          -0.677785683059116,
          -0.7330733667316616,
          -0.6921195712974173,
          -0.5651627399963018,
          -0.3767751650551741,
          -0.1371953107152389,
          0.15971987870502186,
          0.48735040888045705,
          0.8334101341488085,
          1.191755975292259,
          1.5296248805628494,
          1.8490645409361388,
          2.166456493533347,
          2.4838484331622297,
          2.8114787983492455,
          3.153442981051447,
          3.4913117607977737,
          3.8291805312860223,
          4.16909702166567,
          4.511061238389733,
          4.861216289787428,
          5.205228356605369,
          5.536954368082733,
          5.85025126461306,
          6.136928218068318,
          6.399032924805798,
          6.634517701938085,
          6.84338252692501,
          7.015389001099654,
          7.134155585188846,
          7.205825295229726,
          7.230398116685681,
          7.222207859580186,
          7.2058267904267765,
          7.177159566752323,
          7.142349288751899,
          7.117777489252875,
          7.097301113903807,
          7.0747770505338305,
          7.070682205169698,
          7.076825815352613,
          7.082969400648867,
          7.103446846927445,
          7.1177812247181595,
          7.113686342854111,
          7.107543766814843,
          7.093210413483244,
          7.070686263784543,
          7.048162132545597,
          7.025638007250666,
          6.988780001801736,
          6.939635835365735,
          6.882300873902242,
          6.808584336081708,
          6.741010854511694,
          6.695961984303615,
          6.65910386339789,
          6.628388808832233,
          6.612007619838696,
          6.593578748155327,
          6.573102201785449,
          6.558768754035029,
          6.528053757328222,
          6.474814087823459,
          6.415431301165946,
          6.337619208035717,
          6.212710036284305,
          6.040703802601932,
          5.811362024731782,
          5.5205892927625575,
          5.192957973170031,
          4.834611144188431,
          4.468073465778718,
          4.117917309439116,
          3.8046196438951263,
          3.5609436308774054,
          3.401223140177519,
          3.3213627946117046,
          3.331601076714441,
          3.4216994905799387,
          3.540465657710657,
          3.6797087796111234,
          3.820999586951907,
          3.9336226465467337,
          4.031911799411093,
          4.126105527787711,
          4.208013054042071,
          4.27149128648104,
          4.316540258404309,
          4.322683038430465,
          4.259204222624697,
          4.124056158873371,
          3.923381911417674,
          3.6510384056675464,
          3.3582180042743315,
          3.089969944687747,
          2.86062809699579,
          2.715241704858196,
          2.6824784556217054,
          2.750052190259138,
          2.90362903332603,
          3.1432089912582923,
          3.4360289684211556,
          3.7513735538508968,
          4.070813521844398,
          4.345204193301231,
          4.523353256725976,
          4.599117649330282,
          4.57864045488547,
          4.457826358811821,
          4.259199997662847,
          4.009381380269954,
          3.7104182058660555,
          3.3848350646462295,
          3.071538090573717,
          2.8073857293471303,
          2.6149025787790103,
          2.5227563207935573,
          2.5432330909553205,
          2.6271882868481407,
          2.7664311456473483,
          2.954818582878954,
          3.16163524378134,
          3.3848334236142357,
          3.618270037482149,
          3.8373727730564537,
          4.0298554659133075,
          4.183432010903921,
          4.267387074257378,
          4.2489576650254275,
          4.126096124596927,
          3.923374707414989,
          3.6633179952627573,
          3.3725459433477893,
          3.073583131149549,
          2.768477273513126,
          2.4592760614265976,
          2.154170243324585,
          1.842921360595478,
          1.5255293983369609,
          1.2101851109205748,
          0.8927931101050794,
          0.5958779927869368,
          0.3153443761414701,
          0.03481072848003064,
          -0.2375321859379409,
          -0.5344474238555762,
          -0.8682211307379828,
          -1.2286148526080924,
          -1.6279147383280188,
          -2.0517869547805785,
          -2.471563825733141,
          -2.8688161168355872,
          -3.2210192214102586,
          -3.5117915811337186,
          -3.7370377978960874,
          -3.9049486294763183,
          -3.9950471441933746,
          -3.9909518209788004,
          -3.906996524783689,
          -3.7677535680061722,
          -3.6059860287551433,
          -3.460600045110015,
          -3.347977134399983,
          -3.251735765065173,
          -3.165732847857139,
          -3.098159161050419,
          -3.0510624068261984,
          -3.016251806548518,
          -2.9998704459665104,
          -2.995775241528284,
          -2.9671077063750477,
          -2.9015816823777856,
          -2.793054073115105,
          -2.6108094794023815,
          -2.3650863523412364,
          -2.0763616147985964,
          -1.7425875737874823,
          -1.3842411574827103,
          -1.0258947126171585,
          -0.6532143960558158,
          -0.2907725533597936,
          0.049144638446679045,
          0.3808710321718614,
          0.6798343004302272,
          0.964463683965613,
          1.236806876778322,
          1.4825300288658898,
          1.715966988537391,
          1.9494039228628939,
          2.1930792977753857,
          2.4367546443396724,
          2.666096119577771,
          2.8770083199300505,
          3.057205100856781,
          3.2107818630631852,
          3.3438816824226185,
          3.4216938096126417,
          3.429884393419043,
          3.395073443314315,
          3.307022518630739,
          3.16777932134411,
          2.9855346365198274,
          2.7439069143373653,
          1.9596409494406402
         ],
         "yaxis": "y"
        }
       ],
       "layout": {
        "annotations": [
         {
          "arrowcolor": "rgb(255,51,0)",
          "arrowhead": 3,
          "arrowwidth": 1.5,
          "ax": -0.02777304032753148,
          "axref": "x",
          "ay": -0.024572281706767753,
          "ayref": "y",
          "showarrow": true,
          "text": "",
          "x": -0.02777304032753148,
          "xref": "x",
          "y": -0.031232281706767756,
          "yref": "y"
         },
         {
          "arrowcolor": "rgb(255,51,0)",
          "arrowhead": 3,
          "arrowwidth": 1.5,
          "ax": -0.03888225614189801,
          "axref": "x",
          "ay": -0.03481073296927756,
          "ayref": "y",
          "showarrow": true,
          "text": "",
          "x": -0.03888225614189801,
          "xref": "x",
          "y": -0.041510732969277556,
          "yref": "y"
         },
         {
          "arrowcolor": "rgb(255,51,0)",
          "arrowhead": 3,
          "arrowwidth": 1.5,
          "ax": -0.04999147189129271,
          "axref": "x",
          "ay": -0.04504918428196738,
          "ayref": "y",
          "showarrow": true,
          "text": "",
          "x": -0.04999147189129271,
          "xref": "x",
          "y": -0.05168918428196738,
          "yref": "y"
         },
         {
          "arrowcolor": "rgb(255,51,0)",
          "arrowhead": 3,
          "arrowwidth": 1.5,
          "ax": -0.06110068772137897,
          "axref": "x",
          "ay": -0.053239945444445096,
          "ayref": "y",
          "showarrow": true,
          "text": "",
          "x": -0.06110068772137897,
          "xref": "x",
          "y": -0.0598999454444451,
          "yref": "y"
         },
         {
          "arrowcolor": "rgb(255,51,0)",
          "arrowhead": 3,
          "arrowwidth": 1.5,
          "ax": -0.07498720711365575,
          "axref": "x",
          "ay": -0.061430706360652135,
          "ayref": "y",
          "showarrow": true,
          "text": "",
          "x": -0.07498720711365575,
          "xref": "x",
          "y": -0.06475070636065214,
          "yref": "y"
         },
         {
          "arrowcolor": "rgb(255,51,0)",
          "arrowhead": 3,
          "arrowwidth": 1.5,
          "ax": -0.08609642275495744,
          "axref": "x",
          "ay": -0.07166915767946368,
          "ayref": "y",
          "showarrow": true,
          "text": "",
          "x": -0.08609642275495744,
          "xref": "x",
          "y": -0.07499915767946368,
          "yref": "y"
         },
         {
          "arrowcolor": "rgb(255,51,0)",
          "arrowhead": 3,
          "arrowwidth": 1.5,
          "ax": -0.10276024616461193,
          "axref": "x",
          "ay": -0.08190760928162139,
          "ayref": "y",
          "showarrow": true,
          "text": "",
          "x": -0.10276024616461193,
          "xref": "x",
          "y": -0.08525760928162139,
          "yref": "y"
         },
         {
          "arrowcolor": "rgb(255,51,0)",
          "arrowhead": 3,
          "arrowwidth": 1.5,
          "ax": -0.11942406936610597,
          "axref": "x",
          "ay": -0.09214606034636949,
          "ayref": "y",
          "showarrow": true,
          "text": "",
          "x": -0.11942406936610597,
          "xref": "x",
          "y": -0.0954660603463695,
          "yref": "y"
         },
         {
          "arrowcolor": "rgb(255,51,0)",
          "arrowhead": 3,
          "arrowwidth": 1.5,
          "ax": -0.13053328493325578,
          "axref": "x",
          "ay": -0.10238451169266508,
          "ayref": "y",
          "showarrow": true,
          "text": "",
          "x": -0.13053328493325578,
          "xref": "x",
          "y": -0.10571451169266508,
          "yref": "y"
         },
         {
          "arrowcolor": "rgb(255,51,0)",
          "arrowhead": 3,
          "arrowwidth": 1.5,
          "ax": -0.14719710827932692,
          "axref": "x",
          "ay": -0.11262296313564504,
          "ayref": "y",
          "showarrow": true,
          "text": "",
          "x": -0.14719710827932692,
          "xref": "x",
          "y": -0.11262296313564504,
          "yref": "y"
         },
         {
          "arrowcolor": "rgb(255,51,0)",
          "arrowhead": 3,
          "arrowwidth": 1.5,
          "ax": -0.15830632392493765,
          "axref": "x",
          "ay": -0.12286141457690761,
          "ayref": "y",
          "showarrow": true,
          "text": "",
          "x": -0.15830632392493765,
          "xref": "x",
          "y": -0.1262114145769076,
          "yref": "y"
         },
         {
          "arrowcolor": "rgb(255,51,0)",
          "arrowhead": 3,
          "arrowwidth": 1.5,
          "ax": -0.17219284347881725,
          "axref": "x",
          "ay": -0.13309986606189106,
          "ayref": "y",
          "showarrow": true,
          "text": "",
          "x": -0.17219284347881725,
          "xref": "x",
          "y": -0.13640986606189107,
          "yref": "y"
         },
         {
          "arrowcolor": "rgb(255,51,0)",
          "arrowhead": 3,
          "arrowwidth": 1.5,
          "ax": -0.19163397083353056,
          "axref": "x",
          "ay": -0.14333831768567862,
          "ayref": "y",
          "showarrow": true,
          "text": "",
          "x": -0.19163397083353056,
          "xref": "x",
          "y": -0.14667831768567863,
          "yref": "y"
         },
         {
          "arrowcolor": "rgb(255,51,0)",
          "arrowhead": 3,
          "arrowwidth": 1.5,
          "ax": -0.2138524020014138,
          "axref": "x",
          "ay": -0.1515290792753972,
          "ayref": "y",
          "showarrow": true,
          "text": "",
          "x": -0.2171824020014138,
          "xref": "x",
          "y": -0.1548590792753972,
          "yref": "y"
         },
         {
          "arrowcolor": "rgb(255,51,0)",
          "arrowhead": 3,
          "arrowwidth": 1.5,
          "ax": -0.24162544113383636,
          "axref": "x",
          "ay": -0.15767215052832315,
          "ayref": "y",
          "showarrow": true,
          "text": "",
          "x": -0.24495544113383635,
          "xref": "x",
          "y": -0.16433215052832315,
          "yref": "y"
         },
         {
          "arrowcolor": "rgb(255,51,0)",
          "arrowhead": 3,
          "arrowwidth": 1.5,
          "ax": -0.266621176853062,
          "axref": "x",
          "ay": -0.16586291254953955,
          "ayref": "y",
          "showarrow": true,
          "text": "",
          "x": -0.266621176853062,
          "xref": "x",
          "y": -0.17250291254953956,
          "yref": "y"
         },
         {
          "arrowcolor": "rgb(255,51,0)",
          "arrowhead": 3,
          "arrowwidth": 1.5,
          "ax": -0.283285002429441,
          "axref": "x",
          "ay": -0.1822444372283468,
          "ayref": "y",
          "showarrow": true,
          "text": "",
          "x": -0.263245002429441,
          "xref": "x",
          "y": -0.22566443722834675,
          "yref": "y"
         },
         {
          "arrowcolor": "rgb(255,51,0)",
          "arrowhead": 3,
          "arrowwidth": 1.5,
          "ax": -0.2888396156728394,
          "axref": "x",
          "ay": -0.20067365507172236,
          "ayref": "y",
          "showarrow": true,
          "text": "",
          "x": -0.27881961567283936,
          "xref": "x",
          "y": -0.21069365507172239,
          "yref": "y"
         },
         {
          "arrowcolor": "rgb(255,51,0)",
          "arrowhead": 3,
          "arrowwidth": 1.5,
          "ax": -0.2721757993906363,
          "axref": "x",
          "ay": -0.2293413288369271,
          "ayref": "y",
          "showarrow": true,
          "text": "",
          "x": -0.21905579939063632,
          "xref": "x",
          "y": -0.2891013288369271,
          "yref": "y"
         },
         {
          "arrowcolor": "rgb(255,51,0)",
          "arrowhead": 3,
          "arrowwidth": 1.5,
          "ax": -0.2638438985194564,
          "axref": "x",
          "ay": -0.26210438775843403,
          "ayref": "y",
          "showarrow": true,
          "text": "",
          "x": -0.2306438985194564,
          "xref": "x",
          "y": -0.311904387758434,
          "yref": "y"
         },
         {
          "arrowcolor": "rgb(255,51,0)",
          "arrowhead": 3,
          "arrowwidth": 1.5,
          "ax": -0.294394256025022,
          "axref": "x",
          "ay": -0.32148742833096944,
          "ayref": "y",
          "showarrow": true,
          "text": "",
          "x": -0.35100425602502205,
          "xref": "x",
          "y": -0.3847574283309695,
          "yref": "y"
         },
         {
          "arrowcolor": "rgb(255,51,0)",
          "arrowhead": 3,
          "arrowwidth": 1.5,
          "ax": -0.4082637388604132,
          "axref": "x",
          "ay": -0.43206274219466617,
          "ayref": "y",
          "showarrow": true,
          "text": "",
          "x": -0.5255137388604129,
          "xref": "x",
          "y": -0.5962127421946657,
          "yref": "y"
         },
         {
          "arrowcolor": "rgb(255,51,0)",
          "arrowhead": 3,
          "arrowwidth": 1.5,
          "ax": -0.6304480858119649,
          "axref": "x",
          "ay": -0.5610672807801993,
          "ayref": "y",
          "showarrow": true,
          "text": "",
          "x": -0.8761280858119654,
          "xref": "x",
          "y": -0.7337072807801996,
          "yref": "y"
         },
         {
          "arrowcolor": "rgb(255,51,0)",
          "arrowhead": 3,
          "arrowwidth": 1.5,
          "ax": -0.9581699972351705,
          "axref": "x",
          "ay": -0.677785683059116,
          "ayref": "y",
          "showarrow": true,
          "text": "",
          "x": -1.3610999972351707,
          "xref": "x",
          "y": -0.737725683059116,
          "yref": "y"
         },
         {
          "arrowcolor": "rgb(255,51,0)",
          "arrowhead": 3,
          "arrowwidth": 1.5,
          "ax": -1.3219968735419385,
          "axref": "x",
          "ay": -0.7330733667316616,
          "ayref": "y",
          "showarrow": true,
          "text": "",
          "x": -1.6905168735419374,
          "xref": "x",
          "y": -0.7164733667316616,
          "yref": "y"
         },
         {
          "arrowcolor": "rgb(255,51,0)",
          "arrowhead": 3,
          "arrowwidth": 1.5,
          "ax": -1.6108365382350143,
          "axref": "x",
          "ay": -0.6921195712974173,
          "ayref": "y",
          "showarrow": true,
          "text": "",
          "x": -1.8106365382350145,
          "xref": "x",
          "y": -0.5955495712974173,
          "yref": "y"
         },
         {
          "arrowcolor": "rgb(255,51,0)",
          "arrowhead": 3,
          "arrowwidth": 1.5,
          "ax": -1.749701766926348,
          "axref": "x",
          "ay": -0.5651627399963018,
          "ayref": "y",
          "showarrow": true,
          "text": "",
          "x": -1.743001766926348,
          "xref": "x",
          "y": -0.35411273999630133,
          "yref": "y"
         },
         {
          "arrowcolor": "rgb(255,51,0)",
          "arrowhead": 3,
          "arrowwidth": 1.5,
          "ax": -1.69137838506066,
          "axref": "x",
          "ay": -0.3767751650551741,
          "ayref": "y",
          "showarrow": true,
          "text": "",
          "x": -1.5054583850606607,
          "xref": "x",
          "y": -0.13109516505517488,
          "yref": "y"
         },
         {
          "arrowcolor": "rgb(255,51,0)",
          "arrowhead": 3,
          "arrowwidth": 1.5,
          "ax": -1.4997443837938345,
          "axref": "x",
          "ay": -0.1371953107152389,
          "ayref": "y",
          "showarrow": true,
          "text": "",
          "x": -1.2866243837938343,
          "xref": "x",
          "y": 0.17582468928476122,
          "yref": "y"
         },
         {
          "arrowcolor": "rgb(255,51,0)",
          "arrowhead": 3,
          "arrowwidth": 1.5,
          "ax": -1.249786978010518,
          "axref": "x",
          "ay": 0.15971987870502186,
          "ayref": "y",
          "showarrow": true,
          "text": "",
          "x": -1.0705069780105176,
          "xref": "x",
          "y": 0.5481598787050227,
          "yref": "y"
         },
         {
          "arrowcolor": "rgb(255,51,0)",
          "arrowhead": 3,
          "arrowwidth": 1.5,
          "ax": -0.9998295616230661,
          "axref": "x",
          "ay": 0.48735040888045705,
          "ayref": "y",
          "showarrow": true,
          "text": "",
          "x": -0.763399561623066,
          "xref": "x",
          "y": 0.8636404088804572,
          "yref": "y"
         },
         {
          "arrowcolor": "rgb(255,51,0)",
          "arrowhead": 3,
          "arrowwidth": 1.5,
          "ax": -0.7665359563357793,
          "axref": "x",
          "ay": 0.8334101341488085,
          "ayref": "y",
          "showarrow": true,
          "text": "",
          "x": -0.48848595633578007,
          "xref": "x",
          "y": 1.2220101341488074,
          "yref": "y"
         },
         {
          "arrowcolor": "rgb(255,51,0)",
          "arrowhead": 3,
          "arrowwidth": 1.5,
          "ax": -0.5360196371399902,
          "axref": "x",
          "ay": 1.191755975292259,
          "ayref": "y",
          "showarrow": true,
          "text": "",
          "x": -0.26377963713998964,
          "xref": "x",
          "y": 1.5835159752922598,
          "yref": "y"
         },
         {
          "arrowcolor": "rgb(255,51,0)",
          "arrowhead": 3,
          "arrowwidth": 1.5,
          "ax": -0.2888394789607579,
          "axref": "x",
          "ay": 1.5296248805628494,
          "ayref": "y",
          "showarrow": true,
          "text": "",
          "x": -0.025769478960757763,
          "xref": "x",
          "y": 1.9225648805628497,
          "yref": "y"
         },
         {
          "arrowcolor": "rgb(255,51,0)",
          "arrowhead": 3,
          "arrowwidth": 1.5,
          "ax": -0.030550094494993102,
          "axref": "x",
          "ay": 1.8490645409361388,
          "ayref": "y",
          "showarrow": true,
          "text": "",
          "x": 0.2748899055050059,
          "xref": "x",
          "y": 2.154504540936138,
          "yref": "y"
         },
         {
          "arrowcolor": "rgb(255,51,0)",
          "arrowhead": 3,
          "arrowwidth": 1.5,
          "ax": 0.213852782917758,
          "axref": "x",
          "ay": 2.166456493533347,
          "ayref": "y",
          "showarrow": true,
          "text": "",
          "x": 0.47850278291775866,
          "xref": "x",
          "y": 2.4813564935333474,
          "yref": "y"
         },
         {
          "arrowcolor": "rgb(255,51,0)",
          "arrowhead": 3,
          "arrowwidth": 1.5,
          "ax": 0.4610329820200092,
          "axref": "x",
          "ay": 2.4838484331622297,
          "ayref": "y",
          "showarrow": true,
          "text": "",
          "x": 0.6908029820200093,
          "xref": "x",
          "y": 2.84348843316223,
          "yref": "y"
         },
         {
          "arrowcolor": "rgb(255,51,0)",
          "arrowhead": 3,
          "arrowwidth": 1.5,
          "ax": 0.7082131998197165,
          "axref": "x",
          "ay": 2.8114787983492455,
          "ayref": "y",
          "showarrow": true,
          "text": "",
          "x": 0.9505731998197158,
          "xref": "x",
          "y": 3.1766787983492444,
          "yref": "y"
         },
         {
          "arrowcolor": "rgb(255,51,0)",
          "arrowhead": 3,
          "arrowwidth": 1.5,
          "ax": 0.9331750016846216,
          "axref": "x",
          "ay": 3.153442981051447,
          "ayref": "y",
          "showarrow": true,
          "text": "",
          "x": 1.148975001684622,
          "xref": "x",
          "y": 3.5053629810514475,
          "yref": "y"
         },
         {
          "arrowcolor": "rgb(255,51,0)",
          "arrowhead": 3,
          "arrowwidth": 1.5,
          "ax": 1.13314107339112,
          "axref": "x",
          "ay": 3.4913117607977737,
          "ayref": "y",
          "showarrow": true,
          "text": "",
          "x": 1.2996410733911201,
          "xref": "x",
          "y": 3.830971760797774,
          "yref": "y"
         },
         {
          "arrowcolor": "rgb(255,51,0)",
          "arrowhead": 3,
          "arrowwidth": 1.5,
          "ax": 1.2858929826474377,
          "axref": "x",
          "ay": 3.8291805312860223,
          "ayref": "y",
          "showarrow": true,
          "text": "",
          "x": 1.4131929826474374,
          "xref": "x",
          "y": 4.160830531286021,
          "yref": "y"
         },
         {
          "arrowcolor": "rgb(255,51,0)",
          "arrowhead": 3,
          "arrowwidth": 1.5,
          "ax": 1.3608803882137446,
          "axref": "x",
          "ay": 4.16909702166567,
          "ayref": "y",
          "showarrow": true,
          "text": "",
          "x": 1.4274803882137446,
          "xref": "x",
          "y": 4.5254070216656705,
          "yref": "y"
         },
         {
          "arrowcolor": "rgb(255,51,0)",
          "arrowhead": 3,
          "arrowwidth": 1.5,
          "ax": 1.3692125085860058,
          "axref": "x",
          "ay": 4.511061238389733,
          "ayref": "y",
          "showarrow": true,
          "text": "",
          "x": 1.3360125085860057,
          "xref": "x",
          "y": 4.849701238389733,
          "yref": "y"
         },
         {
          "arrowcolor": "rgb(255,51,0)",
          "arrowhead": 3,
          "arrowwidth": 1.5,
          "ax": 1.3136666592328623,
          "axref": "x",
          "ay": 4.861216289787428,
          "ayref": "y",
          "showarrow": true,
          "text": "",
          "x": 1.2472666592328625,
          "xref": "x",
          "y": 5.169976289787426,
          "yref": "y"
         },
         {
          "arrowcolor": "rgb(255,51,0)",
          "arrowhead": 3,
          "arrowwidth": 1.5,
          "ax": 1.191465525073171,
          "axref": "x",
          "ay": 5.205228356605369,
          "ayref": "y",
          "showarrow": true,
          "text": "",
          "x": 1.0948955250731705,
          "xref": "x",
          "y": 5.531568356605371,
          "yref": "y"
         },
         {
          "arrowcolor": "rgb(255,51,0)",
          "arrowhead": 3,
          "arrowwidth": 1.5,
          "ax": 1.0081637043468394,
          "axref": "x",
          "ay": 5.536954368082733,
          "ayref": "y",
          "showarrow": true,
          "text": "",
          "x": 0.8250137043468403,
          "xref": "x",
          "y": 5.8299943680827315,
          "yref": "y"
         },
         {
          "arrowcolor": "rgb(255,51,0)",
          "arrowhead": 3,
          "arrowwidth": 1.5,
          "ax": 0.7665384916332803,
          "axref": "x",
          "ay": 5.85025126461306,
          "ayref": "y",
          "showarrow": true,
          "text": "",
          "x": 0.5160384916332805,
          "xref": "x",
          "y": 6.13749126461306,
          "yref": "y"
         },
         {
          "arrowcolor": "rgb(255,51,0)",
          "arrowhead": 3,
          "arrowwidth": 1.5,
          "ax": 0.4915856092231278,
          "axref": "x",
          "ay": 6.136928218068318,
          "ayref": "y",
          "showarrow": true,
          "text": "",
          "x": 0.21519560922312614,
          "xref": "x",
          "y": 6.3766882180683195,
          "yref": "y"
         },
         {
          "arrowcolor": "rgb(255,51,0)",
          "arrowhead": 3,
          "arrowwidth": 1.5,
          "ax": 0.18052775239853927,
          "axref": "x",
          "ay": 6.399032924805798,
          "ayref": "y",
          "showarrow": true,
          "text": "",
          "x": -0.1358222476014592,
          "xref": "x",
          "y": 6.595502924805797,
          "yref": "y"
         },
         {
          "arrowcolor": "rgb(255,51,0)",
          "arrowhead": 3,
          "arrowwidth": 1.5,
          "ax": -0.16385777819218078,
          "axref": "x",
          "ay": 6.634517701938085,
          "ayref": "y",
          "showarrow": true,
          "text": "",
          "x": -0.5423377781921817,
          "xref": "x",
          "y": 6.803837701938086,
          "yref": "y"
         },
         {
          "arrowcolor": "rgb(255,51,0)",
          "arrowhead": 3,
          "arrowwidth": 1.5,
          "ax": -0.5276844631290394,
          "axref": "x",
          "ay": 6.84338252692501,
          "ayref": "y",
          "showarrow": true,
          "text": "",
          "x": -0.8806644631290377,
          "xref": "x",
          "y": 7.0032225269250095,
          "yref": "y"
         },
         {
          "arrowcolor": "rgb(255,51,0)",
          "arrowhead": 3,
          "arrowwidth": 1.5,
          "ax": -0.9387253588820705,
          "axref": "x",
          "ay": 7.015389001099654,
          "ayref": "y",
          "showarrow": true,
          "text": "",
          "x": -1.3474253588820715,
          "xref": "x",
          "y": 7.1426890010996535,
          "yref": "y"
         },
         {
          "arrowcolor": "rgb(255,51,0)",
          "arrowhead": 3,
          "arrowwidth": 1.5,
          "ax": -1.3914258800807189,
          "axref": "x",
          "ay": 7.134155585188846,
          "ayref": "y",
          "showarrow": true,
          "text": "",
          "x": -1.8628658800807198,
          "xref": "x",
          "y": 7.157395585188846,
          "yref": "y"
         },
         {
          "arrowcolor": "rgb(255,51,0)",
          "arrowhead": 3,
          "arrowwidth": 1.5,
          "ax": -1.8607902769734257,
          "axref": "x",
          "ay": 7.205825295229726,
          "ayref": "y",
          "showarrow": true,
          "text": "",
          "x": -2.310340276973424,
          "xref": "x",
          "y": 7.205825295229726,
          "yref": "y"
         },
         {
          "arrowcolor": "rgb(255,51,0)",
          "arrowhead": 3,
          "arrowwidth": 1.5,
          "ax": -2.3412639386953895,
          "axref": "x",
          "ay": 7.230398116685681,
          "ayref": "y",
          "showarrow": true,
          "text": "",
          "x": -2.7629039386953904,
          "xref": "x",
          "y": 7.20715811668568,
          "yref": "y"
         },
         {
          "arrowcolor": "rgb(255,51,0)",
          "arrowhead": 3,
          "arrowwidth": 1.5,
          "ax": -2.821737630908921,
          "axref": "x",
          "ay": 7.222207859580186,
          "ayref": "y",
          "showarrow": true,
          "text": "",
          "x": -3.2546376309089236,
          "xref": "x",
          "y": 7.1522778595801855,
          "yref": "y"
         },
         {
          "arrowcolor": "rgb(255,51,0)",
          "arrowhead": 3,
          "arrowwidth": 1.5,
          "ax": -3.288324796012251,
          "axref": "x",
          "ay": 7.2058267904267765,
          "ayref": "y",
          "showarrow": true,
          "text": "",
          "x": -3.7238247960122477,
          "xref": "x",
          "y": 7.152226790426777,
          "yref": "y"
         },
         {
          "arrowcolor": "rgb(255,51,0)",
          "arrowhead": 3,
          "arrowwidth": 1.5,
          "ax": -3.754911970099792,
          "axref": "x",
          "ay": 7.177159566752323,
          "ayref": "y",
          "showarrow": true,
          "text": "",
          "x": -4.199791970099793,
          "xref": "x",
          "y": 7.143959566752323,
          "yref": "y"
         },
         {
          "arrowcolor": "rgb(255,51,0)",
          "arrowhead": 3,
          "arrowwidth": 1.5,
          "ax": -4.238162980704606,
          "axref": "x",
          "ay": 7.142349288751899,
          "ayref": "y",
          "showarrow": true,
          "text": "",
          "x": -4.701032980704609,
          "xref": "x",
          "y": 7.092399288751899,
          "yref": "y"
         },
         {
          "arrowcolor": "rgb(255,51,0)",
          "arrowhead": 3,
          "arrowwidth": 1.5,
          "ax": -4.7269685994683766,
          "axref": "x",
          "ay": 7.117777489252875,
          "ayref": "y",
          "showarrow": true,
          "text": "",
          "x": -5.1851285994683725,
          "xref": "x",
          "y": 7.094537489252875,
          "yref": "y"
         },
         {
          "arrowcolor": "rgb(255,51,0)",
          "arrowhead": 3,
          "arrowwidth": 1.5,
          "ax": -5.2352153598390725,
          "axref": "x",
          "ay": 7.097301113903807,
          "ayref": "y",
          "showarrow": true,
          "text": "",
          "x": -5.7176153598390735,
          "xref": "x",
          "y": 7.107351113903807,
          "yref": "y"
         },
         {
          "arrowcolor": "rgb(255,51,0)",
          "arrowhead": 3,
          "arrowwidth": 1.5,
          "ax": -5.749016734431235,
          "axref": "x",
          "ay": 7.0747770505338305,
          "ayref": "y",
          "showarrow": true,
          "text": "",
          "x": -6.225206734431238,
          "xref": "x",
          "y": 7.05146705053383,
          "yref": "y"
         },
         {
          "arrowcolor": "rgb(255,51,0)",
          "arrowhead": 3,
          "arrowwidth": 1.5,
          "ax": -6.257263478650112,
          "axref": "x",
          "ay": 7.070682205169698,
          "ayref": "y",
          "showarrow": true,
          "text": "",
          "x": -6.735343478650107,
          "xref": "x",
          "y": 7.077322205169698,
          "yref": "y"
         },
         {
          "arrowcolor": "rgb(255,51,0)",
          "arrowhead": 3,
          "arrowwidth": 1.5,
          "ax": -6.765510207233884,
          "axref": "x",
          "ay": 7.076825815352613,
          "ayref": "y",
          "showarrow": true,
          "text": "",
          "x": -7.273470207233886,
          "xref": "x",
          "y": 7.096745815352613,
          "yref": "y"
         },
         {
          "arrowcolor": "rgb(255,51,0)",
          "arrowhead": 3,
          "arrowwidth": 1.5,
          "ax": -7.2598704040055,
          "axref": "x",
          "ay": 7.082969400648867,
          "ayref": "y",
          "showarrow": true,
          "text": "",
          "x": -7.752710404005503,
          "xref": "x",
          "y": 7.082969400648867,
          "yref": "y"
         },
         {
          "arrowcolor": "rgb(255,51,0)",
          "arrowhead": 3,
          "arrowwidth": 1.5,
          "ax": -7.7514532975456785,
          "axref": "x",
          "ay": 7.103446846927445,
          "ayref": "y",
          "showarrow": true,
          "text": "",
          "x": -8.220453297545674,
          "xref": "x",
          "y": 7.126896846927445,
          "yref": "y"
         },
         {
          "arrowcolor": "rgb(255,51,0)",
          "arrowhead": 3,
          "arrowwidth": 1.5,
          "ax": -8.24303620835881,
          "axref": "x",
          "ay": 7.1177812247181595,
          "ayref": "y",
          "showarrow": true,
          "text": "",
          "x": -8.75763620835881,
          "xref": "x",
          "y": 7.1443412247181595,
          "yref": "y"
         },
         {
          "arrowcolor": "rgb(255,51,0)",
          "arrowhead": 3,
          "arrowwidth": 1.5,
          "ax": -8.723509907423406,
          "axref": "x",
          "ay": 7.113686342854111,
          "ayref": "y",
          "showarrow": true,
          "text": "",
          "x": -9.213019907423408,
          "xref": "x",
          "y": 7.113686342854111,
          "yref": "y"
         },
         {
          "arrowcolor": "rgb(255,51,0)",
          "arrowhead": 3,
          "arrowwidth": 1.5,
          "ax": -9.190097104505215,
          "axref": "x",
          "ay": 7.107543766814843,
          "ayref": "y",
          "showarrow": true,
          "text": "",
          "x": -9.63165710450521,
          "xref": "x",
          "y": 7.127463766814843,
          "yref": "y"
         },
         {
          "arrowcolor": "rgb(255,51,0)",
          "arrowhead": 3,
          "arrowwidth": 1.5,
          "ax": -9.653907010638767,
          "axref": "x",
          "ay": 7.093210413483244,
          "ayref": "y",
          "showarrow": true,
          "text": "",
          "x": -10.106787010638769,
          "xref": "x",
          "y": 7.146490413483244,
          "yref": "y"
         },
         {
          "arrowcolor": "rgb(255,51,0)",
          "arrowhead": 3,
          "arrowwidth": 1.5,
          "ax": -10.10660769783939,
          "axref": "x",
          "ay": 7.070686263784543,
          "ayref": "y",
          "showarrow": true,
          "text": "",
          "x": -10.552827697839389,
          "xref": "x",
          "y": 7.084006263784543,
          "yref": "y"
         },
         {
          "arrowcolor": "rgb(255,51,0)",
          "arrowhead": 3,
          "arrowwidth": 1.5,
          "ax": -10.55375381837855,
          "axref": "x",
          "ay": 7.048162132545597,
          "ayref": "y",
          "showarrow": true,
          "text": "",
          "x": -10.984613818378548,
          "xref": "x",
          "y": 7.054842132545597,
          "yref": "y"
         },
         {
          "arrowcolor": "rgb(255,51,0)",
          "arrowhead": 3,
          "arrowwidth": 1.5,
          "ax": -11.006454557989413,
          "axref": "x",
          "ay": 7.025638007250666,
          "ayref": "y",
          "showarrow": true,
          "text": "",
          "x": -11.439354557989414,
          "xref": "x",
          "y": 7.062268007250666,
          "yref": "y"
         },
         {
          "arrowcolor": "rgb(255,51,0)",
          "arrowhead": 3,
          "arrowwidth": 1.5,
          "ax": -11.445268790655016,
          "axref": "x",
          "ay": 6.988780001801736,
          "ayref": "y",
          "showarrow": true,
          "text": "",
          "x": -11.861518790655014,
          "xref": "x",
          "y": 6.995440001801736,
          "yref": "y"
         },
         {
          "arrowcolor": "rgb(255,51,0)",
          "arrowhead": 3,
          "arrowwidth": 1.5,
          "ax": -11.87297385837979,
          "axref": "x",
          "ay": 6.939635835365735,
          "ayref": "y",
          "showarrow": true,
          "text": "",
          "x": -12.301253858379791,
          "xref": "x",
          "y": 6.932995835365735,
          "yref": "y"
         },
         {
          "arrowcolor": "rgb(255,51,0)",
          "arrowhead": 3,
          "arrowwidth": 1.5,
          "ax": -12.29512432330077,
          "axref": "x",
          "ay": 6.882300873902242,
          "ayref": "y",
          "showarrow": true,
          "text": "",
          "x": -12.694724323300774,
          "xref": "x",
          "y": 6.885630873902242,
          "yref": "y"
         },
         {
          "arrowcolor": "rgb(255,51,0)",
          "arrowhead": 3,
          "arrowwidth": 1.5,
          "ax": -12.697833688306147,
          "axref": "x",
          "ay": 6.808584336081708,
          "ayref": "y",
          "showarrow": true,
          "text": "",
          "x": -13.103183688306144,
          "xref": "x",
          "y": 6.791834336081708,
          "yref": "y"
         },
         {
          "arrowcolor": "rgb(255,51,0)",
          "arrowhead": 3,
          "arrowwidth": 1.5,
          "ax": -13.086656518709423,
          "axref": "x",
          "ay": 6.741010854511694,
          "ayref": "y",
          "showarrow": true,
          "text": "",
          "x": -13.498336518709424,
          "xref": "x",
          "y": 6.687890854511694,
          "yref": "y"
         },
         {
          "arrowcolor": "rgb(255,51,0)",
          "arrowhead": 3,
          "arrowwidth": 1.5,
          "ax": -13.467147387970641,
          "axref": "x",
          "ay": 6.695961984303615,
          "ayref": "y",
          "showarrow": true,
          "text": "",
          "x": -13.856757387970644,
          "xref": "x",
          "y": 6.6593319843036145,
          "yref": "y"
         },
         {
          "arrowcolor": "rgb(255,51,0)",
          "arrowhead": 3,
          "arrowwidth": 1.5,
          "ax": -13.833751707525863,
          "axref": "x",
          "ay": 6.65910386339789,
          "ayref": "y",
          "showarrow": true,
          "text": "",
          "x": -14.21223170752586,
          "xref": "x",
          "y": 6.622583863397891,
          "yref": "y"
         },
         {
          "arrowcolor": "rgb(255,51,0)",
          "arrowhead": 3,
          "arrowwidth": 1.5,
          "ax": -14.20591059566995,
          "axref": "x",
          "ay": 6.628388808832233,
          "ayref": "y",
          "showarrow": true,
          "text": "",
          "x": -14.595520595669953,
          "xref": "x",
          "y": 6.5817688088322335,
          "yref": "y"
         },
         {
          "arrowcolor": "rgb(255,51,0)",
          "arrowhead": 3,
          "arrowwidth": 1.5,
          "ax": -14.589178672371238,
          "axref": "x",
          "ay": 6.612007619838696,
          "ayref": "y",
          "showarrow": true,
          "text": "",
          "x": -14.967728672371239,
          "xref": "x",
          "y": 6.595257619838696,
          "yref": "y"
         },
         {
          "arrowcolor": "rgb(255,51,0)",
          "arrowhead": 3,
          "arrowwidth": 1.5,
          "ax": -14.983555977134845,
          "axref": "x",
          "ay": 6.593578748155327,
          "ayref": "y",
          "showarrow": true,
          "text": "",
          "x": -15.375315977134841,
          "xref": "x",
          "y": 6.6035387481553265,
          "yref": "y"
         },
         {
          "arrowcolor": "rgb(255,51,0)",
          "arrowhead": 3,
          "arrowwidth": 1.5,
          "ax": -15.405706325749966,
          "axref": "x",
          "ay": 6.573102201785449,
          "ayref": "y",
          "showarrow": true,
          "text": "",
          "x": -15.81196632574997,
          "xref": "x",
          "y": 6.559782201785449,
          "yref": "y"
         },
         {
          "arrowcolor": "rgb(255,51,0)",
          "arrowhead": 3,
          "arrowwidth": 1.5,
          "ax": -15.838965900256202,
          "axref": "x",
          "ay": 6.558768754035029,
          "ayref": "y",
          "showarrow": true,
          "text": "",
          "x": -16.247325900256204,
          "xref": "x",
          "y": 6.548808754035028,
          "yref": "y"
         },
         {
          "arrowcolor": "rgb(255,51,0)",
          "arrowhead": 3,
          "arrowwidth": 1.5,
          "ax": -16.286112026719373,
          "axref": "x",
          "ay": 6.528053757328222,
          "ayref": "y",
          "showarrow": true,
          "text": "",
          "x": -16.72161202671937,
          "xref": "x",
          "y": 6.521353757328222,
          "yref": "y"
         },
         {
          "arrowcolor": "rgb(255,51,0)",
          "arrowhead": 3,
          "arrowwidth": 1.5,
          "ax": -16.741590029563294,
          "axref": "x",
          "ay": 6.474814087823459,
          "ayref": "y",
          "showarrow": true,
          "text": "",
          "x": -17.158650029563297,
          "xref": "x",
          "y": 6.428474087823458,
          "yref": "y"
         },
         {
          "arrowcolor": "rgb(255,51,0)",
          "arrowhead": 3,
          "arrowwidth": 1.5,
          "ax": -17.17484959254795,
          "axref": "x",
          "ay": 6.415431301165946,
          "ayref": "y",
          "showarrow": true,
          "text": "",
          "x": -17.60236959254795,
          "xref": "x",
          "y": 6.3486313011659465,
          "yref": "y"
         },
         {
          "arrowcolor": "rgb(255,51,0)",
          "arrowhead": 3,
          "arrowwidth": 1.5,
          "ax": -17.574781501770964,
          "axref": "x",
          "ay": 6.337619208035717,
          "ayref": "y",
          "showarrow": true,
          "text": "",
          "x": -17.94662150177096,
          "xref": "x",
          "y": 6.244659208035718,
          "yref": "y"
         },
         {
          "arrowcolor": "rgb(255,51,0)",
          "arrowhead": 3,
          "arrowwidth": 1.5,
          "ax": -17.930276524834085,
          "axref": "x",
          "ay": 6.212710036284305,
          "ayref": "y",
          "showarrow": true,
          "text": "",
          "x": -18.260936524834086,
          "xref": "x",
          "y": 6.039030036284303,
          "yref": "y"
         },
         {
          "arrowcolor": "rgb(255,51,0)",
          "arrowhead": 3,
          "arrowwidth": 1.5,
          "ax": -18.227448226312035,
          "axref": "x",
          "ay": 6.040703802601932,
          "ayref": "y",
          "showarrow": true,
          "text": "",
          "x": -18.518028226312033,
          "xref": "x",
          "y": 5.773503802601932,
          "yref": "y"
         },
         {
          "arrowcolor": "rgb(255,51,0)",
          "arrowhead": 3,
          "arrowwidth": 1.5,
          "ax": -18.474628508142466,
          "axref": "x",
          "ay": 5.811362024731782,
          "ayref": "y",
          "showarrow": true,
          "text": "",
          "x": -18.703708508142466,
          "xref": "x",
          "y": 5.529162024731784,
          "yref": "y"
         },
         {
          "arrowcolor": "rgb(255,51,0)",
          "arrowhead": 3,
          "arrowwidth": 1.5,
          "ax": -18.655153527051112,
          "axref": "x",
          "ay": 5.5205892927625575,
          "ayref": "y",
          "showarrow": true,
          "text": "",
          "x": -18.785413527051112,
          "xref": "x",
          "y": 5.186589292762554,
          "yref": "y"
         },
         {
          "arrowcolor": "rgb(255,51,0)",
          "arrowhead": 3,
          "arrowwidth": 1.5,
          "ax": -18.757914095556217,
          "axref": "x",
          "ay": 5.192957973170031,
          "ayref": "y",
          "showarrow": true,
          "text": "",
          "x": -18.767844095556217,
          "xref": "x",
          "y": 4.8255479731700355,
          "yref": "y"
         },
         {
          "arrowcolor": "rgb(255,51,0)",
          "arrowhead": 3,
          "arrowwidth": 1.5,
          "ax": -18.78568743646,
          "axref": "x",
          "ay": 4.834611144188431,
          "ayref": "y",
          "showarrow": true,
          "text": "",
          "x": -18.72241743646,
          "xref": "x",
          "y": 4.464981144188425,
          "yref": "y"
         },
         {
          "arrowcolor": "rgb(255,51,0)",
          "arrowhead": 3,
          "arrowwidth": 1.5,
          "ax": -18.73291890159208,
          "axref": "x",
          "ay": 4.468073465778718,
          "ayref": "y",
          "showarrow": true,
          "text": "",
          "x": -18.56308890159208,
          "xref": "x",
          "y": 4.12508346577872,
          "yref": "y"
         },
         {
          "arrowcolor": "rgb(255,51,0)",
          "arrowhead": 3,
          "arrowwidth": 1.5,
          "ax": -18.610717665651578,
          "axref": "x",
          "ay": 4.117917309439116,
          "ayref": "y",
          "showarrow": true,
          "text": "",
          "x": -18.35353766565158,
          "xref": "x",
          "y": 3.80729730943912,
          "yref": "y"
         },
         {
          "arrowcolor": "rgb(255,51,0)",
          "arrowhead": 3,
          "arrowwidth": 1.5,
          "ax": -18.421860993914834,
          "axref": "x",
          "ay": 3.8046196438951263,
          "ayref": "y",
          "showarrow": true,
          "text": "",
          "x": -18.11217099391483,
          "xref": "x",
          "y": 3.558199643895122,
          "yref": "y"
         },
         {
          "arrowcolor": "rgb(255,51,0)",
          "arrowhead": 3,
          "arrowwidth": 1.5,
          "ax": -18.171903551359826,
          "axref": "x",
          "ay": 3.5609436308774054,
          "ayref": "y",
          "showarrow": true,
          "text": "",
          "x": -17.79561355135983,
          "xref": "x",
          "y": 3.391113630877406,
          "yref": "y"
         },
         {
          "arrowcolor": "rgb(255,51,0)",
          "arrowhead": 3,
          "arrowwidth": 1.5,
          "ax": -17.858068049299373,
          "axref": "x",
          "ay": 3.401223140177519,
          "ayref": "y",
          "showarrow": true,
          "text": "",
          "x": -17.429788049299372,
          "xref": "x",
          "y": 3.3547431401775185,
          "yref": "y"
         },
         {
          "arrowcolor": "rgb(255,51,0)",
          "arrowhead": 3,
          "arrowwidth": 1.5,
          "ax": -17.5109048747069,
          "axref": "x",
          "ay": 3.3213627946117046,
          "ayref": "y",
          "showarrow": true,
          "text": "",
          "x": -17.0946548747069,
          "xref": "x",
          "y": 3.3579927946117043,
          "yref": "y"
         },
         {
          "arrowcolor": "rgb(255,51,0)",
          "arrowhead": 3,
          "arrowwidth": 1.5,
          "ax": -17.147077880657495,
          "axref": "x",
          "ay": 3.331601076714441,
          "ayref": "y",
          "showarrow": true,
          "text": "",
          "x": -16.711577880657494,
          "xref": "x",
          "y": 3.4321010767144413,
          "yref": "y"
         },
         {
          "arrowcolor": "rgb(255,51,0)",
          "arrowhead": 3,
          "arrowwidth": 1.5,
          "ax": -16.791582744884614,
          "axref": "x",
          "ay": 3.4216994905799387,
          "ayref": "y",
          "showarrow": true,
          "text": "",
          "x": -16.399822744884613,
          "xref": "x",
          "y": 3.620899490579939,
          "yref": "y"
         },
         {
          "arrowcolor": "rgb(255,51,0)",
          "arrowhead": 3,
          "arrowwidth": 1.5,
          "ax": -16.46663797864874,
          "axref": "x",
          "ay": 3.540465657710657,
          "ayref": "y",
          "showarrow": true,
          "text": "",
          "x": -16.110327978648744,
          "xref": "x",
          "y": 3.7669056577106557,
          "yref": "y"
         },
         {
          "arrowcolor": "rgb(255,51,0)",
          "arrowhead": 3,
          "arrowwidth": 1.5,
          "ax": -16.138915948779793,
          "axref": "x",
          "ay": 3.6797087796111234,
          "ayref": "y",
          "showarrow": true,
          "text": "",
          "x": -15.763755948779792,
          "xref": "x",
          "y": 3.8623087796111237,
          "yref": "y"
         },
         {
          "arrowcolor": "rgb(255,51,0)",
          "arrowhead": 3,
          "arrowwidth": 1.5,
          "ax": -15.811193928509558,
          "axref": "x",
          "ay": 3.820999586951907,
          "ayref": "y",
          "showarrow": true,
          "text": "",
          "x": -15.431573928509561,
          "xref": "x",
          "y": 4.020799586951906,
          "yref": "y"
         },
         {
          "arrowcolor": "rgb(255,51,0)",
          "arrowhead": 3,
          "arrowwidth": 1.5,
          "ax": -15.464030839618836,
          "axref": "x",
          "ay": 3.9336226465467337,
          "ayref": "y",
          "showarrow": true,
          "text": "",
          "x": -15.062030839618835,
          "xref": "x",
          "y": 4.134622646546735,
          "yref": "y"
         },
         {
          "arrowcolor": "rgb(255,51,0)",
          "arrowhead": 3,
          "arrowwidth": 1.5,
          "ax": -15.08354006116323,
          "axref": "x",
          "ay": 4.031911799411093,
          "ayref": "y",
          "showarrow": true,
          "text": "",
          "x": -14.705060061163229,
          "xref": "x",
          "y": 4.161391799411093,
          "yref": "y"
         },
         {
          "arrowcolor": "rgb(255,51,0)",
          "arrowhead": 3,
          "arrowwidth": 1.5,
          "ax": -14.689162708079772,
          "axref": "x",
          "ay": 4.126105527787711,
          "ayref": "y",
          "showarrow": true,
          "text": "",
          "x": -14.299552708079775,
          "xref": "x",
          "y": 4.23266552778771,
          "yref": "y"
         },
         {
          "arrowcolor": "rgb(255,51,0)",
          "arrowhead": 3,
          "arrowwidth": 1.5,
          "ax": -14.264235007025892,
          "axref": "x",
          "ay": 4.208013054042071,
          "ayref": "y",
          "showarrow": true,
          "text": "",
          "x": -13.82931500702589,
          "xref": "x",
          "y": 4.320893054042071,
          "yref": "y"
         },
         {
          "arrowcolor": "rgb(255,51,0)",
          "arrowhead": 3,
          "arrowwidth": 1.5,
          "ax": -13.800425028421426,
          "axref": "x",
          "ay": 4.27149128648104,
          "ayref": "y",
          "showarrow": true,
          "text": "",
          "x": -13.354875028421425,
          "xref": "x",
          "y": 4.31169128648104,
          "yref": "y"
         },
         {
          "arrowcolor": "rgb(255,51,0)",
          "arrowhead": 3,
          "arrowwidth": 1.5,
          "ax": -13.314396664740237,
          "axref": "x",
          "ay": 4.316540258404309,
          "ayref": "y",
          "showarrow": true,
          "text": "",
          "x": -12.824886664740239,
          "xref": "x",
          "y": 4.3265302584043095,
          "yref": "y"
         },
         {
          "arrowcolor": "rgb(255,51,0)",
          "arrowhead": 3,
          "arrowwidth": 1.5,
          "ax": -12.82559105852597,
          "axref": "x",
          "ay": 4.322683038430465,
          "ayref": "y",
          "showarrow": true,
          "text": "",
          "x": -12.354151058525968,
          "xref": "x",
          "y": 4.292803038430464,
          "yref": "y"
         },
         {
          "arrowcolor": "rgb(255,51,0)",
          "arrowhead": 3,
          "arrowwidth": 1.5,
          "ax": -12.353449322677884,
          "axref": "x",
          "ay": 4.259204222624697,
          "ayref": "y",
          "showarrow": true,
          "text": "",
          "x": -11.931809322677882,
          "xref": "x",
          "y": 4.116444222624697,
          "yref": "y"
         },
         {
          "arrowcolor": "rgb(255,51,0)",
          "arrowhead": 3,
          "arrowwidth": 1.5,
          "ax": -11.92852183833335,
          "axref": "x",
          "ay": 4.124056158873371,
          "ayref": "y",
          "showarrow": true,
          "text": "",
          "x": -11.512271838333351,
          "xref": "x",
          "y": 3.887626158873372,
          "yref": "y"
         },
         {
          "arrowcolor": "rgb(255,51,0)",
          "arrowhead": 3,
          "arrowwidth": 1.5,
          "ax": -11.536922023339844,
          "axref": "x",
          "ay": 3.923381911417674,
          "ayref": "y",
          "showarrow": true,
          "text": "",
          "x": -11.147312023339847,
          "xref": "x",
          "y": 3.653651911417675,
          "yref": "y"
         },
         {
          "arrowcolor": "rgb(255,51,0)",
          "arrowhead": 3,
          "arrowwidth": 1.5,
          "ax": -11.173095276667766,
          "axref": "x",
          "ay": 3.6510384056675464,
          "ayref": "y",
          "showarrow": true,
          "text": "",
          "x": -10.812375276667762,
          "xref": "x",
          "y": 3.3337384056675434,
          "yref": "y"
         },
         {
          "arrowcolor": "rgb(255,51,0)",
          "arrowhead": 3,
          "arrowwidth": 1.5,
          "ax": -10.834264283973607,
          "axref": "x",
          "ay": 3.3582180042743315,
          "ayref": "y",
          "showarrow": true,
          "text": "",
          "x": -10.474624283973608,
          "xref": "x",
          "y": 3.018558004274333,
          "yref": "y"
         },
         {
          "arrowcolor": "rgb(255,51,0)",
          "arrowhead": 3,
          "arrowwidth": 1.5,
          "ax": -10.489878635381222,
          "axref": "x",
          "ay": 3.089969944687747,
          "ayref": "y",
          "showarrow": true,
          "text": "",
          "x": -10.116918635381223,
          "xref": "x",
          "y": 2.8135799446877483,
          "yref": "y"
         },
         {
          "arrowcolor": "rgb(255,51,0)",
          "arrowhead": 3,
          "arrowwidth": 1.5,
          "ax": -10.156602188586557,
          "axref": "x",
          "ay": 2.86062809699579,
          "ayref": "y",
          "showarrow": true,
          "text": "",
          "x": -9.748242188586557,
          "xref": "x",
          "y": 2.6780280969957895,
          "yref": "y"
         },
         {
          "arrowcolor": "rgb(255,51,0)",
          "arrowhead": 3,
          "arrowwidth": 1.5,
          "ax": -9.823325689912949,
          "axref": "x",
          "ay": 2.715241704858196,
          "ayref": "y",
          "showarrow": true,
          "text": "",
          "x": -9.437045689912951,
          "xref": "x",
          "y": 2.6053517048581964,
          "yref": "y"
         },
         {
          "arrowcolor": "rgb(255,51,0)",
          "arrowhead": 3,
          "arrowwidth": 1.5,
          "ax": -9.476162603019173,
          "axref": "x",
          "ay": 2.6824784556217054,
          "ayref": "y",
          "showarrow": true,
          "text": "",
          "x": -9.097612603019172,
          "xref": "x",
          "y": 2.7260284556217056,
          "yref": "y"
         },
         {
          "arrowcolor": "rgb(255,51,0)",
          "arrowhead": 3,
          "arrowwidth": 1.5,
          "ax": -9.131776795164527,
          "axref": "x",
          "ay": 2.750052190259138,
          "ayref": "y",
          "showarrow": true,
          "text": "",
          "x": -8.759936795164526,
          "xref": "x",
          "y": 2.9359721902591382,
          "yref": "y"
         },
         {
          "arrowcolor": "rgb(255,51,0)",
          "arrowhead": 3,
          "arrowwidth": 1.5,
          "ax": -8.784613636945682,
          "axref": "x",
          "ay": 2.90362903332603,
          "ayref": "y",
          "showarrow": true,
          "text": "",
          "x": -8.448283636945684,
          "xref": "x",
          "y": 3.1533790333260288,
          "yref": "y"
         },
         {
          "arrowcolor": "rgb(255,51,0)",
          "arrowhead": 3,
          "arrowwidth": 1.5,
          "ax": -8.459668887454654,
          "axref": "x",
          "ay": 3.1432089912582923,
          "ayref": "y",
          "showarrow": true,
          "text": "",
          "x": -8.160868887454654,
          "xref": "x",
          "y": 3.455288991258293,
          "yref": "y"
         },
         {
          "arrowcolor": "rgb(255,51,0)",
          "arrowhead": 3,
          "arrowwidth": 1.5,
          "ax": -8.179160976188736,
          "axref": "x",
          "ay": 3.4360289684211556,
          "ayref": "y",
          "showarrow": true,
          "text": "",
          "x": -7.939400976188738,
          "xref": "x",
          "y": 3.8189789684211535,
          "yref": "y"
         },
         {
          "arrowcolor": "rgb(255,51,0)",
          "arrowhead": 3,
          "arrowwidth": 1.5,
          "ax": -7.92364877393533,
          "axref": "x",
          "ay": 3.7513735538508968,
          "ayref": "y",
          "showarrow": true,
          "text": "",
          "x": -7.672398773935329,
          "xref": "x",
          "y": 4.113173553850897,
          "yref": "y"
         },
         {
          "arrowcolor": "rgb(255,51,0)",
          "arrowhead": 3,
          "arrowwidth": 1.5,
          "ax": -7.679245803937986,
          "axref": "x",
          "ay": 4.070813521844398,
          "ayref": "y",
          "showarrow": true,
          "text": "",
          "x": -7.393725803937985,
          "xref": "x",
          "y": 4.412773521844399,
          "yref": "y"
         },
         {
          "arrowcolor": "rgb(255,51,0)",
          "arrowhead": 3,
          "arrowwidth": 1.5,
          "ax": -7.395960574533843,
          "axref": "x",
          "ay": 4.345204193301231,
          "ayref": "y",
          "showarrow": true,
          "text": "",
          "x": -7.072950574533845,
          "xref": "x",
          "y": 4.621594193301229,
          "yref": "y"
         },
         {
          "arrowcolor": "rgb(255,51,0)",
          "arrowhead": 3,
          "arrowwidth": 1.5,
          "ax": -7.054352017445263,
          "axref": "x",
          "ay": 4.523353256725976,
          "ayref": "y",
          "showarrow": true,
          "text": "",
          "x": -6.665912017445262,
          "xref": "x",
          "y": 4.679393256725976,
          "yref": "y"
         },
         {
          "arrowcolor": "rgb(255,51,0)",
          "arrowhead": 3,
          "arrowwidth": 1.5,
          "ax": -6.65997475167182,
          "axref": "x",
          "ay": 4.599117649330282,
          "ayref": "y",
          "showarrow": true,
          "text": "",
          "x": -6.217084751671813,
          "xref": "x",
          "y": 4.622427649330282,
          "yref": "y"
         },
         {
          "arrowcolor": "rgb(255,51,0)",
          "arrowhead": 3,
          "arrowwidth": 1.5,
          "ax": -6.240601784037336,
          "axref": "x",
          "ay": 4.57864045488547,
          "ayref": "y",
          "showarrow": true,
          "text": "",
          "x": -5.805101784037344,
          "xref": "x",
          "y": 4.511640454885471,
          "yref": "y"
         },
         {
          "arrowcolor": "rgb(255,51,0)",
          "arrowhead": 3,
          "arrowwidth": 1.5,
          "ax": -5.849001937403335,
          "axref": "x",
          "ay": 4.457826358811821,
          "ayref": "y",
          "showarrow": true,
          "text": "",
          "x": -5.453921937403334,
          "xref": "x",
          "y": 4.311746358811821,
          "yref": "y"
         },
         {
          "arrowcolor": "rgb(255,51,0)",
          "arrowhead": 3,
          "arrowwidth": 1.5,
          "ax": -5.507393615197728,
          "axref": "x",
          "ay": 4.259199997662847,
          "ayref": "y",
          "showarrow": true,
          "text": "",
          "x": -5.1843836151977225,
          "xref": "x",
          "y": 4.002789997662843,
          "yref": "y"
         },
         {
          "arrowcolor": "rgb(255,51,0)",
          "arrowhead": 3,
          "arrowwidth": 1.5,
          "ax": -5.229663313328242,
          "axref": "x",
          "ay": 4.009381380269954,
          "ayref": "y",
          "showarrow": true,
          "text": "",
          "x": -4.930863313328241,
          "xref": "x",
          "y": 3.723861380269953,
          "yref": "y"
         },
         {
          "arrowcolor": "rgb(255,51,0)",
          "arrowhead": 3,
          "arrowwidth": 1.5,
          "ax": -4.996369917659503,
          "axref": "x",
          "ay": 3.7104182058660555,
          "ayref": "y",
          "showarrow": true,
          "text": "",
          "x": -4.7015699176595085,
          "xref": "x",
          "y": 3.3854682058660615,
          "yref": "y"
         },
         {
          "arrowcolor": "rgb(255,51,0)",
          "arrowhead": 3,
          "arrowwidth": 1.5,
          "ax": -4.788072262634644,
          "axref": "x",
          "ay": 3.3848350646462295,
          "ayref": "y",
          "showarrow": true,
          "text": "",
          "x": -4.54831226263464,
          "xref": "x",
          "y": 3.038515064646224,
          "yref": "y"
         },
         {
          "arrowcolor": "rgb(255,51,0)",
          "arrowhead": 3,
          "arrowwidth": 1.5,
          "ax": -4.5686653712087395,
          "axref": "x",
          "ay": 3.071538090573717,
          "ayref": "y",
          "showarrow": true,
          "text": "",
          "x": -4.322985371208739,
          "xref": "x",
          "y": 2.756138090573716,
          "yref": "y"
         },
         {
          "arrowcolor": "rgb(255,51,0)",
          "arrowhead": 3,
          "arrowwidth": 1.5,
          "ax": -4.318708098314038,
          "axref": "x",
          "ay": 2.8073857293471303,
          "ayref": "y",
          "showarrow": true,
          "text": "",
          "x": -3.996668098314044,
          "xref": "x",
          "y": 2.561705729347135,
          "yref": "y"
         },
         {
          "arrowcolor": "rgb(255,51,0)",
          "arrowhead": 3,
          "arrowwidth": 1.5,
          "ax": -4.024313904936195,
          "axref": "x",
          "ay": 2.6149025787790103,
          "ayref": "y",
          "showarrow": true,
          "text": "",
          "x": -3.6646739049361887,
          "xref": "x",
          "y": 2.4883625787790082,
          "yref": "y"
         },
         {
          "arrowcolor": "rgb(255,51,0)",
          "arrowhead": 3,
          "arrowwidth": 1.5,
          "ax": -3.677150878238423,
          "axref": "x",
          "ay": 2.5227563207935573,
          "ayref": "y",
          "showarrow": true,
          "text": "",
          "x": -3.285200878238422,
          "xref": "x",
          "y": 2.4993063207935573,
          "yref": "y"
         },
         {
          "arrowcolor": "rgb(255,51,0)",
          "arrowhead": 3,
          "arrowwidth": 1.5,
          "ax": -3.293882833168027,
          "axref": "x",
          "ay": 2.5432330909553205,
          "ayref": "y",
          "showarrow": true,
          "text": "",
          "x": -2.9021228331680344,
          "xref": "x",
          "y": 2.682673090955318,
          "yref": "y"
         },
         {
          "arrowcolor": "rgb(255,51,0)",
          "arrowhead": 3,
          "arrowwidth": 1.5,
          "ax": -2.893950928602827,
          "axref": "x",
          "ay": 2.6271882868481407,
          "ayref": "y",
          "showarrow": true,
          "text": "",
          "x": -2.534310928602821,
          "xref": "x",
          "y": 2.840308286848144,
          "yref": "y"
         },
         {
          "arrowcolor": "rgb(255,51,0)",
          "arrowhead": 3,
          "arrowwidth": 1.5,
          "ax": -2.507905520336045,
          "axref": "x",
          "ay": 2.7664311456473483,
          "ayref": "y",
          "showarrow": true,
          "text": "",
          "x": -2.1526655203360443,
          "xref": "x",
          "y": 3.015431145647349,
          "yref": "y"
         },
         {
          "arrowcolor": "rgb(255,51,0)",
          "arrowhead": 3,
          "arrowwidth": 1.5,
          "ax": -2.1468558250496677,
          "axref": "x",
          "ay": 2.954818582878954,
          "ayref": "y",
          "showarrow": true,
          "text": "",
          "x": -1.8604758250496691,
          "xref": "x",
          "y": 3.2478585828789526,
          "yref": "y"
         },
         {
          "arrowcolor": "rgb(255,51,0)",
          "arrowhead": 3,
          "arrowwidth": 1.5,
          "ax": -1.8219110848459494,
          "axref": "x",
          "ay": 3.16163524378134,
          "ayref": "y",
          "showarrow": true,
          "text": "",
          "x": -1.5455210848459506,
          "xref": "x",
          "y": 3.4979652437813384,
          "yref": "y"
         },
         {
          "arrowcolor": "rgb(255,51,0)",
          "arrowhead": 3,
          "arrowwidth": 1.5,
          "ax": -1.516407467222217,
          "axref": "x",
          "ay": 3.3848334236142357,
          "ayref": "y",
          "showarrow": true,
          "text": "",
          "x": -1.2325074672222143,
          "xref": "x",
          "y": 3.6954534236142385,
          "yref": "y"
         },
         {
          "arrowcolor": "rgb(255,51,0)",
          "arrowhead": 3,
          "arrowwidth": 1.5,
          "ax": -1.2109038408344204,
          "axref": "x",
          "ay": 3.618270037482149,
          "ayref": "y",
          "showarrow": true,
          "text": "",
          "x": -0.9211938408344218,
          "xref": "x",
          "y": 3.8946600374821476,
          "yref": "y"
         },
         {
          "arrowcolor": "rgb(255,51,0)",
          "arrowhead": 3,
          "arrowwidth": 1.5,
          "ax": -0.8748498689224382,
          "axref": "x",
          "ay": 3.8373727730564537,
          "ayref": "y",
          "showarrow": true,
          "text": "",
          "x": -0.5351898689224398,
          "xref": "x",
          "y": 4.103772773056453,
          "yref": "y"
         },
         {
          "arrowcolor": "rgb(255,51,0)",
          "arrowhead": 3,
          "arrowwidth": 1.5,
          "ax": -0.4943590341416984,
          "axref": "x",
          "ay": 4.0298554659133075,
          "ayref": "y",
          "showarrow": true,
          "text": "",
          "x": -0.07935903414169748,
          "xref": "x",
          "y": 4.202495465913308,
          "yref": "y"
         },
         {
          "arrowcolor": "rgb(255,51,0)",
          "arrowhead": 3,
          "arrowwidth": 1.5,
          "ax": -0.09164978570967514,
          "axref": "x",
          "ay": 4.183432010903921,
          "ayref": "y",
          "showarrow": true,
          "text": "",
          "x": 0.38787021429032253,
          "xref": "x",
          "y": 4.24670201090392,
          "yref": "y"
         },
         {
          "arrowcolor": "rgb(255,51,0)",
          "arrowhead": 3,
          "arrowwidth": 1.5,
          "ax": 0.29995020220965257,
          "axref": "x",
          "ay": 4.267387074257378,
          "ayref": "y",
          "showarrow": true,
          "text": "",
          "x": 0.7589002022096538,
          "xref": "x",
          "y": 4.233887074257378,
          "yref": "y"
         },
         {
          "arrowcolor": "rgb(255,51,0)",
          "arrowhead": 3,
          "arrowwidth": 1.5,
          "ax": 0.6193402109955035,
          "axref": "x",
          "ay": 4.2489576650254275,
          "ayref": "y",
          "showarrow": true,
          "text": "",
          "x": 0.9978202109955043,
          "xref": "x",
          "y": 4.076317665025427,
          "yref": "y"
         },
         {
          "arrowcolor": "rgb(255,51,0)",
          "arrowhead": 3,
          "arrowwidth": 1.5,
          "ax": 0.8554110278632328,
          "axref": "x",
          "ay": 4.126096124596927,
          "ayref": "y",
          "showarrow": true,
          "text": "",
          "x": 1.1684310278632313,
          "xref": "x",
          "y": 3.849706124596928,
          "yref": "y"
         },
         {
          "arrowcolor": "rgb(255,51,0)",
          "arrowhead": 3,
          "arrowwidth": 1.5,
          "ax": 1.0276038007760198,
          "axref": "x",
          "ay": 3.923374707414989,
          "ayref": "y",
          "showarrow": true,
          "text": "",
          "x": 1.2898838007760203,
          "xref": "x",
          "y": 3.6478147074149887,
          "yref": "y"
         },
         {
          "arrowcolor": "rgb(255,51,0)",
          "arrowhead": 3,
          "arrowwidth": 1.5,
          "ax": 1.163691592296137,
          "axref": "x",
          "ay": 3.6633179952627573,
          "ayref": "y",
          "showarrow": true,
          "text": "",
          "x": 1.393461592296136,
          "xref": "x",
          "y": 3.3436379952627586,
          "yref": "y"
         },
         {
          "arrowcolor": "rgb(255,51,0)",
          "arrowhead": 3,
          "arrowwidth": 1.5,
          "ax": 1.2831155533658063,
          "axref": "x",
          "ay": 3.3725459433477893,
          "ayref": "y",
          "showarrow": true,
          "text": "",
          "x": 1.4305155533658067,
          "xref": "x",
          "y": 2.9939959433477883,
          "yref": "y"
         },
         {
          "arrowcolor": "rgb(255,51,0)",
          "arrowhead": 3,
          "arrowwidth": 1.5,
          "ax": 1.383098388673458,
          "axref": "x",
          "ay": 3.073583131149549,
          "ayref": "y",
          "showarrow": true,
          "text": "",
          "x": 1.4727383886734582,
          "xref": "x",
          "y": 2.691783131149548,
          "yref": "y"
         },
         {
          "arrowcolor": "rgb(255,51,0)",
          "arrowhead": 3,
          "arrowwidth": 1.5,
          "ax": 1.424757836483571,
          "axref": "x",
          "ay": 2.768477273513126,
          "ayref": "y",
          "showarrow": true,
          "text": "",
          "x": 1.4680478364835707,
          "xref": "x",
          "y": 2.3988472735131277,
          "yref": "y"
         },
         {
          "arrowcolor": "rgb(255,51,0)",
          "arrowhead": 3,
          "arrowwidth": 1.5,
          "ax": 1.3830981558299162,
          "axref": "x",
          "ay": 2.4592760614265976,
          "ayref": "y",
          "showarrow": true,
          "text": "",
          "x": 1.273538155829916,
          "xref": "x",
          "y": 2.104036061426597,
          "yref": "y"
         },
         {
          "arrowcolor": "rgb(255,51,0)",
          "arrowhead": 3,
          "arrowwidth": 1.5,
          "ax": 1.2692285683462323,
          "axref": "x",
          "ay": 2.154170243324585,
          "ayref": "y",
          "showarrow": true,
          "text": "",
          "x": 1.0749285683462317,
          "xref": "x",
          "y": 1.8258702433245841,
          "yref": "y"
         },
         {
          "arrowcolor": "rgb(255,51,0)",
          "arrowhead": 3,
          "arrowwidth": 1.5,
          "ax": 1.0859263752032071,
          "axref": "x",
          "ay": 1.842921360595478,
          "ayref": "y",
          "showarrow": true,
          "text": "",
          "x": 0.8494963752032083,
          "xref": "x",
          "y": 1.5165813605954797,
          "yref": "y"
         },
         {
          "arrowcolor": "rgb(255,51,0)",
          "arrowhead": 3,
          "arrowwidth": 1.5,
          "ax": 0.8498554031972089,
          "axref": "x",
          "ay": 1.5255293983369609,
          "ayref": "y",
          "showarrow": true,
          "text": "",
          "x": 0.5742954031972083,
          "xref": "x",
          "y": 1.2599293983369604,
          "yref": "y"
         },
         {
          "arrowcolor": "rgb(255,51,0)",
          "arrowhead": 3,
          "arrowwidth": 1.5,
          "ax": 0.5971206173777709,
          "axref": "x",
          "ay": 1.2101851109205748,
          "ayref": "y",
          "showarrow": true,
          "text": "",
          "x": 0.26844061737777014,
          "xref": "x",
          "y": 0.9346251109205742,
          "yref": "y"
         },
         {
          "arrowcolor": "rgb(255,51,0)",
          "arrowhead": 3,
          "arrowwidth": 1.5,
          "ax": 0.34716314967543827,
          "axref": "x",
          "ay": 0.8927931101050794,
          "ayref": "y",
          "showarrow": true,
          "text": "",
          "x": 0.054123149675439686,
          "xref": "x",
          "y": 0.5997531101050808,
          "yref": "y"
         },
         {
          "arrowcolor": "rgb(255,51,0)",
          "arrowhead": 3,
          "arrowwidth": 1.5,
          "ax": 0.0999829986597503,
          "axref": "x",
          "ay": 0.5958779927869368,
          "ayref": "y",
          "showarrow": true,
          "text": "",
          "x": -0.19146700134025046,
          "xref": "x",
          "y": 0.33457799278693606,
          "yref": "y"
         },
         {
          "arrowcolor": "rgb(255,51,0)",
          "arrowhead": 3,
          "arrowwidth": 1.5,
          "ax": -0.15275175515916276,
          "axref": "x",
          "ay": 0.3153443761414701,
          "ayref": "y",
          "showarrow": true,
          "text": "",
          "x": -0.46151175515916343,
          "xref": "x",
          "y": 0.06302437614146955,
          "yref": "y"
         },
         {
          "arrowcolor": "rgb(255,51,0)",
          "arrowhead": 3,
          "arrowwidth": 1.5,
          "ax": -0.4332595501991054,
          "axref": "x",
          "ay": 0.03481072848003064,
          "ayref": "y",
          "showarrow": true,
          "text": "",
          "x": -0.732959550199104,
          "xref": "x",
          "y": -0.2049492715199682,
          "yref": "y"
         },
         {
          "arrowcolor": "rgb(255,51,0)",
          "arrowhead": 3,
          "arrowwidth": 1.5,
          "ax": -0.7554269075956312,
          "axref": "x",
          "ay": -0.2375321859379409,
          "ayref": "y",
          "showarrow": true,
          "text": "",
          "x": -1.0551269075956298,
          "xref": "x",
          "y": -0.5006021859379397,
          "yref": "y"
         },
         {
          "arrowcolor": "rgb(255,51,0)",
          "arrowhead": 3,
          "arrowwidth": 1.5,
          "ax": -1.1109219089230653,
          "axref": "x",
          "ay": -0.5344474238555762,
          "ayref": "y",
          "showarrow": true,
          "text": "",
          "x": -1.446241908923066,
          "xref": "x",
          "y": -0.8100074238555768,
          "yref": "y"
         },
         {
          "arrowcolor": "rgb(255,51,0)",
          "arrowhead": 3,
          "arrowwidth": 1.5,
          "ax": -1.449753060947153,
          "axref": "x",
          "ay": -0.8682211307379828,
          "ayref": "y",
          "showarrow": true,
          "text": "",
          "x": -1.7328030609471576,
          "xref": "x",
          "y": -1.1745811307379879,
          "yref": "y"
         },
         {
          "arrowcolor": "rgb(255,51,0)",
          "arrowhead": 3,
          "arrowwidth": 1.5,
          "ax": -1.75525653499392,
          "axref": "x",
          "ay": -1.2286148526080924,
          "ayref": "y",
          "showarrow": true,
          "text": "",
          "x": -1.9931065349939154,
          "xref": "x",
          "y": -1.6105148526080852,
          "yref": "y"
         },
         {
          "arrowcolor": "rgb(255,51,0)",
          "arrowhead": 3,
          "arrowwidth": 1.5,
          "ax": -2.0413188441569776,
          "axref": "x",
          "ay": -1.6279147383280188,
          "ayref": "y",
          "showarrow": true,
          "text": "",
          "x": -2.277038844156978,
          "xref": "x",
          "y": -1.9931147383280197,
          "yref": "y"
         },
         {
          "arrowcolor": "rgb(255,51,0)",
          "arrowhead": 3,
          "arrowwidth": 1.5,
          "ax": -2.3079399932752827,
          "axref": "x",
          "ay": -2.0517869547805785,
          "ayref": "y",
          "showarrow": true,
          "text": "",
          "x": -2.5476999932752866,
          "xref": "x",
          "y": -2.434736954780585,
          "yref": "y"
         },
         {
          "arrowcolor": "rgb(255,51,0)",
          "arrowhead": 3,
          "arrowwidth": 1.5,
          "ax": -2.5717838243394007,
          "axref": "x",
          "ay": -2.471563825733141,
          "ayref": "y",
          "showarrow": true,
          "text": "",
          "x": -2.814143824339396,
          "xref": "x",
          "y": -2.879923825733133,
          "yref": "y"
         },
         {
          "arrowcolor": "rgb(255,51,0)",
          "arrowhead": 3,
          "arrowwidth": 1.5,
          "ax": -2.846736855576103,
          "axref": "x",
          "ay": -2.8688161168355872,
          "ayref": "y",
          "showarrow": true,
          "text": "",
          "x": -3.093156855576107,
          "xref": "x",
          "y": -3.1984861168355927,
          "yref": "y"
         },
         {
          "arrowcolor": "rgb(255,51,0)",
          "arrowhead": 3,
          "arrowwidth": 1.5,
          "ax": -3.1133579759329892,
          "axref": "x",
          "ay": -3.2210192214102586,
          "ayref": "y",
          "showarrow": true,
          "text": "",
          "x": -3.3780079759329897,
          "xref": "x",
          "y": -3.5325692214102595,
          "yref": "y"
         },
         {
          "arrowcolor": "rgb(255,51,0)",
          "arrowhead": 3,
          "arrowwidth": 1.5,
          "ax": -3.3605379696015714,
          "axref": "x",
          "ay": -3.5117915811337186,
          "ayref": "y",
          "showarrow": true,
          "text": "",
          "x": -3.589617969601567,
          "xref": "x",
          "y": -3.7840315811337133,
          "yref": "y"
         },
         {
          "arrowcolor": "rgb(255,51,0)",
          "arrowhead": 3,
          "arrowwidth": 1.5,
          "ax": -3.5938314496547066,
          "axref": "x",
          "ay": -3.7370377978960874,
          "ayref": "y",
          "showarrow": true,
          "text": "",
          "x": -3.81361144965471,
          "xref": "x",
          "y": -3.90353779789609,
          "yref": "y"
         },
         {
          "arrowcolor": "rgb(255,51,0)",
          "arrowhead": 3,
          "arrowwidth": 1.5,
          "ax": -3.7854653800393763,
          "axref": "x",
          "ay": -3.9049486294763183,
          "ayref": "y",
          "showarrow": true,
          "text": "",
          "x": -3.9249053800393767,
          "xref": "x",
          "y": -4.001228629476318,
          "yref": "y"
         },
         {
          "arrowcolor": "rgb(255,51,0)",
          "arrowhead": 3,
          "arrowwidth": 1.5,
          "ax": -3.935439773667828,
          "axref": "x",
          "ay": -3.9950471441933746,
          "ayref": "y",
          "showarrow": true,
          "text": "",
          "x": -4.045329773667827,
          "xref": "x",
          "y": -4.041667144193374,
          "yref": "y"
         },
         {
          "arrowcolor": "rgb(255,51,0)",
          "arrowhead": 3,
          "arrowwidth": 1.5,
          "ax": -4.079859605123021,
          "axref": "x",
          "ay": -3.9909518209788004,
          "ayref": "y",
          "showarrow": true,
          "text": "",
          "x": -4.223909605123021,
          "xref": "x",
          "y": -3.8837518209788002,
          "yref": "y"
         },
         {
          "arrowcolor": "rgb(255,51,0)",
          "arrowhead": 3,
          "arrowwidth": 1.5,
          "ax": -4.252052531864631,
          "axref": "x",
          "ay": -3.906996524783689,
          "ayref": "y",
          "showarrow": true,
          "text": "",
          "x": -4.494412531864632,
          "xref": "x",
          "y": -3.687876524783688,
          "yref": "y"
         },
         {
          "arrowcolor": "rgb(255,51,0)",
          "arrowhead": 3,
          "arrowwidth": 1.5,
          "ax": -4.488123491050354,
          "axref": "x",
          "ay": -3.7677535680061722,
          "ayref": "y",
          "showarrow": true,
          "text": "",
          "x": -4.791153491050353,
          "xref": "x",
          "y": -3.584603568006173,
          "yref": "y"
         },
         {
          "arrowcolor": "rgb(255,51,0)",
          "arrowhead": 3,
          "arrowwidth": 1.5,
          "ax": -4.796404381998555,
          "axref": "x",
          "ay": -3.6059860287551433,
          "ayref": "y",
          "showarrow": true,
          "text": "",
          "x": -5.191484381998556,
          "xref": "x",
          "y": -3.463226028755143,
          "yref": "y"
         },
         {
          "arrowcolor": "rgb(255,51,0)",
          "arrowhead": 3,
          "arrowwidth": 1.5,
          "ax": -5.157454049650003,
          "axref": "x",
          "ay": -3.460600045110015,
          "ayref": "y",
          "showarrow": true,
          "text": "",
          "x": -5.542704049650004,
          "xref": "x",
          "y": -3.313200045110015,
          "yref": "y"
         },
         {
          "arrowcolor": "rgb(255,51,0)",
          "arrowhead": 3,
          "arrowwidth": 1.5,
          "ax": -5.549054036492558,
          "axref": "x",
          "ay": -3.347977134399983,
          "ayref": "y",
          "showarrow": true,
          "text": "",
          "x": -5.9286740364925565,
          "xref": "x",
          "y": -3.2447471343999834,
          "yref": "y"
         },
         {
          "arrowcolor": "rgb(255,51,0)",
          "arrowhead": 3,
          "arrowwidth": 1.5,
          "ax": -5.95176323866702,
          "axref": "x",
          "ay": -3.251735765065173,
          "ayref": "y",
          "showarrow": true,
          "text": "",
          "x": -6.403283238667021,
          "xref": "x",
          "y": -3.178695765065173,
          "yref": "y"
         },
         {
          "arrowcolor": "rgb(255,51,0)",
          "arrowhead": 3,
          "arrowwidth": 1.5,
          "ax": -6.360027035480339,
          "axref": "x",
          "ay": -3.165732847857139,
          "ayref": "y",
          "showarrow": true,
          "text": "",
          "x": -6.77502703548034,
          "xref": "x",
          "y": -3.0760928478571388,
          "yref": "y"
         },
         {
          "arrowcolor": "rgb(255,51,0)",
          "arrowhead": 3,
          "arrowwidth": 1.5,
          "ax": -6.7655135275940985,
          "axref": "x",
          "ay": -3.098159161050419,
          "ayref": "y",
          "showarrow": true,
          "text": "",
          "x": -7.171773527594096,
          "xref": "x",
          "y": -3.0315591610504193,
          "yref": "y"
         },
         {
          "arrowcolor": "rgb(255,51,0)",
          "arrowhead": 3,
          "arrowwidth": 1.5,
          "ax": -7.182109235764407,
          "axref": "x",
          "ay": -3.0510624068261984,
          "ayref": "y",
          "showarrow": true,
          "text": "",
          "x": -7.607559235764398,
          "xref": "x",
          "y": -3.034312406826199,
          "yref": "y"
         },
         {
          "arrowcolor": "rgb(255,51,0)",
          "arrowhead": 3,
          "arrowwidth": 1.5,
          "ax": -7.607036844571367,
          "axref": "x",
          "ay": -3.016251806548518,
          "ayref": "y",
          "showarrow": true,
          "text": "",
          "x": -8.008756844571376,
          "xref": "x",
          "y": -3.002971806548518,
          "yref": "y"
         },
         {
          "arrowcolor": "rgb(255,51,0)",
          "arrowhead": 3,
          "arrowwidth": 1.5,
          "ax": -8.029187159963383,
          "axref": "x",
          "ay": -2.9998704459665104,
          "ayref": "y",
          "showarrow": true,
          "text": "",
          "x": -8.452097159963381,
          "xref": "x",
          "y": -2.9665704459665108,
          "yref": "y"
         },
         {
          "arrowcolor": "rgb(255,51,0)",
          "arrowhead": 3,
          "arrowwidth": 1.5,
          "ax": -8.459669370048234,
          "axref": "x",
          "ay": -2.995775241528284,
          "ayref": "y",
          "showarrow": true,
          "text": "",
          "x": -8.858069370048225,
          "xref": "x",
          "y": -3.0190152415282836,
          "yref": "y"
         },
         {
          "arrowcolor": "rgb(255,51,0)",
          "arrowhead": 3,
          "arrowwidth": 1.5,
          "ax": -8.879042359406895,
          "axref": "x",
          "ay": -2.9671077063750477,
          "ayref": "y",
          "showarrow": true,
          "text": "",
          "x": -9.275312359406893,
          "xref": "x",
          "y": -2.9571177063750476,
          "yref": "y"
         },
         {
          "arrowcolor": "rgb(255,51,0)",
          "arrowhead": 3,
          "arrowwidth": 1.5,
          "ax": -9.29286075823871,
          "axref": "x",
          "ay": -2.9015816823777856,
          "ayref": "y",
          "showarrow": true,
          "text": "",
          "x": -9.699120758238726,
          "xref": "x",
          "y": -2.8083416823777823,
          "yref": "y"
         },
         {
          "arrowcolor": "rgb(255,51,0)",
          "arrowhead": 3,
          "arrowwidth": 1.5,
          "ax": -9.701124532822202,
          "axref": "x",
          "ay": -2.793054073115105,
          "ayref": "y",
          "showarrow": true,
          "text": "",
          "x": -10.06852453282219,
          "xref": "x",
          "y": -2.666134073115109,
          "yref": "y"
         },
         {
          "arrowcolor": "rgb(255,51,0)",
          "arrowhead": 3,
          "arrowwidth": 1.5,
          "ax": -10.101056431784349,
          "axref": "x",
          "ay": -2.6108094794023815,
          "ayref": "y",
          "showarrow": true,
          "text": "",
          "x": -10.470686431784348,
          "xref": "x",
          "y": -2.437649479402382,
          "yref": "y"
         },
         {
          "arrowcolor": "rgb(255,51,0)",
          "arrowhead": 3,
          "arrowwidth": 1.5,
          "ax": -10.478769915106378,
          "axref": "x",
          "ay": -2.3650863523412364,
          "ayref": "y",
          "showarrow": true,
          "text": "",
          "x": -10.78512991510639,
          "xref": "x",
          "y": -2.108676352341227,
          "yref": "y"
         },
         {
          "arrowcolor": "rgb(255,51,0)",
          "arrowhead": 3,
          "arrowwidth": 1.5,
          "ax": -10.806491918587305,
          "axref": "x",
          "ay": -2.0763616147985964,
          "ayref": "y",
          "showarrow": true,
          "text": "",
          "x": -11.0554919185873,
          "xref": "x",
          "y": -1.7709216147986022,
          "yref": "y"
         },
         {
          "arrowcolor": "rgb(255,51,0)",
          "arrowhead": 3,
          "arrowwidth": 1.5,
          "ax": -11.0620040182344,
          "axref": "x",
          "ay": -1.7425875737874823,
          "ayref": "y",
          "showarrow": true,
          "text": "",
          "x": -11.2384940182344,
          "xref": "x",
          "y": -1.376287573787484,
          "yref": "y"
         },
         {
          "arrowcolor": "rgb(255,51,0)",
          "arrowhead": 3,
          "arrowwidth": 1.5,
          "ax": -11.200869292475527,
          "axref": "x",
          "ay": -1.3842411574827103,
          "ayref": "y",
          "showarrow": true,
          "text": "",
          "x": -11.200869292475527,
          "xref": "x",
          "y": -0.9989911574827011,
          "yref": "y"
         },
         {
          "arrowcolor": "rgb(255,51,0)",
          "arrowhead": 3,
          "arrowwidth": 1.5,
          "ax": -11.223087778338396,
          "axref": "x",
          "ay": -1.0258947126171585,
          "ayref": "y",
          "showarrow": true,
          "text": "",
          "x": -11.096927778338399,
          "xref": "x",
          "y": -0.6108947126171664,
          "yref": "y"
         },
         {
          "arrowcolor": "rgb(255,51,0)",
          "arrowhead": 3,
          "arrowwidth": 1.5,
          "ax": -11.139768664726304,
          "axref": "x",
          "ay": -0.6532143960558158,
          "ayref": "y",
          "showarrow": true,
          "text": "",
          "x": -10.953288664726305,
          "xref": "x",
          "y": -0.26360439605581765,
          "yref": "y"
         },
         {
          "arrowcolor": "rgb(255,51,0)",
          "arrowhead": 3,
          "arrowwidth": 1.5,
          "ax": -10.962021180622799,
          "axref": "x",
          "ay": -0.2907725533597936,
          "ayref": "y",
          "showarrow": true,
          "text": "",
          "x": -10.703061180622793,
          "xref": "x",
          "y": 0.05118744664021452,
          "yref": "y"
         },
         {
          "arrowcolor": "rgb(255,51,0)",
          "arrowhead": 3,
          "arrowwidth": 1.5,
          "ax": -10.728727625417946,
          "axref": "x",
          "ay": 0.049144638446679045,
          "ayref": "y",
          "showarrow": true,
          "text": "",
          "x": -10.399057625417948,
          "xref": "x",
          "y": 0.37548463844667745,
          "yref": "y"
         },
         {
          "arrowcolor": "rgb(255,51,0)",
          "arrowhead": 3,
          "arrowwidth": 1.5,
          "ax": -10.456551768611602,
          "axref": "x",
          "ay": 0.3808710321718614,
          "ayref": "y",
          "showarrow": true,
          "text": "",
          "x": -10.131601768611608,
          "xref": "x",
          "y": 0.6857210321718558,
          "yref": "y"
         },
         {
          "arrowcolor": "rgb(255,51,0)",
          "arrowhead": 3,
          "arrowwidth": 1.5,
          "ax": -10.159380181167503,
          "axref": "x",
          "ay": 0.6798343004302272,
          "ayref": "y",
          "showarrow": true,
          "text": "",
          "x": -9.794180181167494,
          "xref": "x",
          "y": 0.9852743004302345,
          "yref": "y"
         },
         {
          "arrowcolor": "rgb(255,51,0)",
          "arrowhead": 3,
          "arrowwidth": 1.5,
          "ax": -9.845544747141362,
          "axref": "x",
          "ay": 0.964463683965613,
          "ayref": "y",
          "showarrow": true,
          "text": "",
          "x": -9.445944747141365,
          "xref": "x",
          "y": 1.2175436839656117,
          "yref": "y"
         },
         {
          "arrowcolor": "rgb(255,51,0)",
          "arrowhead": 3,
          "arrowwidth": 1.5,
          "ax": -9.528931960556246,
          "axref": "x",
          "ay": 1.236806876778322,
          "ayref": "y",
          "showarrow": true,
          "text": "",
          "x": -9.143811960556253,
          "xref": "x",
          "y": 1.4924468767783172,
          "yref": "y"
         },
         {
          "arrowcolor": "rgb(255,51,0)",
          "arrowhead": 3,
          "arrowwidth": 1.5,
          "ax": -9.201209962626702,
          "axref": "x",
          "ay": 1.4825300288658898,
          "ayref": "y",
          "showarrow": true,
          "text": "",
          "x": -8.805909962626693,
          "xref": "x",
          "y": 1.737130028865896,
          "yref": "y"
         },
         {
          "arrowcolor": "rgb(255,51,0)",
          "arrowhead": 3,
          "arrowwidth": 1.5,
          "ax": -8.856824107508189,
          "axref": "x",
          "ay": 1.715966988537391,
          "ayref": "y",
          "showarrow": true,
          "text": "",
          "x": -8.4993441075082,
          "xref": "x",
          "y": 1.9112569885373842,
          "yref": "y"
         },
         {
          "arrowcolor": "rgb(255,51,0)",
          "arrowhead": 3,
          "arrowwidth": 1.5,
          "ax": -8.520770155978523,
          "axref": "x",
          "ay": 1.9494039228628939,
          "ayref": "y",
          "showarrow": true,
          "text": "",
          "x": -8.13667015597852,
          "xref": "x",
          "y": 2.183203922862896,
          "yref": "y"
         },
         {
          "arrowcolor": "rgb(255,51,0)",
          "arrowhead": 3,
          "arrowwidth": 1.5,
          "ax": -8.173606993102911,
          "axref": "x",
          "ay": 2.1930792977753857,
          "ayref": "y",
          "showarrow": true,
          "text": "",
          "x": -7.844926993102904,
          "xref": "x",
          "y": 2.4785992977753923,
          "yref": "y"
         },
         {
          "arrowcolor": "rgb(255,51,0)",
          "arrowhead": 3,
          "arrowwidth": 1.5,
          "ax": -7.815334601872264,
          "axref": "x",
          "ay": 2.4367546443396724,
          "ayref": "y",
          "showarrow": true,
          "text": "",
          "x": -7.482334601872266,
          "xref": "x",
          "y": 2.6498746443396715,
          "yref": "y"
         },
         {
          "arrowcolor": "rgb(255,51,0)",
          "arrowhead": 3,
          "arrowwidth": 1.5,
          "ax": -7.448730315177828,
          "axref": "x",
          "ay": 2.666096119577771,
          "ayref": "y",
          "showarrow": true,
          "text": "",
          "x": -7.06911031517783,
          "xref": "x",
          "y": 2.85923611957777,
          "yref": "y"
         },
         {
          "arrowcolor": "rgb(255,51,0)",
          "arrowhead": 3,
          "arrowwidth": 1.5,
          "ax": -7.059907583186581,
          "axref": "x",
          "ay": 2.8770083199300505,
          "ayref": "y",
          "showarrow": true,
          "text": "",
          "x": -6.662447583186577,
          "xref": "x",
          "y": 3.060708319930052,
          "yref": "y"
         },
         {
          "arrowcolor": "rgb(255,51,0)",
          "arrowhead": 3,
          "arrowwidth": 1.5,
          "ax": -6.659975639856102,
          "axref": "x",
          "ay": 3.057205100856781,
          "ayref": "y",
          "showarrow": true,
          "text": "",
          "x": -6.249155639856115,
          "xref": "x",
          "y": 3.214185100856776,
          "yref": "y"
         },
         {
          "arrowcolor": "rgb(255,51,0)",
          "arrowhead": 3,
          "arrowwidth": 1.5,
          "ax": -6.260043711749724,
          "axref": "x",
          "ay": 3.2107818630631852,
          "ayref": "y",
          "showarrow": true,
          "text": "",
          "x": -5.835083711749713,
          "xref": "x",
          "y": 3.326981863063188,
          "yref": "y"
         },
         {
          "arrowcolor": "rgb(255,51,0)",
          "arrowhead": 3,
          "arrowwidth": 1.5,
          "ax": -5.865666389930011,
          "axref": "x",
          "ay": 3.3438816824226185,
          "ayref": "y",
          "showarrow": true,
          "text": "",
          "x": -5.4672663899300185,
          "xref": "x",
          "y": 3.433521682422617,
          "yref": "y"
         },
         {
          "arrowcolor": "rgb(255,51,0)",
          "arrowhead": 3,
          "arrowwidth": 1.5,
          "ax": -5.4796210269336205,
          "axref": "x",
          "ay": 3.4216938096126417,
          "ayref": "y",
          "showarrow": true,
          "text": "",
          "x": -5.0633710269336225,
          "xref": "x",
          "y": 3.4816338096126414,
          "yref": "y"
         },
         {
          "arrowcolor": "rgb(255,51,0)",
          "arrowhead": 3,
          "arrowwidth": 1.5,
          "ax": -5.099130300265569,
          "axref": "x",
          "ay": 3.429884393419043,
          "ayref": "y",
          "showarrow": true,
          "text": "",
          "x": -4.700480300265559,
          "xref": "x",
          "y": 3.379634393419042,
          "yref": "y"
         },
         {
          "arrowcolor": "rgb(255,51,0)",
          "arrowhead": 3,
          "arrowwidth": 1.5,
          "ax": -4.721416897443834,
          "axref": "x",
          "ay": 3.395073443314315,
          "ayref": "y",
          "showarrow": true,
          "text": "",
          "x": -4.342936897443842,
          "xref": "x",
          "y": 3.275553443314317,
          "yref": "y"
         },
         {
          "arrowcolor": "rgb(255,51,0)",
          "arrowhead": 3,
          "arrowwidth": 1.5,
          "ax": -4.354812749722859,
          "axref": "x",
          "ay": 3.307022518630739,
          "ayref": "y",
          "showarrow": true,
          "text": "",
          "x": -3.948552749722861,
          "xref": "x",
          "y": 3.1771525186307397,
          "yref": "y"
         },
         {
          "arrowcolor": "rgb(255,51,0)",
          "arrowhead": 3,
          "arrowwidth": 1.5,
          "ax": -4.024313580188635,
          "axref": "x",
          "ay": 3.16777932134411,
          "ayref": "y",
          "showarrow": true,
          "text": "",
          "x": -3.718873580188628,
          "xref": "x",
          "y": 2.951979321344105,
          "yref": "y"
         },
         {
          "font": {
           "size": 14
          },
          "showarrow": false,
          "text": "Location (Blue) with Predicted Location for Next Timestamp (Red)",
          "x": 0.5,
          "xref": "paper",
          "y": 1.05,
          "yref": "paper"
         }
        ],
        "legend": {
         "tracegroupgap": 0
        },
        "margin": {
         "t": 60
        },
        "template": {
         "data": {
          "bar": [
           {
            "error_x": {
             "color": "#2a3f5f"
            },
            "error_y": {
             "color": "#2a3f5f"
            },
            "marker": {
             "line": {
              "color": "white",
              "width": 0.5
             },
             "pattern": {
              "fillmode": "overlay",
              "size": 10,
              "solidity": 0.2
             }
            },
            "type": "bar"
           }
          ],
          "barpolar": [
           {
            "marker": {
             "line": {
              "color": "white",
              "width": 0.5
             },
             "pattern": {
              "fillmode": "overlay",
              "size": 10,
              "solidity": 0.2
             }
            },
            "type": "barpolar"
           }
          ],
          "carpet": [
           {
            "aaxis": {
             "endlinecolor": "#2a3f5f",
             "gridcolor": "#C8D4E3",
             "linecolor": "#C8D4E3",
             "minorgridcolor": "#C8D4E3",
             "startlinecolor": "#2a3f5f"
            },
            "baxis": {
             "endlinecolor": "#2a3f5f",
             "gridcolor": "#C8D4E3",
             "linecolor": "#C8D4E3",
             "minorgridcolor": "#C8D4E3",
             "startlinecolor": "#2a3f5f"
            },
            "type": "carpet"
           }
          ],
          "choropleth": [
           {
            "colorbar": {
             "outlinewidth": 0,
             "ticks": ""
            },
            "type": "choropleth"
           }
          ],
          "contour": [
           {
            "colorbar": {
             "outlinewidth": 0,
             "ticks": ""
            },
            "colorscale": [
             [
              0,
              "#0d0887"
             ],
             [
              0.1111111111111111,
              "#46039f"
             ],
             [
              0.2222222222222222,
              "#7201a8"
             ],
             [
              0.3333333333333333,
              "#9c179e"
             ],
             [
              0.4444444444444444,
              "#bd3786"
             ],
             [
              0.5555555555555556,
              "#d8576b"
             ],
             [
              0.6666666666666666,
              "#ed7953"
             ],
             [
              0.7777777777777778,
              "#fb9f3a"
             ],
             [
              0.8888888888888888,
              "#fdca26"
             ],
             [
              1,
              "#f0f921"
             ]
            ],
            "type": "contour"
           }
          ],
          "contourcarpet": [
           {
            "colorbar": {
             "outlinewidth": 0,
             "ticks": ""
            },
            "type": "contourcarpet"
           }
          ],
          "heatmap": [
           {
            "colorbar": {
             "outlinewidth": 0,
             "ticks": ""
            },
            "colorscale": [
             [
              0,
              "#0d0887"
             ],
             [
              0.1111111111111111,
              "#46039f"
             ],
             [
              0.2222222222222222,
              "#7201a8"
             ],
             [
              0.3333333333333333,
              "#9c179e"
             ],
             [
              0.4444444444444444,
              "#bd3786"
             ],
             [
              0.5555555555555556,
              "#d8576b"
             ],
             [
              0.6666666666666666,
              "#ed7953"
             ],
             [
              0.7777777777777778,
              "#fb9f3a"
             ],
             [
              0.8888888888888888,
              "#fdca26"
             ],
             [
              1,
              "#f0f921"
             ]
            ],
            "type": "heatmap"
           }
          ],
          "heatmapgl": [
           {
            "colorbar": {
             "outlinewidth": 0,
             "ticks": ""
            },
            "colorscale": [
             [
              0,
              "#0d0887"
             ],
             [
              0.1111111111111111,
              "#46039f"
             ],
             [
              0.2222222222222222,
              "#7201a8"
             ],
             [
              0.3333333333333333,
              "#9c179e"
             ],
             [
              0.4444444444444444,
              "#bd3786"
             ],
             [
              0.5555555555555556,
              "#d8576b"
             ],
             [
              0.6666666666666666,
              "#ed7953"
             ],
             [
              0.7777777777777778,
              "#fb9f3a"
             ],
             [
              0.8888888888888888,
              "#fdca26"
             ],
             [
              1,
              "#f0f921"
             ]
            ],
            "type": "heatmapgl"
           }
          ],
          "histogram": [
           {
            "marker": {
             "pattern": {
              "fillmode": "overlay",
              "size": 10,
              "solidity": 0.2
             }
            },
            "type": "histogram"
           }
          ],
          "histogram2d": [
           {
            "colorbar": {
             "outlinewidth": 0,
             "ticks": ""
            },
            "colorscale": [
             [
              0,
              "#0d0887"
             ],
             [
              0.1111111111111111,
              "#46039f"
             ],
             [
              0.2222222222222222,
              "#7201a8"
             ],
             [
              0.3333333333333333,
              "#9c179e"
             ],
             [
              0.4444444444444444,
              "#bd3786"
             ],
             [
              0.5555555555555556,
              "#d8576b"
             ],
             [
              0.6666666666666666,
              "#ed7953"
             ],
             [
              0.7777777777777778,
              "#fb9f3a"
             ],
             [
              0.8888888888888888,
              "#fdca26"
             ],
             [
              1,
              "#f0f921"
             ]
            ],
            "type": "histogram2d"
           }
          ],
          "histogram2dcontour": [
           {
            "colorbar": {
             "outlinewidth": 0,
             "ticks": ""
            },
            "colorscale": [
             [
              0,
              "#0d0887"
             ],
             [
              0.1111111111111111,
              "#46039f"
             ],
             [
              0.2222222222222222,
              "#7201a8"
             ],
             [
              0.3333333333333333,
              "#9c179e"
             ],
             [
              0.4444444444444444,
              "#bd3786"
             ],
             [
              0.5555555555555556,
              "#d8576b"
             ],
             [
              0.6666666666666666,
              "#ed7953"
             ],
             [
              0.7777777777777778,
              "#fb9f3a"
             ],
             [
              0.8888888888888888,
              "#fdca26"
             ],
             [
              1,
              "#f0f921"
             ]
            ],
            "type": "histogram2dcontour"
           }
          ],
          "mesh3d": [
           {
            "colorbar": {
             "outlinewidth": 0,
             "ticks": ""
            },
            "type": "mesh3d"
           }
          ],
          "parcoords": [
           {
            "line": {
             "colorbar": {
              "outlinewidth": 0,
              "ticks": ""
             }
            },
            "type": "parcoords"
           }
          ],
          "pie": [
           {
            "automargin": true,
            "type": "pie"
           }
          ],
          "scatter": [
           {
            "fillpattern": {
             "fillmode": "overlay",
             "size": 10,
             "solidity": 0.2
            },
            "type": "scatter"
           }
          ],
          "scatter3d": [
           {
            "line": {
             "colorbar": {
              "outlinewidth": 0,
              "ticks": ""
             }
            },
            "marker": {
             "colorbar": {
              "outlinewidth": 0,
              "ticks": ""
             }
            },
            "type": "scatter3d"
           }
          ],
          "scattercarpet": [
           {
            "marker": {
             "colorbar": {
              "outlinewidth": 0,
              "ticks": ""
             }
            },
            "type": "scattercarpet"
           }
          ],
          "scattergeo": [
           {
            "marker": {
             "colorbar": {
              "outlinewidth": 0,
              "ticks": ""
             }
            },
            "type": "scattergeo"
           }
          ],
          "scattergl": [
           {
            "marker": {
             "colorbar": {
              "outlinewidth": 0,
              "ticks": ""
             }
            },
            "type": "scattergl"
           }
          ],
          "scattermapbox": [
           {
            "marker": {
             "colorbar": {
              "outlinewidth": 0,
              "ticks": ""
             }
            },
            "type": "scattermapbox"
           }
          ],
          "scatterpolar": [
           {
            "marker": {
             "colorbar": {
              "outlinewidth": 0,
              "ticks": ""
             }
            },
            "type": "scatterpolar"
           }
          ],
          "scatterpolargl": [
           {
            "marker": {
             "colorbar": {
              "outlinewidth": 0,
              "ticks": ""
             }
            },
            "type": "scatterpolargl"
           }
          ],
          "scatterternary": [
           {
            "marker": {
             "colorbar": {
              "outlinewidth": 0,
              "ticks": ""
             }
            },
            "type": "scatterternary"
           }
          ],
          "surface": [
           {
            "colorbar": {
             "outlinewidth": 0,
             "ticks": ""
            },
            "colorscale": [
             [
              0,
              "#0d0887"
             ],
             [
              0.1111111111111111,
              "#46039f"
             ],
             [
              0.2222222222222222,
              "#7201a8"
             ],
             [
              0.3333333333333333,
              "#9c179e"
             ],
             [
              0.4444444444444444,
              "#bd3786"
             ],
             [
              0.5555555555555556,
              "#d8576b"
             ],
             [
              0.6666666666666666,
              "#ed7953"
             ],
             [
              0.7777777777777778,
              "#fb9f3a"
             ],
             [
              0.8888888888888888,
              "#fdca26"
             ],
             [
              1,
              "#f0f921"
             ]
            ],
            "type": "surface"
           }
          ],
          "table": [
           {
            "cells": {
             "fill": {
              "color": "#EBF0F8"
             },
             "line": {
              "color": "white"
             }
            },
            "header": {
             "fill": {
              "color": "#C8D4E3"
             },
             "line": {
              "color": "white"
             }
            },
            "type": "table"
           }
          ]
         },
         "layout": {
          "annotationdefaults": {
           "arrowcolor": "#2a3f5f",
           "arrowhead": 0,
           "arrowwidth": 1
          },
          "autotypenumbers": "strict",
          "coloraxis": {
           "colorbar": {
            "outlinewidth": 0,
            "ticks": ""
           }
          },
          "colorscale": {
           "diverging": [
            [
             0,
             "#8e0152"
            ],
            [
             0.1,
             "#c51b7d"
            ],
            [
             0.2,
             "#de77ae"
            ],
            [
             0.3,
             "#f1b6da"
            ],
            [
             0.4,
             "#fde0ef"
            ],
            [
             0.5,
             "#f7f7f7"
            ],
            [
             0.6,
             "#e6f5d0"
            ],
            [
             0.7,
             "#b8e186"
            ],
            [
             0.8,
             "#7fbc41"
            ],
            [
             0.9,
             "#4d9221"
            ],
            [
             1,
             "#276419"
            ]
           ],
           "sequential": [
            [
             0,
             "#0d0887"
            ],
            [
             0.1111111111111111,
             "#46039f"
            ],
            [
             0.2222222222222222,
             "#7201a8"
            ],
            [
             0.3333333333333333,
             "#9c179e"
            ],
            [
             0.4444444444444444,
             "#bd3786"
            ],
            [
             0.5555555555555556,
             "#d8576b"
            ],
            [
             0.6666666666666666,
             "#ed7953"
            ],
            [
             0.7777777777777778,
             "#fb9f3a"
            ],
            [
             0.8888888888888888,
             "#fdca26"
            ],
            [
             1,
             "#f0f921"
            ]
           ],
           "sequentialminus": [
            [
             0,
             "#0d0887"
            ],
            [
             0.1111111111111111,
             "#46039f"
            ],
            [
             0.2222222222222222,
             "#7201a8"
            ],
            [
             0.3333333333333333,
             "#9c179e"
            ],
            [
             0.4444444444444444,
             "#bd3786"
            ],
            [
             0.5555555555555556,
             "#d8576b"
            ],
            [
             0.6666666666666666,
             "#ed7953"
            ],
            [
             0.7777777777777778,
             "#fb9f3a"
            ],
            [
             0.8888888888888888,
             "#fdca26"
            ],
            [
             1,
             "#f0f921"
            ]
           ]
          },
          "colorway": [
           "#636efa",
           "#EF553B",
           "#00cc96",
           "#ab63fa",
           "#FFA15A",
           "#19d3f3",
           "#FF6692",
           "#B6E880",
           "#FF97FF",
           "#FECB52"
          ],
          "font": {
           "color": "#2a3f5f"
          },
          "geo": {
           "bgcolor": "white",
           "lakecolor": "white",
           "landcolor": "white",
           "showlakes": true,
           "showland": true,
           "subunitcolor": "#C8D4E3"
          },
          "hoverlabel": {
           "align": "left"
          },
          "hovermode": "closest",
          "mapbox": {
           "style": "light"
          },
          "paper_bgcolor": "white",
          "plot_bgcolor": "white",
          "polar": {
           "angularaxis": {
            "gridcolor": "#EBF0F8",
            "linecolor": "#EBF0F8",
            "ticks": ""
           },
           "bgcolor": "white",
           "radialaxis": {
            "gridcolor": "#EBF0F8",
            "linecolor": "#EBF0F8",
            "ticks": ""
           }
          },
          "scene": {
           "xaxis": {
            "backgroundcolor": "white",
            "gridcolor": "#DFE8F3",
            "gridwidth": 2,
            "linecolor": "#EBF0F8",
            "showbackground": true,
            "ticks": "",
            "zerolinecolor": "#EBF0F8"
           },
           "yaxis": {
            "backgroundcolor": "white",
            "gridcolor": "#DFE8F3",
            "gridwidth": 2,
            "linecolor": "#EBF0F8",
            "showbackground": true,
            "ticks": "",
            "zerolinecolor": "#EBF0F8"
           },
           "zaxis": {
            "backgroundcolor": "white",
            "gridcolor": "#DFE8F3",
            "gridwidth": 2,
            "linecolor": "#EBF0F8",
            "showbackground": true,
            "ticks": "",
            "zerolinecolor": "#EBF0F8"
           }
          },
          "shapedefaults": {
           "line": {
            "color": "#2a3f5f"
           }
          },
          "ternary": {
           "aaxis": {
            "gridcolor": "#DFE8F3",
            "linecolor": "#A2B1C6",
            "ticks": ""
           },
           "baxis": {
            "gridcolor": "#DFE8F3",
            "linecolor": "#A2B1C6",
            "ticks": ""
           },
           "bgcolor": "white",
           "caxis": {
            "gridcolor": "#DFE8F3",
            "linecolor": "#A2B1C6",
            "ticks": ""
           }
          },
          "title": {
           "x": 0.05
          },
          "xaxis": {
           "automargin": true,
           "gridcolor": "#EBF0F8",
           "linecolor": "#EBF0F8",
           "ticks": "",
           "title": {
            "standoff": 15
           },
           "zerolinecolor": "#EBF0F8",
           "zerolinewidth": 2
          },
          "yaxis": {
           "automargin": true,
           "gridcolor": "#EBF0F8",
           "linecolor": "#EBF0F8",
           "ticks": "",
           "title": {
            "standoff": 15
           },
           "zerolinecolor": "#EBF0F8",
           "zerolinewidth": 2
          }
         }
        },
        "title": {
         "text": "<b>Kinematic Model of Telemetry Stream</b>"
        },
        "xaxis": {
         "anchor": "y",
         "autorange": "reversed",
         "domain": [
          0,
          1
         ],
         "title": {
          "font": {
           "family": "Trebuchet"
          },
          "text": "East (m)"
         }
        },
        "yaxis": {
         "anchor": "x",
         "domain": [
          0,
          1
         ],
         "scaleanchor": "x",
         "scaleratio": 1,
         "title": {
          "text": "North (m)"
         }
        }
       }
      }
     },
     "metadata": {},
     "output_type": "display_data"
    }
   ],
   "source": [
    "df['error'] = error.shift(-1)\n",
    "\n",
    "fig = px.scatter(df, x='x', y='y')\n",
    "\n",
    "fig.update_xaxes(title_font_family=\"Trebuchet\")\n",
    "fig.update_layout(yaxis=dict(scaleanchor=\"x\", scaleratio=1),\n",
    "                  template = \"plotly_white\",\n",
    "                  title=\"<b>Kinematic Model of Telemetry Stream</b>\",\n",
    "                 )\n",
    "fig.update_layout(xaxis = dict(autorange=\"reversed\"))\n",
    "\n",
    "\n",
    "arrows = []\n",
    "for index, row in df.iloc[3:-3].iterrows():\n",
    "    arrow = go.layout.Annotation(dict(\n",
    "                    x=row['x_pred'],\n",
    "                    y=row['y_pred'],\n",
    "                    xref=\"x\", yref=\"y\",\n",
    "                    text=\"\",\n",
    "                    showarrow=True,\n",
    "                    axref=\"x\", ayref='y',\n",
    "                    ax=row['x'],\n",
    "                    ay=row['y'],\n",
    "                    arrowhead=3,\n",
    "                    arrowwidth=1.5,\n",
    "                    arrowcolor='rgb(255,51,0)',)\n",
    "                )\n",
    "    arrows.append(arrow)\n",
    "\n",
    "\n",
    "fig.update_layout(annotations=arrows)\n",
    "# update the axes labels\n",
    "fig.update_xaxes(title_text=\"East (m)\")\n",
    "fig.update_yaxes(title_text=\"North (m)\")\n",
    "# add subtitle\n",
    "fig.add_annotation(xref='paper', yref='paper', x=0.5, y=1.05,\n",
    "            text=\"Location (Blue) with Predicted Location for Next Timestamp (Red)\",\n",
    "            showarrow=False, font=dict(size=14))\n",
    "\n",
    "fig.write_html(\"figures/2D-kinematic-model.html\")\n",
    "fig.show()"
   ]
  },
  {
   "cell_type": "code",
   "execution_count": 14,
   "metadata": {},
   "outputs": [
    {
     "data": {
      "application/vnd.plotly.v1+json": {
       "config": {
        "plotlyServerURL": "https://plot.ly"
       },
       "data": [
        {
         "marker": {
          "color": [
           0.33950193981268206,
           0.8832552500873787,
           1.1942090651304955,
           1.1671331948339463,
           1.1924148232456724,
           1.2280860400714677,
           1.3970635268829623,
           1.4009983678099487,
           2.062546286886277,
           2.1940459756363677,
           1.508408596937434,
           1.9536113055273547,
           1.591353403256785,
           1.5588736055915393,
           2.070789651796398,
           2.2757288267594,
           2.4618375851760725,
           2.427006827392932,
           5.5935947796751,
           7.998496671625103,
           2.105092952283543,
           7.369189324091255,
           15.345778443529504,
           13.277665820579893,
           11.28979256318284,
           10.218989921667713,
           5.9130231404117914,
           8.746214129532412,
           7.853882501121981,
           5.985457442981685,
           3.49929351818515,
           7.781116234683504,
           10.307189134202694,
           7.0949271274803145,
           5.736138195586003,
           6.447672882670391,
           8.119153327194237,
           10.166483893169158,
           7.340289180636455,
           6.454023866540763,
           3.302050942961876,
           3.601807370186743,
           4.224936705005665,
           6.486495187123019,
           8.717195953245756,
           7.9612737214500235,
           8.482456451357487,
           16.049129466934716,
           11.901427528301497,
           10.300590129489098,
           7.626491889122841,
           4.807079671066093,
           9.390251499179032,
           6.234544151650266,
           6.118471646448344,
           7.325250283602834,
           4.5028089063802295,
           6.66314071330978,
           8.488061015056916,
           4.750042064752875,
           9.594168602394424,
           5.6486333829997175,
           5.281329425760128,
           8.567156784202789,
           5.783731292649385,
           5.538050433657699,
           4.133296994673814,
           2.318998168199312,
           4.149801140593317,
           4.693341241421508,
           4.0233619231543924,
           4.512424227425738,
           8.988395723568367,
           4.469277880441335,
           3.9735171482127782,
           8.387732979971261,
           5.851776191620997,
           7.504977728876532,
           9.56934974834162,
           5.917237463488183,
           5.944604417010025,
           3.045235074378263,
           5.786080222680199,
           3.5919310855833433,
           5.194914393950295,
           4.380104354053271,
           4.035767032540175,
           6.765505480562384,
           5.119890957092217,
           2.662331370592723,
           4.593736311671166,
           3.9252329754491506,
           7.248242875488065,
           6.4955463085479686,
           4.931346655220434,
           8.030451666356642,
           2.2022388852075543,
           2.6505894574406765,
           9.119602170123605,
           7.056468472269523,
           11.221740681054076,
           8.54921306763736,
           8.874609914805129,
           8.331937008515947,
           8.093954273144647,
           10.472046545657962,
           10.65338426076375,
           6.62343532733662,
           9.966655604204796,
           10.515258504464633,
           4.240934110663859,
           7.794079697096601,
           6.917615913668579,
           4.089702231543994,
           0.4641364812924831,
           8.114688635564598,
           1.7033399676919605,
           7.004071012742948,
           5.627335008562507,
           3.9840924830653073,
           10.763883953920471,
           7.120327557102439,
           8.406544657345542,
           9.707484883570412,
           5.510626452406429,
           4.390843375870752,
           1.5627127193554313,
           4.254917447305104,
           9.335362089247583,
           5.151211648504902,
           8.110278820040794,
           11.214650592653916,
           8.071083329232216,
           9.060912422417648,
           6.963609494631803,
           7.6431286872805035,
           8.708941481342805,
           7.161144961014256,
           11.857622793345858,
           5.280701745300814,
           5.275338983651928,
           10.930784759221174,
           5.29450511621666,
           4.780697286861059,
           5.670300212034565,
           12.251476499953538,
           6.187240606043639,
           11.754192657106197,
           12.609823605255762,
           8.171558100688287,
           9.990223315537762,
           8.606092435436892,
           3.0843009914255646,
           9.517249491677793,
           15.11851046107798,
           15.525365357233504,
           20.370382961230035,
           14.09393967167355,
           11.884787110612137,
           12.702023669507364,
           9.056829461509956,
           11.86431270850972,
           6.17432307371105,
           5.975046369045664,
           3.208519370419813,
           5.473909310242716,
           8.915909135945768,
           10.779842999692898,
           4.426118682521765,
           7.010178659543627,
           3.9884003551400564,
           10.906698479319216,
           6.1380024850643595,
           12.893232655336448,
           12.103860496528911,
           6.639528471967948,
           9.121567361479828,
           6.468674552677058,
           5.4870259651515685,
           6.160383001952402,
           6.399912750875336,
           6.325481843680601,
           5.218952398891321,
           9.49463941076955,
           8.063473149427463,
           10.361657700971703,
           3.9256085506062672,
           5.511928254012975,
           3.8681607315628224,
           10.280087538296305,
           5.922487397518666,
           2.710517016056823,
           7.891997342231297,
           4.339035561861294,
           3.632989343653481,
           5.007897434732106,
           5.627787923133802,
           8.539478291561348,
           3.1474575416272845,
           7.19494340090366,
           7.5080078341690255,
           5.273285382259929,
           5.275429169566821,
           4.874292600213281,
           3.836490343765784,
           6.839108865087358,
           5.7518714761877145,
           3.7555199520609666,
           6.50601038811628,
           2.884959531132794,
           8.393678833520354,
           9.632025190985907,
           6.921059718245825,
           5.719420872720665,
           4.410927945383089,
           5.417424302447981,
           7.8046311680013964,
           4.9463750729105245,
           2.0848090401045423,
           2.7911621217403257,
           4.005829091328345,
           4.703098945780095,
           2.7520104015365416,
           6.2952173487688485,
           7.895855904939748,
           3.556634705960697,
           10.99291413832807,
           4.871657954569358,
           7.21831078095678,
           89.13912064455711,
           null
          ],
          "colorscale": [
           [
            0,
            "#440154"
           ],
           [
            0.1111111111111111,
            "#482878"
           ],
           [
            0.2222222222222222,
            "#3e4989"
           ],
           [
            0.3333333333333333,
            "#31688e"
           ],
           [
            0.4444444444444444,
            "#26828e"
           ],
           [
            0.5555555555555556,
            "#1f9e89"
           ],
           [
            0.6666666666666666,
            "#35b779"
           ],
           [
            0.7777777777777778,
            "#6ece58"
           ],
           [
            0.8888888888888888,
            "#b5de2b"
           ],
           [
            1,
            "#fde725"
           ]
          ],
          "opacity": 0.8,
          "size": 2
         },
         "mode": "markers",
         "type": "scatter3d",
         "x": [
          -0.0027773041017701986,
          -0.008331912274413038,
          -0.016663824259108267,
          -0.02777304032753148,
          -0.03888225614189801,
          -0.04999147189129271,
          -0.06110068772137897,
          -0.07498720711365575,
          -0.08609642275495744,
          -0.10276024616461193,
          -0.11942406936610597,
          -0.13053328493325578,
          -0.14719710827932692,
          -0.15830632392493765,
          -0.17219284347881725,
          -0.19163397083353056,
          -0.2138524020014138,
          -0.24162544113383636,
          -0.266621176853062,
          -0.283285002429441,
          -0.2888396156728394,
          -0.2721757993906363,
          -0.2638438985194564,
          -0.294394256025022,
          -0.4082637388604132,
          -0.6304480858119649,
          -0.9581699972351705,
          -1.3219968735419385,
          -1.6108365382350143,
          -1.749701766926348,
          -1.69137838506066,
          -1.4997443837938345,
          -1.249786978010518,
          -0.9998295616230661,
          -0.7665359563357793,
          -0.5360196371399902,
          -0.2888394789607579,
          -0.030550094494993102,
          0.213852782917758,
          0.4610329820200092,
          0.7082131998197165,
          0.9331750016846216,
          1.13314107339112,
          1.2858929826474377,
          1.3608803882137446,
          1.3692125085860058,
          1.3136666592328623,
          1.191465525073171,
          1.0081637043468394,
          0.7665384916332803,
          0.4915856092231278,
          0.18052775239853927,
          -0.16385777819218078,
          -0.5276844631290394,
          -0.9387253588820705,
          -1.3914258800807189,
          -1.8607902769734257,
          -2.3412639386953895,
          -2.821737630908921,
          -3.288324796012251,
          -3.754911970099792,
          -4.238162980704606,
          -4.7269685994683766,
          -5.2352153598390725,
          -5.749016734431235,
          -6.257263478650112,
          -6.765510207233884,
          -7.2598704040055,
          -7.7514532975456785,
          -8.24303620835881,
          -8.723509907423406,
          -9.190097104505215,
          -9.653907010638767,
          -10.10660769783939,
          -10.55375381837855,
          -11.006454557989413,
          -11.445268790655016,
          -11.87297385837979,
          -12.29512432330077,
          -12.697833688306147,
          -13.086656518709423,
          -13.467147387970641,
          -13.833751707525863,
          -14.20591059566995,
          -14.589178672371238,
          -14.983555977134845,
          -15.405706325749966,
          -15.838965900256202,
          -16.286112026719373,
          -16.741590029563294,
          -17.17484959254795,
          -17.574781501770964,
          -17.930276524834085,
          -18.227448226312035,
          -18.474628508142466,
          -18.655153527051112,
          -18.757914095556217,
          -18.78568743646,
          -18.73291890159208,
          -18.610717665651578,
          -18.421860993914834,
          -18.171903551359826,
          -17.858068049299373,
          -17.5109048747069,
          -17.147077880657495,
          -16.791582744884614,
          -16.46663797864874,
          -16.138915948779793,
          -15.811193928509558,
          -15.464030839618836,
          -15.08354006116323,
          -14.689162708079772,
          -14.264235007025892,
          -13.800425028421426,
          -13.314396664740237,
          -12.82559105852597,
          -12.353449322677884,
          -11.92852183833335,
          -11.536922023339844,
          -11.173095276667766,
          -10.834264283973607,
          -10.489878635381222,
          -10.156602188586557,
          -9.823325689912949,
          -9.476162603019173,
          -9.131776795164527,
          -8.784613636945682,
          -8.459668887454654,
          -8.179160976188736,
          -7.92364877393533,
          -7.679245803937986,
          -7.395960574533843,
          -7.054352017445263,
          -6.65997475167182,
          -6.240601784037336,
          -5.849001937403335,
          -5.507393615197728,
          -5.229663313328242,
          -4.996369917659503,
          -4.788072262634644,
          -4.5686653712087395,
          -4.318708098314038,
          -4.024313904936195,
          -3.677150878238423,
          -3.293882833168027,
          -2.893950928602827,
          -2.507905520336045,
          -2.1468558250496677,
          -1.8219110848459494,
          -1.516407467222217,
          -1.2109038408344204,
          -0.8748498689224382,
          -0.4943590341416984,
          -0.09164978570967514,
          0.29995020220965257,
          0.6193402109955035,
          0.8554110278632328,
          1.0276038007760198,
          1.163691592296137,
          1.2831155533658063,
          1.383098388673458,
          1.424757836483571,
          1.3830981558299162,
          1.2692285683462323,
          1.0859263752032071,
          0.8498554031972089,
          0.5971206173777709,
          0.34716314967543827,
          0.0999829986597503,
          -0.15275175515916276,
          -0.4332595501991054,
          -0.7554269075956312,
          -1.1109219089230653,
          -1.449753060947153,
          -1.75525653499392,
          -2.0413188441569776,
          -2.3079399932752827,
          -2.5717838243394007,
          -2.846736855576103,
          -3.1133579759329892,
          -3.3605379696015714,
          -3.5938314496547066,
          -3.7854653800393763,
          -3.935439773667828,
          -4.079859605123021,
          -4.252052531864631,
          -4.488123491050354,
          -4.796404381998555,
          -5.157454049650003,
          -5.549054036492558,
          -5.95176323866702,
          -6.360027035480339,
          -6.7655135275940985,
          -7.182109235764407,
          -7.607036844571367,
          -8.029187159963383,
          -8.459669370048234,
          -8.879042359406895,
          -9.29286075823871,
          -9.701124532822202,
          -10.101056431784349,
          -10.478769915106378,
          -10.806491918587305,
          -11.0620040182344,
          -11.200869292475527,
          -11.223087778338396,
          -11.139768664726304,
          -10.962021180622799,
          -10.728727625417946,
          -10.456551768611602,
          -10.159380181167503,
          -9.845544747141362,
          -9.528931960556246,
          -9.201209962626702,
          -8.856824107508189,
          -8.520770155978523,
          -8.173606993102911,
          -7.815334601872264,
          -7.448730315177828,
          -7.059907583186581,
          -6.659975639856102,
          -6.260043711749724,
          -5.865666389930011,
          -5.4796210269336205,
          -5.099130300265569,
          -4.721416897443834,
          -4.354812749722859,
          -4.024313580188635,
          -3.7326967001489733,
          -3.477184789162825,
          -2.5217921928353393
         ],
         "y": [
          -0.0020476899123041785,
          -0.006143070020026171,
          -0.01433383076964257,
          -0.024572281706767753,
          -0.03481073296927756,
          -0.04504918428196738,
          -0.053239945444445096,
          -0.061430706360652135,
          -0.07166915767946368,
          -0.08190760928162139,
          -0.09214606034636949,
          -0.10238451169266508,
          -0.11262296313564504,
          -0.12286141457690761,
          -0.13309986606189106,
          -0.14333831768567862,
          -0.1515290792753972,
          -0.15767215052832315,
          -0.16586291254953955,
          -0.1822444372283468,
          -0.20067365507172236,
          -0.2293413288369271,
          -0.26210438775843403,
          -0.32148742833096944,
          -0.43206274219466617,
          -0.5610672807801993,
          -0.677785683059116,
          -0.7330733667316616,
          -0.6921195712974173,
          -0.5651627399963018,
          -0.3767751650551741,
          -0.1371953107152389,
          0.15971987870502186,
          0.48735040888045705,
          0.8334101341488085,
          1.191755975292259,
          1.5296248805628494,
          1.8490645409361388,
          2.166456493533347,
          2.4838484331622297,
          2.8114787983492455,
          3.153442981051447,
          3.4913117607977737,
          3.8291805312860223,
          4.16909702166567,
          4.511061238389733,
          4.861216289787428,
          5.205228356605369,
          5.536954368082733,
          5.85025126461306,
          6.136928218068318,
          6.399032924805798,
          6.634517701938085,
          6.84338252692501,
          7.015389001099654,
          7.134155585188846,
          7.205825295229726,
          7.230398116685681,
          7.222207859580186,
          7.2058267904267765,
          7.177159566752323,
          7.142349288751899,
          7.117777489252875,
          7.097301113903807,
          7.0747770505338305,
          7.070682205169698,
          7.076825815352613,
          7.082969400648867,
          7.103446846927445,
          7.1177812247181595,
          7.113686342854111,
          7.107543766814843,
          7.093210413483244,
          7.070686263784543,
          7.048162132545597,
          7.025638007250666,
          6.988780001801736,
          6.939635835365735,
          6.882300873902242,
          6.808584336081708,
          6.741010854511694,
          6.695961984303615,
          6.65910386339789,
          6.628388808832233,
          6.612007619838696,
          6.593578748155327,
          6.573102201785449,
          6.558768754035029,
          6.528053757328222,
          6.474814087823459,
          6.415431301165946,
          6.337619208035717,
          6.212710036284305,
          6.040703802601932,
          5.811362024731782,
          5.5205892927625575,
          5.192957973170031,
          4.834611144188431,
          4.468073465778718,
          4.117917309439116,
          3.8046196438951263,
          3.5609436308774054,
          3.401223140177519,
          3.3213627946117046,
          3.331601076714441,
          3.4216994905799387,
          3.540465657710657,
          3.6797087796111234,
          3.820999586951907,
          3.9336226465467337,
          4.031911799411093,
          4.126105527787711,
          4.208013054042071,
          4.27149128648104,
          4.316540258404309,
          4.322683038430465,
          4.259204222624697,
          4.124056158873371,
          3.923381911417674,
          3.6510384056675464,
          3.3582180042743315,
          3.089969944687747,
          2.86062809699579,
          2.715241704858196,
          2.6824784556217054,
          2.750052190259138,
          2.90362903332603,
          3.1432089912582923,
          3.4360289684211556,
          3.7513735538508968,
          4.070813521844398,
          4.345204193301231,
          4.523353256725976,
          4.599117649330282,
          4.57864045488547,
          4.457826358811821,
          4.259199997662847,
          4.009381380269954,
          3.7104182058660555,
          3.3848350646462295,
          3.071538090573717,
          2.8073857293471303,
          2.6149025787790103,
          2.5227563207935573,
          2.5432330909553205,
          2.6271882868481407,
          2.7664311456473483,
          2.954818582878954,
          3.16163524378134,
          3.3848334236142357,
          3.618270037482149,
          3.8373727730564537,
          4.0298554659133075,
          4.183432010903921,
          4.267387074257378,
          4.2489576650254275,
          4.126096124596927,
          3.923374707414989,
          3.6633179952627573,
          3.3725459433477893,
          3.073583131149549,
          2.768477273513126,
          2.4592760614265976,
          2.154170243324585,
          1.842921360595478,
          1.5255293983369609,
          1.2101851109205748,
          0.8927931101050794,
          0.5958779927869368,
          0.3153443761414701,
          0.03481072848003064,
          -0.2375321859379409,
          -0.5344474238555762,
          -0.8682211307379828,
          -1.2286148526080924,
          -1.6279147383280188,
          -2.0517869547805785,
          -2.471563825733141,
          -2.8688161168355872,
          -3.2210192214102586,
          -3.5117915811337186,
          -3.7370377978960874,
          -3.9049486294763183,
          -3.9950471441933746,
          -3.9909518209788004,
          -3.906996524783689,
          -3.7677535680061722,
          -3.6059860287551433,
          -3.460600045110015,
          -3.347977134399983,
          -3.251735765065173,
          -3.165732847857139,
          -3.098159161050419,
          -3.0510624068261984,
          -3.016251806548518,
          -2.9998704459665104,
          -2.995775241528284,
          -2.9671077063750477,
          -2.9015816823777856,
          -2.793054073115105,
          -2.6108094794023815,
          -2.3650863523412364,
          -2.0763616147985964,
          -1.7425875737874823,
          -1.3842411574827103,
          -1.0258947126171585,
          -0.6532143960558158,
          -0.2907725533597936,
          0.049144638446679045,
          0.3808710321718614,
          0.6798343004302272,
          0.964463683965613,
          1.236806876778322,
          1.4825300288658898,
          1.715966988537391,
          1.9494039228628939,
          2.1930792977753857,
          2.4367546443396724,
          2.666096119577771,
          2.8770083199300505,
          3.057205100856781,
          3.2107818630631852,
          3.3438816824226185,
          3.4216938096126417,
          3.429884393419043,
          3.395073443314315,
          3.307022518630739,
          3.16777932134411,
          2.9855346365198274,
          2.7439069143373653,
          1.9596409494406402
         ],
         "z": [
          -6.74163186213661e-11,
          1.0746364605476733e-10,
          -0.0024999994700198496,
          -0.0049999991344549365,
          -0.004999999016382579,
          -0.0024999992542375366,
          0.002500000309697786,
          0.00250000013630961,
          -0.0025000000481810794,
          -0.012500000267547688,
          -0.02500000076988903,
          -0.032500001435423205,
          -0.04000000166604667,
          -0.04500000218903878,
          -0.05000000298896144,
          -0.055000004016581824,
          -0.057500005366513306,
          -0.060000006766889644,
          -0.05250000781027562,
          -9.048246485399147e-9,
          0.13499999011809943,
          0.37499998996934186,
          0.6749999892156686,
          0.9274999847093954,
          1.0974999677640018,
          1.1499999338441866,
          1.1224998763532934,
          1.1099998064838843,
          1.0999997505950985,
          1.0874997306260046,
          1.0874997558840689,
          1.0749998077540996,
          1.054999858811523,
          1.0424998858628647,
          1.0349998818675388,
          1.007499849264227,
          0.9824997933247678,
          0.954999716262195,
          0.9324996141133499,
          0.9449994855589688,
          0.9549993250345823,
          0.9624991363715795,
          0.9399989312011944,
          0.8899987108782373,
          0.8424984828191701,
          0.8024982482355907,
          0.8049980029001388,
          0.8449977547433392,
          0.9099975061642338,
          1.0049972590766068,
          1.0749970173313443,
          1.122496776781335,
          1.1574965356297602,
          1.1749962942479897,
          1.207496058803396,
          1.2524958424280415,
          1.2874956405780678,
          1.3124954556543231,
          1.3199952717709476,
          1.2999950667168654,
          1.2774948397615136,
          1.2624945739913422,
          1.26249425553587,
          1.2824938782793778,
          1.304993459761354,
          1.3224929856872465,
          1.3324924608810398,
          1.3324919098730161,
          1.3449913073149815,
          1.3649906745591753,
          1.3749900393370644,
          1.3974893911687696,
          1.419988721277364,
          1.434988043257316,
          1.4749873429807419,
          1.5174866018899067,
          1.5574858689012516,
          1.6174851398636805,
          1.6724844012498419,
          1.7324836902849177,
          1.7874829756068917,
          1.8274822305564462,
          1.857481483854948,
          1.869980695781569,
          1.874979844510335,
          1.8824789459357094,
          1.8874779573857154,
          1.89747690757136,
          1.9124758088823681,
          1.904974681899903,
          1.8949735896374462,
          1.8799725796307631,
          1.847471713475516,
          1.829971034622751,
          1.8199705342171617,
          1.812470266120866,
          1.8274702383615344,
          1.8399704357062423,
          1.8424708577386917,
          1.8249714529655816,
          1.777472196895454,
          1.7224730556408931,
          1.66497403028901,
          1.6149750362721187,
          1.5824760211896618,
          1.5424769225242967,
          1.5149777077723112,
          1.5074784687326643,
          1.5049792072571984,
          1.522479990159554,
          1.5224808416580236,
          1.4999817012953098,
          1.4749826113774354,
          1.437483587831759,
          1.4174845911788858,
          1.4149855923405246,
          1.4124865719472541,
          1.4274874732586824,
          1.4324883205159444,
          1.4324891299726663,
          1.4399898768250783,
          1.4324905906993897,
          1.42999124124382,
          1.419991830639035,
          1.3974923714767469,
          1.3849928438175176,
          1.3649932625304593,
          1.354993588966774,
          1.3449938046955796,
          1.327493950311299,
          1.3324940553409603,
          1.327494210413119,
          1.3349944737179207,
          1.3574948417682142,
          1.3599952812075626,
          1.3749957402879276,
          1.3899961832754628,
          1.397496579934866,
          1.4249969474980038,
          1.452497288292146,
          1.484997608165758,
          1.5199979056100272,
          1.5449981798545582,
          1.569998425608988,
          1.5699986249097728,
          1.5549987840963817,
          1.527498890020173,
          1.4799989397910338,
          1.4499989432936449,
          1.4224989088570115,
          1.3949988464000356,
          1.3674987708629198,
          1.3174986906380912,
          1.279998610026519,
          1.2499985530518665,
          1.2424985486207059,
          1.2824986040983943,
          1.329998705398082,
          1.3874988347283972,
          1.447498971064398,
          1.4874991008710814,
          1.5249992320500414,
          1.5549993675784946,
          1.5774994989784208,
          1.5949996274894622,
          1.6024997455436416,
          1.6299998416683303,
          1.674999913136554,
          1.7524999584110084,
          1.8624999775188762,
          1.949999969573745,
          2.0149999311422606,
          2.0374998580844554,
          2.024999753770772,
          2.0199996182735998,
          2.007499442195117,
          2.0074992264310887,
          2.0274989775571326,
          2.0324986984791757,
          2.0499984097671895,
          2.054998134755276,
          2.0349978844699397,
          2.014997677204433,
          1.9874975332869496,
          1.95499744437608,
          1.9299973794067553,
          1.8974972959754508,
          1.864997161116836,
          1.83499695781462,
          1.7924966880036437,
          1.7624963734645815,
          1.7274960216824427,
          1.7049956373506991,
          1.6924952028408828,
          1.6749947248374935,
          1.6749942139209542,
          1.6649936594801469,
          1.6474931021755457,
          1.634992540238764,
          1.6024919787914171,
          1.5799914324451723,
          1.5624909166732066,
          1.54499046973229,
          1.5374901338580815,
          1.517489981156892,
          1.5099900100869443,
          1.4974902035791509,
          1.4874905374054492,
          1.4999909405303207,
          1.4999913822703512,
          1.5149918396532134,
          1.524992296184791,
          1.5099927316552224,
          1.5024931617251793,
          1.4774935922115628,
          1.4499939834879643,
          1.4349943581529079,
          1.4174947194069039,
          1.4149950675293606,
          1.402495419260346,
          1.389995766453218,
          1.3849960980451028,
          1.3699964072926099,
          1.3749967112298906,
          1.3724970230059421,
          1.3699973327576984,
          1.3849976409564109,
          1.3974979308738789,
          1.4299981970366615,
          1.4499984485254815,
          1.092498927554145
         ]
        },
        {
         "line": {
          "color": "red",
          "width": 1
         },
         "mode": "lines",
         "type": "scatter3d",
         "x": [
          -0.0027773041017701986,
          -0.006107304101770198
         ],
         "y": [
          -0.0020476899123041785,
          -0.008707689912304178
         ],
         "z": [
          -6.74163186213661e-11,
          -6.74163186213661e-11
         ]
        },
        {
         "line": {
          "color": "red",
          "width": 1
         },
         "mode": "lines",
         "type": "scatter3d",
         "x": [
          -0.008331912274413038,
          -0.008331912274413038
         ],
         "y": [
          -0.006143070020026171,
          -0.012803070020026173
         ],
         "z": [
          1.0746364605476733e-10,
          1.0746364605476733e-10
         ]
        },
        {
         "line": {
          "color": "red",
          "width": 1
         },
         "mode": "lines",
         "type": "scatter3d",
         "x": [
          -0.016663824259108267,
          -0.016663824259108267
         ],
         "y": [
          -0.01433383076964257,
          -0.020973830769642567
         ],
         "z": [
          -0.0024999994700198496,
          -0.0024999994700198496
         ]
        },
        {
         "line": {
          "color": "red",
          "width": 1
         },
         "mode": "lines",
         "type": "scatter3d",
         "x": [
          -0.02777304032753148,
          -0.02777304032753148
         ],
         "y": [
          -0.024572281706767753,
          -0.031232281706767756
         ],
         "z": [
          -0.0049999991344549365,
          -0.0049999991344549365
         ]
        },
        {
         "line": {
          "color": "red",
          "width": 1
         },
         "mode": "lines",
         "type": "scatter3d",
         "x": [
          -0.03888225614189801,
          -0.03888225614189801
         ],
         "y": [
          -0.03481073296927756,
          -0.041510732969277556
         ],
         "z": [
          -0.004999999016382579,
          -0.004999999016382579
         ]
        },
        {
         "line": {
          "color": "red",
          "width": 1
         },
         "mode": "lines",
         "type": "scatter3d",
         "x": [
          -0.04999147189129271,
          -0.04999147189129271
         ],
         "y": [
          -0.04504918428196738,
          -0.05168918428196738
         ],
         "z": [
          -0.0024999992542375366,
          -0.0024999992542375366
         ]
        },
        {
         "line": {
          "color": "red",
          "width": 1
         },
         "mode": "lines",
         "type": "scatter3d",
         "x": [
          -0.06110068772137897,
          -0.06110068772137897
         ],
         "y": [
          -0.053239945444445096,
          -0.0598999454444451
         ],
         "z": [
          0.002500000309697786,
          0.002500000309697786
         ]
        },
        {
         "line": {
          "color": "red",
          "width": 1
         },
         "mode": "lines",
         "type": "scatter3d",
         "x": [
          -0.07498720711365575,
          -0.07498720711365575
         ],
         "y": [
          -0.061430706360652135,
          -0.06475070636065214
         ],
         "z": [
          0.00250000013630961,
          0.00250000013630961
         ]
        },
        {
         "line": {
          "color": "red",
          "width": 1
         },
         "mode": "lines",
         "type": "scatter3d",
         "x": [
          -0.08609642275495744,
          -0.08609642275495744
         ],
         "y": [
          -0.07166915767946368,
          -0.07499915767946368
         ],
         "z": [
          -0.0025000000481810794,
          -0.0025000000481810794
         ]
        },
        {
         "line": {
          "color": "red",
          "width": 1
         },
         "mode": "lines",
         "type": "scatter3d",
         "x": [
          -0.10276024616461193,
          -0.10276024616461193
         ],
         "y": [
          -0.08190760928162139,
          -0.08525760928162139
         ],
         "z": [
          -0.012500000267547688,
          -0.012500000267547688
         ]
        },
        {
         "line": {
          "color": "red",
          "width": 1
         },
         "mode": "lines",
         "type": "scatter3d",
         "x": [
          -0.11942406936610597,
          -0.11942406936610597
         ],
         "y": [
          -0.09214606034636949,
          -0.0954660603463695
         ],
         "z": [
          -0.02500000076988903,
          -0.02500000076988903
         ]
        },
        {
         "line": {
          "color": "red",
          "width": 1
         },
         "mode": "lines",
         "type": "scatter3d",
         "x": [
          -0.13053328493325578,
          -0.13053328493325578
         ],
         "y": [
          -0.10238451169266508,
          -0.10571451169266508
         ],
         "z": [
          -0.032500001435423205,
          -0.032500001435423205
         ]
        },
        {
         "line": {
          "color": "red",
          "width": 1
         },
         "mode": "lines",
         "type": "scatter3d",
         "x": [
          -0.14719710827932692,
          -0.14719710827932692
         ],
         "y": [
          -0.11262296313564504,
          -0.11262296313564504
         ],
         "z": [
          -0.04000000166604667,
          -0.04000000166604667
         ]
        },
        {
         "line": {
          "color": "red",
          "width": 1
         },
         "mode": "lines",
         "type": "scatter3d",
         "x": [
          -0.15830632392493765,
          -0.15830632392493765
         ],
         "y": [
          -0.12286141457690761,
          -0.1262114145769076
         ],
         "z": [
          -0.04500000218903878,
          -0.04835000218903878
         ]
        },
        {
         "line": {
          "color": "red",
          "width": 1
         },
         "mode": "lines",
         "type": "scatter3d",
         "x": [
          -0.17219284347881725,
          -0.17219284347881725
         ],
         "y": [
          -0.13309986606189106,
          -0.13640986606189107
         ],
         "z": [
          -0.05000000298896144,
          -0.05331000298896145
         ]
        },
        {
         "line": {
          "color": "red",
          "width": 1
         },
         "mode": "lines",
         "type": "scatter3d",
         "x": [
          -0.19163397083353056,
          -0.19163397083353056
         ],
         "y": [
          -0.14333831768567862,
          -0.14667831768567863
         ],
         "z": [
          -0.055000004016581824,
          -0.05834000401658182
         ]
        },
        {
         "line": {
          "color": "red",
          "width": 1
         },
         "mode": "lines",
         "type": "scatter3d",
         "x": [
          -0.2138524020014138,
          -0.2171824020014138
         ],
         "y": [
          -0.1515290792753972,
          -0.1548590792753972
         ],
         "z": [
          -0.057500005366513306,
          -0.060830005366513305
         ]
        },
        {
         "line": {
          "color": "red",
          "width": 1
         },
         "mode": "lines",
         "type": "scatter3d",
         "x": [
          -0.24162544113383636,
          -0.24495544113383635
         ],
         "y": [
          -0.15767215052832315,
          -0.16433215052832315
         ],
         "z": [
          -0.060000006766889644,
          -0.06333000676688964
         ]
        },
        {
         "line": {
          "color": "red",
          "width": 1
         },
         "mode": "lines",
         "type": "scatter3d",
         "x": [
          -0.266621176853062,
          -0.266621176853062
         ],
         "y": [
          -0.16586291254953955,
          -0.17250291254953956
         ],
         "z": [
          -0.05250000781027562,
          -0.05250000781027562
         ]
        },
        {
         "line": {
          "color": "red",
          "width": 1
         },
         "mode": "lines",
         "type": "scatter3d",
         "x": [
          -0.283285002429441,
          -0.263245002429441
         ],
         "y": [
          -0.1822444372283468,
          -0.22566443722834675
         ],
         "z": [
          -9.048246485399147e-9,
          0.06345999095175345
         ]
        },
        {
         "line": {
          "color": "red",
          "width": 1
         },
         "mode": "lines",
         "type": "scatter3d",
         "x": [
          -0.2888396156728394,
          -0.27881961567283936
         ],
         "y": [
          -0.20067365507172236,
          -0.21069365507172239
         ],
         "z": [
          0.13499999011809943,
          0.3821599901180998
         ]
        },
        {
         "line": {
          "color": "red",
          "width": 1
         },
         "mode": "lines",
         "type": "scatter3d",
         "x": [
          -0.2721757993906363,
          -0.21905579939063632
         ],
         "y": [
          -0.2293413288369271,
          -0.2891013288369271
         ],
         "z": [
          0.37499998996934186,
          0.7269199899693417
         ]
        },
        {
         "line": {
          "color": "red",
          "width": 1
         },
         "mode": "lines",
         "type": "scatter3d",
         "x": [
          -0.2638438985194564,
          -0.2306438985194564
         ],
         "y": [
          -0.26210438775843403,
          -0.311904387758434
         ],
         "z": [
          0.6749999892156686,
          1.0667599892156685
         ]
        },
        {
         "line": {
          "color": "red",
          "width": 1
         },
         "mode": "lines",
         "type": "scatter3d",
         "x": [
          -0.294394256025022,
          -0.35100425602502205
         ],
         "y": [
          -0.32148742833096944,
          -0.3847574283309695
         ],
         "z": [
          0.9274999847093954,
          0.9874399847093954
         ]
        },
        {
         "line": {
          "color": "red",
          "width": 1
         },
         "mode": "lines",
         "type": "scatter3d",
         "x": [
          -0.4082637388604132,
          -0.5255137388604129
         ],
         "y": [
          -0.43206274219466617,
          -0.5962127421946657
         ],
         "z": [
          1.0974999677640018,
          1.1276499677640017
         ]
        },
        {
         "line": {
          "color": "red",
          "width": 1
         },
         "mode": "lines",
         "type": "scatter3d",
         "x": [
          -0.6304480858119649,
          -0.8761280858119654
         ],
         "y": [
          -0.5610672807801993,
          -0.7337072807801996
         ],
         "z": [
          1.1499999338441866,
          1.1466799338441866
         ]
        },
        {
         "line": {
          "color": "red",
          "width": 1
         },
         "mode": "lines",
         "type": "scatter3d",
         "x": [
          -0.9581699972351705,
          -1.3610999972351707
         ],
         "y": [
          -0.677785683059116,
          -0.737725683059116
         ],
         "z": [
          1.1224998763532934,
          1.0658898763532934
         ]
        },
        {
         "line": {
          "color": "red",
          "width": 1
         },
         "mode": "lines",
         "type": "scatter3d",
         "x": [
          -1.3219968735419385,
          -1.6905168735419374
         ],
         "y": [
          -0.7330733667316616,
          -0.7164733667316616
         ],
         "z": [
          1.1099998064838843,
          1.1265998064838842
         ]
        },
        {
         "line": {
          "color": "red",
          "width": 1
         },
         "mode": "lines",
         "type": "scatter3d",
         "x": [
          -1.6108365382350143,
          -1.8106365382350145
         ],
         "y": [
          -0.6921195712974173,
          -0.5955495712974173
         ],
         "z": [
          1.0999997505950985,
          1.1266397505950985
         ]
        },
        {
         "line": {
          "color": "red",
          "width": 1
         },
         "mode": "lines",
         "type": "scatter3d",
         "x": [
          -1.749701766926348,
          -1.743001766926348
         ],
         "y": [
          -0.5651627399963018,
          -0.35411273999630133
         ],
         "z": [
          1.0874997306260046,
          1.0673997306260046
         ]
        },
        {
         "line": {
          "color": "red",
          "width": 1
         },
         "mode": "lines",
         "type": "scatter3d",
         "x": [
          -1.69137838506066,
          -1.5054583850606607
         ],
         "y": [
          -0.3767751650551741,
          -0.13109516505517488
         ],
         "z": [
          1.0874997558840689,
          1.041019755884069
         ]
        },
        {
         "line": {
          "color": "red",
          "width": 1
         },
         "mode": "lines",
         "type": "scatter3d",
         "x": [
          -1.4997443837938345,
          -1.2866243837938343
         ],
         "y": [
          -0.1371953107152389,
          0.17582468928476122
         ],
         "z": [
          1.0749998077540996,
          1.1216198077540998
         ]
        },
        {
         "line": {
          "color": "red",
          "width": 1
         },
         "mode": "lines",
         "type": "scatter3d",
         "x": [
          -1.249786978010518,
          -1.0705069780105176
         ],
         "y": [
          0.15971987870502186,
          0.5481598787050227
         ],
         "z": [
          1.054999858811523,
          0.9985598588115229
         ]
        },
        {
         "line": {
          "color": "red",
          "width": 1
         },
         "mode": "lines",
         "type": "scatter3d",
         "x": [
          -0.9998295616230661,
          -0.763399561623066
         ],
         "y": [
          0.48735040888045705,
          0.8636404088804572
         ],
         "z": [
          1.0424998858628647,
          1.0991098858628647
         ]
        },
        {
         "line": {
          "color": "red",
          "width": 1
         },
         "mode": "lines",
         "type": "scatter3d",
         "x": [
          -0.7665359563357793,
          -0.48848595633578007
         ],
         "y": [
          0.8334101341488085,
          1.2220101341488074
         ],
         "z": [
          1.0349998818675388,
          1.0182498818675387
         ]
        },
        {
         "line": {
          "color": "red",
          "width": 1
         },
         "mode": "lines",
         "type": "scatter3d",
         "x": [
          -0.5360196371399902,
          -0.26377963713998964
         ],
         "y": [
          1.191755975292259,
          1.5835159752922598
         ],
         "z": [
          1.007499849264227,
          1.007499849264227
         ]
        },
        {
         "line": {
          "color": "red",
          "width": 1
         },
         "mode": "lines",
         "type": "scatter3d",
         "x": [
          -0.2888394789607579,
          -0.025769478960757763
         ],
         "y": [
          1.5296248805628494,
          1.9225648805628497
         ],
         "z": [
          0.9824997933247678,
          0.9891597933247678
         ]
        },
        {
         "line": {
          "color": "red",
          "width": 1
         },
         "mode": "lines",
         "type": "scatter3d",
         "x": [
          -0.030550094494993102,
          0.2748899055050059
         ],
         "y": [
          1.8490645409361388,
          2.154504540936138
         ],
         "z": [
          0.954999716262195,
          0.8520797162621954
         ]
        },
        {
         "line": {
          "color": "red",
          "width": 1
         },
         "mode": "lines",
         "type": "scatter3d",
         "x": [
          0.213852782917758,
          0.47850278291775866
         ],
         "y": [
          2.166456493533347,
          2.4813564935333474
         ],
         "z": [
          0.9324996141133499,
          1.0162496141133501
         ]
        },
        {
         "line": {
          "color": "red",
          "width": 1
         },
         "mode": "lines",
         "type": "scatter3d",
         "x": [
          0.4610329820200092,
          0.6908029820200093
         ],
         "y": [
          2.4838484331622297,
          2.84348843316223
         ],
         "z": [
          0.9449994855589688,
          1.008269485558969
         ]
        },
        {
         "line": {
          "color": "red",
          "width": 1
         },
         "mode": "lines",
         "type": "scatter3d",
         "x": [
          0.7082131998197165,
          0.9505731998197158
         ],
         "y": [
          2.8114787983492455,
          3.1766787983492444
         ],
         "z": [
          0.9549993250345823,
          0.9782393250345822
         ]
        },
        {
         "line": {
          "color": "red",
          "width": 1
         },
         "mode": "lines",
         "type": "scatter3d",
         "x": [
          0.9331750016846216,
          1.148975001684622
         ],
         "y": [
          3.153442981051447,
          3.5053629810514475
         ],
         "z": [
          0.9624991363715795,
          0.9691391363715794
         ]
        },
        {
         "line": {
          "color": "red",
          "width": 1
         },
         "mode": "lines",
         "type": "scatter3d",
         "x": [
          1.13314107339112,
          1.2996410733911201
         ],
         "y": [
          3.4913117607977737,
          3.830971760797774
         ],
         "z": [
          0.9399989312011944,
          0.8500889312011943
         ]
        },
        {
         "line": {
          "color": "red",
          "width": 1
         },
         "mode": "lines",
         "type": "scatter3d",
         "x": [
          1.2858929826474377,
          1.4131929826474374
         ],
         "y": [
          3.8291805312860223,
          4.160830531286021
         ],
         "z": [
          0.8899987108782373,
          0.8799487108782373
         ]
        },
        {
         "line": {
          "color": "red",
          "width": 1
         },
         "mode": "lines",
         "type": "scatter3d",
         "x": [
          1.3608803882137446,
          1.4274803882137446
         ],
         "y": [
          4.16909702166567,
          4.5254070216656705
         ],
         "z": [
          0.8424984828191701,
          0.73926848281917
         ]
        },
        {
         "line": {
          "color": "red",
          "width": 1
         },
         "mode": "lines",
         "type": "scatter3d",
         "x": [
          1.3692125085860058,
          1.3360125085860057
         ],
         "y": [
          4.511061238389733,
          4.849701238389733
         ],
         "z": [
          0.8024982482355907,
          0.7294582482355905
         ]
        },
        {
         "line": {
          "color": "red",
          "width": 1
         },
         "mode": "lines",
         "type": "scatter3d",
         "x": [
          1.3136666592328623,
          1.2472666592328625
         ],
         "y": [
          4.861216289787428,
          5.169976289787426
         ],
         "z": [
          0.8049980029001388,
          0.7917180029001388
         ]
        },
        {
         "line": {
          "color": "red",
          "width": 1
         },
         "mode": "lines",
         "type": "scatter3d",
         "x": [
          1.191465525073171,
          1.0948955250731705
         ],
         "y": [
          5.205228356605369,
          5.531568356605371
         ],
         "z": [
          0.8449977547433392,
          0.7750677547433388
         ]
        },
        {
         "line": {
          "color": "red",
          "width": 1
         },
         "mode": "lines",
         "type": "scatter3d",
         "x": [
          1.0081637043468394,
          0.8250137043468403
         ],
         "y": [
          5.536954368082733,
          5.8299943680827315
         ],
         "z": [
          0.9099975061642338,
          0.9033375061642338
         ]
        },
        {
         "line": {
          "color": "red",
          "width": 1
         },
         "mode": "lines",
         "type": "scatter3d",
         "x": [
          0.7665384916332803,
          0.5160384916332805
         ],
         "y": [
          5.85025126461306,
          6.13749126461306
         ],
         "z": [
          1.0049972590766068,
          0.9749372590766068
         ]
        },
        {
         "line": {
          "color": "red",
          "width": 1
         },
         "mode": "lines",
         "type": "scatter3d",
         "x": [
          0.4915856092231278,
          0.21519560922312614
         ],
         "y": [
          6.136928218068318,
          6.3766882180683195
         ],
         "z": [
          1.0749970173313443,
          1.0583470173313443
         ]
        },
        {
         "line": {
          "color": "red",
          "width": 1
         },
         "mode": "lines",
         "type": "scatter3d",
         "x": [
          0.18052775239853927,
          -0.1358222476014592
         ],
         "y": [
          6.399032924805798,
          6.595502924805797
         ],
         "z": [
          1.122496776781335,
          1.1591267767813347
         ]
        },
        {
         "line": {
          "color": "red",
          "width": 1
         },
         "mode": "lines",
         "type": "scatter3d",
         "x": [
          -0.16385777819218078,
          -0.5423377781921817
         ],
         "y": [
          6.634517701938085,
          6.803837701938086
         ],
         "z": [
          1.1574965356297602,
          1.09109653562976
         ]
        },
        {
         "line": {
          "color": "red",
          "width": 1
         },
         "mode": "lines",
         "type": "scatter3d",
         "x": [
          -0.5276844631290394,
          -0.8806644631290377
         ],
         "y": [
          6.84338252692501,
          7.0032225269250095
         ],
         "z": [
          1.1749962942479897,
          1.1883162942479897
         ]
        },
        {
         "line": {
          "color": "red",
          "width": 1
         },
         "mode": "lines",
         "type": "scatter3d",
         "x": [
          -0.9387253588820705,
          -1.3474253588820715
         ],
         "y": [
          7.015389001099654,
          7.1426890010996535
         ],
         "z": [
          1.207496058803396,
          1.210846058803396
         ]
        },
        {
         "line": {
          "color": "red",
          "width": 1
         },
         "mode": "lines",
         "type": "scatter3d",
         "x": [
          -1.3914258800807189,
          -1.8628658800807198
         ],
         "y": [
          7.134155585188846,
          7.157395585188846
         ],
         "z": [
          1.2524958424280415,
          1.2325758424280415
         ]
        },
        {
         "line": {
          "color": "red",
          "width": 1
         },
         "mode": "lines",
         "type": "scatter3d",
         "x": [
          -1.8607902769734257,
          -2.310340276973424
         ],
         "y": [
          7.205825295229726,
          7.205825295229726
         ],
         "z": [
          1.2874956405780678,
          1.3341156405780676
         ]
        },
        {
         "line": {
          "color": "red",
          "width": 1
         },
         "mode": "lines",
         "type": "scatter3d",
         "x": [
          -2.3412639386953895,
          -2.7629039386953904
         ],
         "y": [
          7.230398116685681,
          7.20715811668568
         ],
         "z": [
          1.3124954556543231,
          1.2925754556543232
         ]
        },
        {
         "line": {
          "color": "red",
          "width": 1
         },
         "mode": "lines",
         "type": "scatter3d",
         "x": [
          -2.821737630908921,
          -3.2546376309089236
         ],
         "y": [
          7.222207859580186,
          7.1522778595801855
         ],
         "z": [
          1.3199952717709476,
          1.2434052717709472
         ]
        },
        {
         "line": {
          "color": "red",
          "width": 1
         },
         "mode": "lines",
         "type": "scatter3d",
         "x": [
          -3.288324796012251,
          -3.7238247960122477
         ],
         "y": [
          7.2058267904267765,
          7.152226790426777
         ],
         "z": [
          1.2999950667168654,
          1.3033450667168653
         ]
        },
        {
         "line": {
          "color": "red",
          "width": 1
         },
         "mode": "lines",
         "type": "scatter3d",
         "x": [
          -3.754911970099792,
          -4.199791970099793
         ],
         "y": [
          7.177159566752323,
          7.143959566752323
         ],
         "z": [
          1.2774948397615136,
          1.1745748397615134
         ]
        },
        {
         "line": {
          "color": "red",
          "width": 1
         },
         "mode": "lines",
         "type": "scatter3d",
         "x": [
          -4.238162980704606,
          -4.701032980704609
         ],
         "y": [
          7.142349288751899,
          7.092399288751899
         ],
         "z": [
          1.2624945739913422,
          1.219204573991342
         ]
        },
        {
         "line": {
          "color": "red",
          "width": 1
         },
         "mode": "lines",
         "type": "scatter3d",
         "x": [
          -4.7269685994683766,
          -5.1851285994683725
         ],
         "y": [
          7.117777489252875,
          7.094537489252875
         ],
         "z": [
          1.26249425553587,
          1.2990142555358697
         ]
        },
        {
         "line": {
          "color": "red",
          "width": 1
         },
         "mode": "lines",
         "type": "scatter3d",
         "x": [
          -5.2352153598390725,
          -5.7176153598390735
         ],
         "y": [
          7.097301113903807,
          7.107351113903807
         ],
         "z": [
          1.2824938782793778,
          1.2322438782793776
         ]
        },
        {
         "line": {
          "color": "red",
          "width": 1
         },
         "mode": "lines",
         "type": "scatter3d",
         "x": [
          -5.749016734431235,
          -6.225206734431238
         ],
         "y": [
          7.0747770505338305,
          7.05146705053383
         ],
         "z": [
          1.304993459761354,
          1.2783534597613537
         ]
        },
        {
         "line": {
          "color": "red",
          "width": 1
         },
         "mode": "lines",
         "type": "scatter3d",
         "x": [
          -6.257263478650112,
          -6.735343478650107
         ],
         "y": [
          7.070682205169698,
          7.077322205169698
         ],
         "z": [
          1.3224929856872465,
          1.378932985687246
         ]
        },
        {
         "line": {
          "color": "red",
          "width": 1
         },
         "mode": "lines",
         "type": "scatter3d",
         "x": [
          -6.765510207233884,
          -7.273470207233886
         ],
         "y": [
          7.076825815352613,
          7.096745815352613
         ],
         "z": [
          1.3324924608810398,
          1.2959724608810397
         ]
        },
        {
         "line": {
          "color": "red",
          "width": 1
         },
         "mode": "lines",
         "type": "scatter3d",
         "x": [
          -7.2598704040055,
          -7.752710404005503
         ],
         "y": [
          7.082969400648867,
          7.082969400648867
         ],
         "z": [
          1.3324919098730161,
          1.3558019098730163
         ]
        },
        {
         "line": {
          "color": "red",
          "width": 1
         },
         "mode": "lines",
         "type": "scatter3d",
         "x": [
          -7.7514532975456785,
          -8.220453297545674
         ],
         "y": [
          7.103446846927445,
          7.126896846927445
         ],
         "z": [
          1.3449913073149815,
          1.3985913073149812
         ]
        },
        {
         "line": {
          "color": "red",
          "width": 1
         },
         "mode": "lines",
         "type": "scatter3d",
         "x": [
          -8.24303620835881,
          -8.75763620835881
         ],
         "y": [
          7.1177812247181595,
          7.1443412247181595
         ],
         "z": [
          1.3649906745591753,
          1.3849106745591753
         ]
        },
        {
         "line": {
          "color": "red",
          "width": 1
         },
         "mode": "lines",
         "type": "scatter3d",
         "x": [
          -8.723509907423406,
          -9.213019907423408
         ],
         "y": [
          7.113686342854111,
          7.113686342854111
         ],
         "z": [
          1.3749900393370644,
          1.3650000393370643
         ]
        },
        {
         "line": {
          "color": "red",
          "width": 1
         },
         "mode": "lines",
         "type": "scatter3d",
         "x": [
          -9.190097104505215,
          -9.63165710450521
         ],
         "y": [
          7.107543766814843,
          7.127463766814843
         ],
         "z": [
          1.3974893911687696,
          1.4008093911687696
         ]
        },
        {
         "line": {
          "color": "red",
          "width": 1
         },
         "mode": "lines",
         "type": "scatter3d",
         "x": [
          -9.653907010638767,
          -10.106787010638769
         ],
         "y": [
          7.093210413483244,
          7.146490413483244
         ],
         "z": [
          1.419988721277364,
          1.386688721277364
         ]
        },
        {
         "line": {
          "color": "red",
          "width": 1
         },
         "mode": "lines",
         "type": "scatter3d",
         "x": [
          -10.10660769783939,
          -10.552827697839389
         ],
         "y": [
          7.070686263784543,
          7.084006263784543
         ],
         "z": [
          1.434988043257316,
          1.448308043257316
         ]
        },
        {
         "line": {
          "color": "red",
          "width": 1
         },
         "mode": "lines",
         "type": "scatter3d",
         "x": [
          -10.55375381837855,
          -10.984613818378548
         ],
         "y": [
          7.048162132545597,
          7.054842132545597
         ],
         "z": [
          1.4749873429807419,
          1.501707342980742
         ]
        },
        {
         "line": {
          "color": "red",
          "width": 1
         },
         "mode": "lines",
         "type": "scatter3d",
         "x": [
          -11.006454557989413,
          -11.439354557989414
         ],
         "y": [
          7.025638007250666,
          7.062268007250666
         ],
         "z": [
          1.5174866018899067,
          1.5174866018899067
         ]
        },
        {
         "line": {
          "color": "red",
          "width": 1
         },
         "mode": "lines",
         "type": "scatter3d",
         "x": [
          -11.445268790655016,
          -11.861518790655014
         ],
         "y": [
          6.988780001801736,
          6.995440001801736
         ],
         "z": [
          1.5574858689012516,
          1.6041058689012515
         ]
        },
        {
         "line": {
          "color": "red",
          "width": 1
         },
         "mode": "lines",
         "type": "scatter3d",
         "x": [
          -11.87297385837979,
          -12.301253858379791
         ],
         "y": [
          6.939635835365735,
          6.932995835365735
         ],
         "z": [
          1.6174851398636805,
          1.6174851398636805
         ]
        },
        {
         "line": {
          "color": "red",
          "width": 1
         },
         "mode": "lines",
         "type": "scatter3d",
         "x": [
          -12.29512432330077,
          -12.694724323300774
         ],
         "y": [
          6.882300873902242,
          6.885630873902242
         ],
         "z": [
          1.6724844012498419,
          1.675814401249842
         ]
        },
        {
         "line": {
          "color": "red",
          "width": 1
         },
         "mode": "lines",
         "type": "scatter3d",
         "x": [
          -12.697833688306147,
          -13.103183688306144
         ],
         "y": [
          6.808584336081708,
          6.791834336081708
         ],
         "z": [
          1.7324836902849177,
          1.812883690284917
         ]
        },
        {
         "line": {
          "color": "red",
          "width": 1
         },
         "mode": "lines",
         "type": "scatter3d",
         "x": [
          -13.086656518709423,
          -13.498336518709424
         ],
         "y": [
          6.741010854511694,
          6.687890854511694
         ],
         "z": [
          1.7874829756068917,
          1.7775229756068918
         ]
        },
        {
         "line": {
          "color": "red",
          "width": 1
         },
         "mode": "lines",
         "type": "scatter3d",
         "x": [
          -13.467147387970641,
          -13.856757387970644
         ],
         "y": [
          6.695961984303615,
          6.6593319843036145
         ],
         "z": [
          1.8274822305564462,
          1.8774322305564466
         ]
        },
        {
         "line": {
          "color": "red",
          "width": 1
         },
         "mode": "lines",
         "type": "scatter3d",
         "x": [
          -13.833751707525863,
          -14.21223170752586
         ],
         "y": [
          6.65910386339789,
          6.622583863397891
         ],
         "z": [
          1.857481483854948,
          1.9272014838549474
         ]
        },
        {
         "line": {
          "color": "red",
          "width": 1
         },
         "mode": "lines",
         "type": "scatter3d",
         "x": [
          -14.20591059566995,
          -14.595520595669953
         ],
         "y": [
          6.628388808832233,
          6.5817688088322335
         ],
         "z": [
          1.869980695781569,
          1.856660695781569
         ]
        },
        {
         "line": {
          "color": "red",
          "width": 1
         },
         "mode": "lines",
         "type": "scatter3d",
         "x": [
          -14.589178672371238,
          -14.967728672371239
         ],
         "y": [
          6.612007619838696,
          6.595257619838696
         ],
         "z": [
          1.874979844510335,
          1.931929844510335
         ]
        },
        {
         "line": {
          "color": "red",
          "width": 1
         },
         "mode": "lines",
         "type": "scatter3d",
         "x": [
          -14.983555977134845,
          -15.375315977134841
         ],
         "y": [
          6.593578748155327,
          6.6035387481553265
         ],
         "z": [
          1.8824789459357094,
          1.8957589459357094
         ]
        },
        {
         "line": {
          "color": "red",
          "width": 1
         },
         "mode": "lines",
         "type": "scatter3d",
         "x": [
          -15.405706325749966,
          -15.81196632574997
         ],
         "y": [
          6.573102201785449,
          6.559782201785449
         ],
         "z": [
          1.8874779573857154,
          1.8674979573857153
         ]
        },
        {
         "line": {
          "color": "red",
          "width": 1
         },
         "mode": "lines",
         "type": "scatter3d",
         "x": [
          -15.838965900256202,
          -16.247325900256204
         ],
         "y": [
          6.558768754035029,
          6.548808754035028
         ],
         "z": [
          1.89747690757136,
          1.9638769075713602
         ]
        },
        {
         "line": {
          "color": "red",
          "width": 1
         },
         "mode": "lines",
         "type": "scatter3d",
         "x": [
          -16.286112026719373,
          -16.72161202671937
         ],
         "y": [
          6.528053757328222,
          6.521353757328222
         ],
         "z": [
          1.9124758088823681,
          1.9124758088823681
         ]
        },
        {
         "line": {
          "color": "red",
          "width": 1
         },
         "mode": "lines",
         "type": "scatter3d",
         "x": [
          -16.741590029563294,
          -17.158650029563297
         ],
         "y": [
          6.474814087823459,
          6.428474087823458
         ],
         "z": [
          1.904974681899903,
          1.911594681899903
         ]
        },
        {
         "line": {
          "color": "red",
          "width": 1
         },
         "mode": "lines",
         "type": "scatter3d",
         "x": [
          -17.17484959254795,
          -17.60236959254795
         ],
         "y": [
          6.415431301165946,
          6.3486313011659465
         ],
         "z": [
          1.8949735896374462,
          1.9150135896374463
         ]
        },
        {
         "line": {
          "color": "red",
          "width": 1
         },
         "mode": "lines",
         "type": "scatter3d",
         "x": [
          -17.574781501770964,
          -17.94662150177096
         ],
         "y": [
          6.337619208035717,
          6.244659208035718
         ],
         "z": [
          1.8799725796307631,
          1.8633725796307632
         ]
        },
        {
         "line": {
          "color": "red",
          "width": 1
         },
         "mode": "lines",
         "type": "scatter3d",
         "x": [
          -17.930276524834085,
          -18.260936524834086
         ],
         "y": [
          6.212710036284305,
          6.039030036284303
         ],
         "z": [
          1.847471713475516,
          1.8942317134755164
         ]
        },
        {
         "line": {
          "color": "red",
          "width": 1
         },
         "mode": "lines",
         "type": "scatter3d",
         "x": [
          -18.227448226312035,
          -18.518028226312033
         ],
         "y": [
          6.040703802601932,
          5.773503802601932
         ],
         "z": [
          1.829971034622751,
          1.850011034622751
         ]
        },
        {
         "line": {
          "color": "red",
          "width": 1
         },
         "mode": "lines",
         "type": "scatter3d",
         "x": [
          -18.474628508142466,
          -18.703708508142466
         ],
         "y": [
          5.811362024731782,
          5.529162024731784
         ],
         "z": [
          1.8199705342171617,
          1.8133305342171617
         ]
        },
        {
         "line": {
          "color": "red",
          "width": 1
         },
         "mode": "lines",
         "type": "scatter3d",
         "x": [
          -18.655153527051112,
          -18.785413527051112
         ],
         "y": [
          5.5205892927625575,
          5.186589292762554
         ],
         "z": [
          1.812470266120866,
          1.9026502661208669
         ]
        },
        {
         "line": {
          "color": "red",
          "width": 1
         },
         "mode": "lines",
         "type": "scatter3d",
         "x": [
          -18.757914095556217,
          -18.767844095556217
         ],
         "y": [
          5.192957973170031,
          4.8255479731700355
         ],
         "z": [
          1.8274702383615344,
          1.8307802383615344
         ]
        },
        {
         "line": {
          "color": "red",
          "width": 1
         },
         "mode": "lines",
         "type": "scatter3d",
         "x": [
          -18.78568743646,
          -18.72241743646
         ],
         "y": [
          4.834611144188431,
          4.464981144188425
         ],
         "z": [
          1.8399704357062423,
          1.8666104357062427
         ]
        },
        {
         "line": {
          "color": "red",
          "width": 1
         },
         "mode": "lines",
         "type": "scatter3d",
         "x": [
          -18.73291890159208,
          -18.56308890159208
         ],
         "y": [
          4.468073465778718,
          4.12508346577872
         ],
         "z": [
          1.8424708577386917,
          1.9024108577386913
         ]
        },
        {
         "line": {
          "color": "red",
          "width": 1
         },
         "mode": "lines",
         "type": "scatter3d",
         "x": [
          -18.610717665651578,
          -18.35353766565158
         ],
         "y": [
          4.117917309439116,
          3.80729730943912
         ],
         "z": [
          1.8249714529655816,
          1.7949114529655819
         ]
        },
        {
         "line": {
          "color": "red",
          "width": 1
         },
         "mode": "lines",
         "type": "scatter3d",
         "x": [
          -18.421860993914834,
          -18.11217099391483
         ],
         "y": [
          3.8046196438951263,
          3.558199643895122
         ],
         "z": [
          1.777472196895454,
          1.8174321968954548
         ]
        },
        {
         "line": {
          "color": "red",
          "width": 1
         },
         "mode": "lines",
         "type": "scatter3d",
         "x": [
          -18.171903551359826,
          -17.79561355135983
         ],
         "y": [
          3.5609436308774054,
          3.391113630877406
         ],
         "z": [
          1.7224730556408931,
          1.7224730556408931
         ]
        },
        {
         "line": {
          "color": "red",
          "width": 1
         },
         "mode": "lines",
         "type": "scatter3d",
         "x": [
          -17.858068049299373,
          -17.429788049299372
         ],
         "y": [
          3.401223140177519,
          3.3547431401775185
         ],
         "z": [
          1.66497403028901,
          1.6284540302890098
         ]
        },
        {
         "line": {
          "color": "red",
          "width": 1
         },
         "mode": "lines",
         "type": "scatter3d",
         "x": [
          -17.5109048747069,
          -17.0946548747069
         ],
         "y": [
          3.3213627946117046,
          3.3579927946117043
         ],
         "z": [
          1.6149750362721187,
          1.6416150362721185
         ]
        },
        {
         "line": {
          "color": "red",
          "width": 1
         },
         "mode": "lines",
         "type": "scatter3d",
         "x": [
          -17.147077880657495,
          -16.711577880657494
         ],
         "y": [
          3.331601076714441,
          3.4321010767144413
         ],
         "z": [
          1.5824760211896618,
          1.5489760211896617
         ]
        },
        {
         "line": {
          "color": "red",
          "width": 1
         },
         "mode": "lines",
         "type": "scatter3d",
         "x": [
          -16.791582744884614,
          -16.399822744884613
         ],
         "y": [
          3.4216994905799387,
          3.620899490579939
         ],
         "z": [
          1.5424769225242967,
          1.5092769225242966
         ]
        },
        {
         "line": {
          "color": "red",
          "width": 1
         },
         "mode": "lines",
         "type": "scatter3d",
         "x": [
          -16.46663797864874,
          -16.110327978648744
         ],
         "y": [
          3.540465657710657,
          3.7669056577106557
         ],
         "z": [
          1.5149777077723112,
          1.561597707772311
         ]
        },
        {
         "line": {
          "color": "red",
          "width": 1
         },
         "mode": "lines",
         "type": "scatter3d",
         "x": [
          -16.138915948779793,
          -15.763755948779792
         ],
         "y": [
          3.6797087796111234,
          3.8623087796111237
         ],
         "z": [
          1.5074784687326643,
          1.4842384687326642
         ]
        },
        {
         "line": {
          "color": "red",
          "width": 1
         },
         "mode": "lines",
         "type": "scatter3d",
         "x": [
          -15.811193928509558,
          -15.431573928509561
         ],
         "y": [
          3.820999586951907,
          4.020799586951906
         ],
         "z": [
          1.5049792072571984,
          1.5582592072571981
         ]
        },
        {
         "line": {
          "color": "red",
          "width": 1
         },
         "mode": "lines",
         "type": "scatter3d",
         "x": [
          -15.464030839618836,
          -15.062030839618835
         ],
         "y": [
          3.9336226465467337,
          4.134622646546735
         ],
         "z": [
          1.522479990159554,
          1.5157799901595541
         ]
        },
        {
         "line": {
          "color": "red",
          "width": 1
         },
         "mode": "lines",
         "type": "scatter3d",
         "x": [
          -15.08354006116323,
          -14.705060061163229
         ],
         "y": [
          4.031911799411093,
          4.161391799411093
         ],
         "z": [
          1.5224808416580236,
          1.4826408416580235
         ]
        },
        {
         "line": {
          "color": "red",
          "width": 1
         },
         "mode": "lines",
         "type": "scatter3d",
         "x": [
          -14.689162708079772,
          -14.299552708079775
         ],
         "y": [
          4.126105527787711,
          4.23266552778771
         ],
         "z": [
          1.4999817012953098,
          1.5399417012953096
         ]
        },
        {
         "line": {
          "color": "red",
          "width": 1
         },
         "mode": "lines",
         "type": "scatter3d",
         "x": [
          -14.264235007025892,
          -13.82931500702589
         ],
         "y": [
          4.208013054042071,
          4.320893054042071
         ],
         "z": [
          1.4749826113774354,
          1.3986226113774352
         ]
        },
        {
         "line": {
          "color": "red",
          "width": 1
         },
         "mode": "lines",
         "type": "scatter3d",
         "x": [
          -13.800425028421426,
          -13.354875028421425
         ],
         "y": [
          4.27149128648104,
          4.31169128648104
         ],
         "z": [
          1.437483587831759,
          1.4207335878317588
         ]
        },
        {
         "line": {
          "color": "red",
          "width": 1
         },
         "mode": "lines",
         "type": "scatter3d",
         "x": [
          -13.314396664740237,
          -12.824886664740239
         ],
         "y": [
          4.316540258404309,
          4.3265302584043095
         ],
         "z": [
          1.4174845911788858,
          1.4174845911788858
         ]
        },
        {
         "line": {
          "color": "red",
          "width": 1
         },
         "mode": "lines",
         "type": "scatter3d",
         "x": [
          -12.82559105852597,
          -12.354151058525968
         ],
         "y": [
          4.322683038430465,
          4.292803038430464
         ],
         "z": [
          1.4149855923405246,
          1.3386255923405244
         ]
        },
        {
         "line": {
          "color": "red",
          "width": 1
         },
         "mode": "lines",
         "type": "scatter3d",
         "x": [
          -12.353449322677884,
          -11.931809322677882
         ],
         "y": [
          4.259204222624697,
          4.116444222624697
         ],
         "z": [
          1.4124865719472541,
          1.4423665719472543
         ]
        },
        {
         "line": {
          "color": "red",
          "width": 1
         },
         "mode": "lines",
         "type": "scatter3d",
         "x": [
          -11.92852183833335,
          -11.512271838333351
         ],
         "y": [
          4.124056158873371,
          3.887626158873372
         ],
         "z": [
          1.4274874732586824,
          1.3775374732586827
         ]
        },
        {
         "line": {
          "color": "red",
          "width": 1
         },
         "mode": "lines",
         "type": "scatter3d",
         "x": [
          -11.536922023339844,
          -11.147312023339847
         ],
         "y": [
          3.923381911417674,
          3.653651911417675
         ],
         "z": [
          1.4324883205159444,
          1.3825383205159447
         ]
        },
        {
         "line": {
          "color": "red",
          "width": 1
         },
         "mode": "lines",
         "type": "scatter3d",
         "x": [
          -11.173095276667766,
          -10.812375276667762
         ],
         "y": [
          3.6510384056675464,
          3.3337384056675434
         ],
         "z": [
          1.4324891299726663,
          1.4625491299726665
         ]
        },
        {
         "line": {
          "color": "red",
          "width": 1
         },
         "mode": "lines",
         "type": "scatter3d",
         "x": [
          -10.834264283973607,
          -10.474624283973608
         ],
         "y": [
          3.3582180042743315,
          3.018558004274333
         ],
         "z": [
          1.4399898768250783,
          1.3534098768250786
         ]
        },
        {
         "line": {
          "color": "red",
          "width": 1
         },
         "mode": "lines",
         "type": "scatter3d",
         "x": [
          -10.489878635381222,
          -10.116918635381223
         ],
         "y": [
          3.089969944687747,
          2.8135799446877483
         ],
         "z": [
          1.4324905906993897,
          1.4657905906993896
         ]
        },
        {
         "line": {
          "color": "red",
          "width": 1
         },
         "mode": "lines",
         "type": "scatter3d",
         "x": [
          -10.156602188586557,
          -9.748242188586557
         ],
         "y": [
          2.86062809699579,
          2.6780280969957895
         ],
         "z": [
          1.42999124124382,
          1.42667124124382
         ]
        },
        {
         "line": {
          "color": "red",
          "width": 1
         },
         "mode": "lines",
         "type": "scatter3d",
         "x": [
          -9.823325689912949,
          -9.437045689912951
         ],
         "y": [
          2.715241704858196,
          2.6053517048581964
         ],
         "z": [
          1.419991830639035,
          1.3533918306390351
         ]
        },
        {
         "line": {
          "color": "red",
          "width": 1
         },
         "mode": "lines",
         "type": "scatter3d",
         "x": [
          -9.476162603019173,
          -9.097612603019172
         ],
         "y": [
          2.6824784556217054,
          2.7260284556217056
         ],
         "z": [
          1.3974923714767469,
          1.4209423714767468
         ]
        },
        {
         "line": {
          "color": "red",
          "width": 1
         },
         "mode": "lines",
         "type": "scatter3d",
         "x": [
          -9.131776795164527,
          -8.759936795164526
         ],
         "y": [
          2.750052190259138,
          2.9359721902591382
         ],
         "z": [
          1.3849928438175176,
          1.3484728438175175
         ]
        },
        {
         "line": {
          "color": "red",
          "width": 1
         },
         "mode": "lines",
         "type": "scatter3d",
         "x": [
          -8.784613636945682,
          -8.448283636945684
         ],
         "y": [
          2.90362903332603,
          3.1533790333260288
         ],
         "z": [
          1.3649932625304593,
          1.3583332625304594
         ]
        },
        {
         "line": {
          "color": "red",
          "width": 1
         },
         "mode": "lines",
         "type": "scatter3d",
         "x": [
          -8.459668887454654,
          -8.160868887454654
         ],
         "y": [
          3.1432089912582923,
          3.455288991258293
         ],
         "z": [
          1.354993588966774,
          1.378233588966774
         ]
        },
        {
         "line": {
          "color": "red",
          "width": 1
         },
         "mode": "lines",
         "type": "scatter3d",
         "x": [
          -8.179160976188736,
          -7.939400976188738
         ],
         "y": [
          3.4360289684211556,
          3.8189789684211535
         ],
         "z": [
          1.3449938046955796,
          1.26507380469558
         ]
        },
        {
         "line": {
          "color": "red",
          "width": 1
         },
         "mode": "lines",
         "type": "scatter3d",
         "x": [
          -7.92364877393533,
          -7.672398773935329
         ],
         "y": [
          3.7513735538508968,
          4.113173553850897
         ],
         "z": [
          1.327493950311299,
          1.360993950311299
         ]
        },
        {
         "line": {
          "color": "red",
          "width": 1
         },
         "mode": "lines",
         "type": "scatter3d",
         "x": [
          -7.679245803937986,
          -7.393725803937985
         ],
         "y": [
          4.070813521844398,
          4.412773521844399
         ],
         "z": [
          1.3324940553409603,
          1.2826940553409603
         ]
        },
        {
         "line": {
          "color": "red",
          "width": 1
         },
         "mode": "lines",
         "type": "scatter3d",
         "x": [
          -7.395960574533843,
          -7.072950574533845
         ],
         "y": [
          4.345204193301231,
          4.621594193301229
         ],
         "z": [
          1.327494210413119,
          1.2842042104131193
         ]
        },
        {
         "line": {
          "color": "red",
          "width": 1
         },
         "mode": "lines",
         "type": "scatter3d",
         "x": [
          -7.054352017445263,
          -6.665912017445262
         ],
         "y": [
          4.523353256725976,
          4.679393256725976
         ],
         "z": [
          1.3349944737179207,
          1.3515944737179206
         ]
        },
        {
         "line": {
          "color": "red",
          "width": 1
         },
         "mode": "lines",
         "type": "scatter3d",
         "x": [
          -6.65997475167182,
          -6.217084751671813
         ],
         "y": [
          4.599117649330282,
          4.622427649330282
         ],
         "z": [
          1.3574948417682142,
          1.284234841768213
         ]
        },
        {
         "line": {
          "color": "red",
          "width": 1
         },
         "mode": "lines",
         "type": "scatter3d",
         "x": [
          -6.240601784037336,
          -5.805101784037344
         ],
         "y": [
          4.57864045488547,
          4.511640454885471
         ],
         "z": [
          1.3599952812075626,
          1.3800952812075622
         ]
        },
        {
         "line": {
          "color": "red",
          "width": 1
         },
         "mode": "lines",
         "type": "scatter3d",
         "x": [
          -5.849001937403335,
          -5.453921937403334
         ],
         "y": [
          4.457826358811821,
          4.311746358811821
         ],
         "z": [
          1.3749957402879276,
          1.4048757402879277
         ]
        },
        {
         "line": {
          "color": "red",
          "width": 1
         },
         "mode": "lines",
         "type": "scatter3d",
         "x": [
          -5.507393615197728,
          -5.1843836151977225
         ],
         "y": [
          4.259199997662847,
          4.002789997662843
         ],
         "z": [
          1.3899961832754628,
          1.3233961832754617
         ]
        },
        {
         "line": {
          "color": "red",
          "width": 1
         },
         "mode": "lines",
         "type": "scatter3d",
         "x": [
          -5.229663313328242,
          -4.930863313328241
         ],
         "y": [
          4.009381380269954,
          3.723861380269953
         ],
         "z": [
          1.397496579934866,
          1.450616579934866
         ]
        },
        {
         "line": {
          "color": "red",
          "width": 1
         },
         "mode": "lines",
         "type": "scatter3d",
         "x": [
          -4.996369917659503,
          -4.7015699176595085
         ],
         "y": [
          3.7104182058660555,
          3.3854682058660615
         ],
         "z": [
          1.4249969474980038,
          1.3713969474980048
         ]
        },
        {
         "line": {
          "color": "red",
          "width": 1
         },
         "mode": "lines",
         "type": "scatter3d",
         "x": [
          -4.788072262634644,
          -4.54831226263464
         ],
         "y": [
          3.3848350646462295,
          3.038515064646224
         ],
         "z": [
          1.452497288292146,
          1.449167288292146
         ]
        },
        {
         "line": {
          "color": "red",
          "width": 1
         },
         "mode": "lines",
         "type": "scatter3d",
         "x": [
          -4.5686653712087395,
          -4.322985371208739
         ],
         "y": [
          3.071538090573717,
          2.756138090573716
         ],
         "z": [
          1.484997608165758,
          1.5082376081657582
         ]
        },
        {
         "line": {
          "color": "red",
          "width": 1
         },
         "mode": "lines",
         "type": "scatter3d",
         "x": [
          -4.318708098314038,
          -3.996668098314044
         ],
         "y": [
          2.8073857293471303,
          2.561705729347135
         ],
         "z": [
          1.5199979056100272,
          1.4535979056100286
         ]
        },
        {
         "line": {
          "color": "red",
          "width": 1
         },
         "mode": "lines",
         "type": "scatter3d",
         "x": [
          -4.024313904936195,
          -3.6646739049361887
         ],
         "y": [
          2.6149025787790103,
          2.4883625787790082
         ],
         "z": [
          1.5449981798545582,
          1.6082681798545593
         ]
        },
        {
         "line": {
          "color": "red",
          "width": 1
         },
         "mode": "lines",
         "type": "scatter3d",
         "x": [
          -3.677150878238423,
          -3.285200878238422
         ],
         "y": [
          2.5227563207935573,
          2.4993063207935573
         ],
         "z": [
          1.569998425608988,
          1.553248425608988
         ]
        },
        {
         "line": {
          "color": "red",
          "width": 1
         },
         "mode": "lines",
         "type": "scatter3d",
         "x": [
          -3.293882833168027,
          -2.9021228331680344
         ],
         "y": [
          2.5432330909553205,
          2.682673090955318
         ],
         "z": [
          1.5699986249097728,
          1.5633586249097728
         ]
        },
        {
         "line": {
          "color": "red",
          "width": 1
         },
         "mode": "lines",
         "type": "scatter3d",
         "x": [
          -2.893950928602827,
          -2.534310928602821
         ],
         "y": [
          2.6271882868481407,
          2.840308286848144
         ],
         "z": [
          1.5549987840963817,
          1.6215987840963828
         ]
        },
        {
         "line": {
          "color": "red",
          "width": 1
         },
         "mode": "lines",
         "type": "scatter3d",
         "x": [
          -2.507905520336045,
          -2.1526655203360443
         ],
         "y": [
          2.7664311456473483,
          3.015431145647349
         ],
         "z": [
          1.527498890020173,
          1.4909788900201728
         ]
        },
        {
         "line": {
          "color": "red",
          "width": 1
         },
         "mode": "lines",
         "type": "scatter3d",
         "x": [
          -2.1468558250496677,
          -1.8604758250496691
         ],
         "y": [
          2.954818582878954,
          3.2478585828789526
         ],
         "z": [
          1.4799989397910338,
          1.5199589397910336
         ]
        },
        {
         "line": {
          "color": "red",
          "width": 1
         },
         "mode": "lines",
         "type": "scatter3d",
         "x": [
          -1.8219110848459494,
          -1.5455210848459506
         ],
         "y": [
          3.16163524378134,
          3.4979652437813384
         ],
         "z": [
          1.4499989432936449,
          1.4699789432936448
         ]
        },
        {
         "line": {
          "color": "red",
          "width": 1
         },
         "mode": "lines",
         "type": "scatter3d",
         "x": [
          -1.516407467222217,
          -1.2325074672222143
         ],
         "y": [
          3.3848334236142357,
          3.6954534236142385
         ],
         "z": [
          1.4224989088570115,
          1.379078908857011
         ]
        },
        {
         "line": {
          "color": "red",
          "width": 1
         },
         "mode": "lines",
         "type": "scatter3d",
         "x": [
          -1.2109038408344204,
          -0.9211938408344218
         ],
         "y": [
          3.618270037482149,
          3.8946600374821476
         ],
         "z": [
          1.3949988464000356,
          1.4349588464000353
         ]
        },
        {
         "line": {
          "color": "red",
          "width": 1
         },
         "mode": "lines",
         "type": "scatter3d",
         "x": [
          -0.8748498689224382,
          -0.5351898689224398
         ],
         "y": [
          3.8373727730564537,
          4.103772773056453
         ],
         "z": [
          1.3674987708629198,
          1.30089877086292
         ]
        },
        {
         "line": {
          "color": "red",
          "width": 1
         },
         "mode": "lines",
         "type": "scatter3d",
         "x": [
          -0.4943590341416984,
          -0.07935903414169748
         ],
         "y": [
          4.0298554659133075,
          4.202495465913308
         ],
         "z": [
          1.3174986906380912,
          1.3008986906380913
         ]
        },
        {
         "line": {
          "color": "red",
          "width": 1
         },
         "mode": "lines",
         "type": "scatter3d",
         "x": [
          -0.09164978570967514,
          0.38787021429032253
         ],
         "y": [
          4.183432010903921,
          4.24670201090392
         ],
         "z": [
          1.279998610026519,
          1.279998610026519
         ]
        },
        {
         "line": {
          "color": "red",
          "width": 1
         },
         "mode": "lines",
         "type": "scatter3d",
         "x": [
          0.29995020220965257,
          0.7589002022096538
         ],
         "y": [
          4.267387074257378,
          4.233887074257378
         ],
         "z": [
          1.2499985530518665,
          1.1863485530518663
         ]
        },
        {
         "line": {
          "color": "red",
          "width": 1
         },
         "mode": "lines",
         "type": "scatter3d",
         "x": [
          0.6193402109955035,
          0.9978202109955043
         ],
         "y": [
          4.2489576650254275,
          4.076317665025427
         ],
         "z": [
          1.2424985486207059,
          1.2458185486207058
         ]
        },
        {
         "line": {
          "color": "red",
          "width": 1
         },
         "mode": "lines",
         "type": "scatter3d",
         "x": [
          0.8554110278632328,
          1.1684310278632313
         ],
         "y": [
          4.126096124596927,
          3.849706124596928
         ],
         "z": [
          1.2824986040983943,
          1.2025786040983948
         ]
        },
        {
         "line": {
          "color": "red",
          "width": 1
         },
         "mode": "lines",
         "type": "scatter3d",
         "x": [
          1.0276038007760198,
          1.2898838007760203
         ],
         "y": [
          3.923374707414989,
          3.6478147074149887
         ],
         "z": [
          1.329998705398082,
          1.326678705398082
         ]
        },
        {
         "line": {
          "color": "red",
          "width": 1
         },
         "mode": "lines",
         "type": "scatter3d",
         "x": [
          1.163691592296137,
          1.393461592296136
         ],
         "y": [
          3.6633179952627573,
          3.3436379952627586
         ],
         "z": [
          1.3874988347283972,
          1.414138834728397
         ]
        },
        {
         "line": {
          "color": "red",
          "width": 1
         },
         "mode": "lines",
         "type": "scatter3d",
         "x": [
          1.2831155533658063,
          1.4305155533658067
         ],
         "y": [
          3.3725459433477893,
          2.9939959433477883
         ],
         "z": [
          1.447498971064398,
          1.4005989710643978
         ]
        },
        {
         "line": {
          "color": "red",
          "width": 1
         },
         "mode": "lines",
         "type": "scatter3d",
         "x": [
          1.383098388673458,
          1.4727383886734582
         ],
         "y": [
          3.073583131149549,
          2.691783131149548
         ],
         "z": [
          1.4874991008710814,
          1.5206991008710815
         ]
        },
        {
         "line": {
          "color": "red",
          "width": 1
         },
         "mode": "lines",
         "type": "scatter3d",
         "x": [
          1.424757836483571,
          1.4680478364835707
         ],
         "y": [
          2.768477273513126,
          2.3988472735131277
         ],
         "z": [
          1.5249992320500414,
          1.4983592320500416
         ]
        },
        {
         "line": {
          "color": "red",
          "width": 1
         },
         "mode": "lines",
         "type": "scatter3d",
         "x": [
          1.3830981558299162,
          1.273538155829916
         ],
         "y": [
          2.4592760614265976,
          2.104036061426597
         ],
         "z": [
          1.5549993675784946,
          1.5417193675784946
         ]
        },
        {
         "line": {
          "color": "red",
          "width": 1
         },
         "mode": "lines",
         "type": "scatter3d",
         "x": [
          1.2692285683462323,
          1.0749285683462317
         ],
         "y": [
          2.154170243324585,
          1.8258702433245841
         ],
         "z": [
          1.5774994989784208,
          1.6511994989784209
         ]
        },
        {
         "line": {
          "color": "red",
          "width": 1
         },
         "mode": "lines",
         "type": "scatter3d",
         "x": [
          1.0859263752032071,
          0.8494963752032083
         ],
         "y": [
          1.842921360595478,
          1.5165813605954797
         ],
         "z": [
          1.5949996274894622,
          1.5716896274894623
         ]
        },
        {
         "line": {
          "color": "red",
          "width": 1
         },
         "mode": "lines",
         "type": "scatter3d",
         "x": [
          0.8498554031972089,
          0.5742954031972083
         ],
         "y": [
          1.5255293983369609,
          1.2599293983369604
         ],
         "z": [
          1.6024997455436416,
          1.6290597455436417
         ]
        },
        {
         "line": {
          "color": "red",
          "width": 1
         },
         "mode": "lines",
         "type": "scatter3d",
         "x": [
          0.5971206173777709,
          0.26844061737777014
         ],
         "y": [
          1.2101851109205748,
          0.9346251109205742
         ],
         "z": [
          1.6299998416683303,
          1.6764798416683304
         ]
        },
        {
         "line": {
          "color": "red",
          "width": 1
         },
         "mode": "lines",
         "type": "scatter3d",
         "x": [
          0.34716314967543827,
          0.054123149675439686
         ],
         "y": [
          0.8927931101050794,
          0.5997531101050808
         ],
         "z": [
          1.674999913136554,
          1.6550199131365542
         ]
        },
        {
         "line": {
          "color": "red",
          "width": 1
         },
         "mode": "lines",
         "type": "scatter3d",
         "x": [
          0.0999829986597503,
          -0.19146700134025046
         ],
         "y": [
          0.5958779927869368,
          0.33457799278693606
         ],
         "z": [
          1.7524999584110084,
          1.8529999584110086
         ]
        },
        {
         "line": {
          "color": "red",
          "width": 1
         },
         "mode": "lines",
         "type": "scatter3d",
         "x": [
          -0.15275175515916276,
          -0.46151175515916343
         ],
         "y": [
          0.3153443761414701,
          0.06302437614146955
         ],
         "z": [
          1.8624999775188762,
          1.8923799775188763
         ]
        },
        {
         "line": {
          "color": "red",
          "width": 1
         },
         "mode": "lines",
         "type": "scatter3d",
         "x": [
          -0.4332595501991054,
          -0.732959550199104
         ],
         "y": [
          0.03481072848003064,
          -0.2049492715199682
         ],
         "z": [
          1.949999969573745,
          2.0199299695737447
         ]
        },
        {
         "line": {
          "color": "red",
          "width": 1
         },
         "mode": "lines",
         "type": "scatter3d",
         "x": [
          -0.7554269075956312,
          -1.0551269075956298
         ],
         "y": [
          -0.2375321859379409,
          -0.5006021859379397
         ],
         "z": [
          2.0149999311422606,
          2.12488993114226
         ]
        },
        {
         "line": {
          "color": "red",
          "width": 1
         },
         "mode": "lines",
         "type": "scatter3d",
         "x": [
          -1.1109219089230653,
          -1.446241908923066
         ],
         "y": [
          -0.5344474238555762,
          -0.8100074238555768
         ],
         "z": [
          2.0374998580844554,
          2.0441398580844554
         ]
        },
        {
         "line": {
          "color": "red",
          "width": 1
         },
         "mode": "lines",
         "type": "scatter3d",
         "x": [
          -1.449753060947153,
          -1.7328030609471576
         ],
         "y": [
          -0.8682211307379828,
          -1.1745811307379879
         ],
         "z": [
          2.024999753770772,
          2.1348897537707736
         ]
        },
        {
         "line": {
          "color": "red",
          "width": 1
         },
         "mode": "lines",
         "type": "scatter3d",
         "x": [
          -1.75525653499392,
          -1.9931065349939154
         ],
         "y": [
          -1.2286148526080924,
          -1.6105148526080852
         ],
         "z": [
          2.0199996182735998,
          2.117149618273598
         ]
        },
        {
         "line": {
          "color": "red",
          "width": 1
         },
         "mode": "lines",
         "type": "scatter3d",
         "x": [
          -2.0413188441569776,
          -2.277038844156978
         ],
         "y": [
          -1.6279147383280188,
          -1.9931147383280197
         ],
         "z": [
          2.007499442195117,
          2.010819442195117
         ]
        },
        {
         "line": {
          "color": "red",
          "width": 1
         },
         "mode": "lines",
         "type": "scatter3d",
         "x": [
          -2.3079399932752827,
          -2.5476999932752866
         ],
         "y": [
          -2.0517869547805785,
          -2.434736954780585
         ],
         "z": [
          2.0074992264310887,
          2.1073992264310903
         ]
        },
        {
         "line": {
          "color": "red",
          "width": 1
         },
         "mode": "lines",
         "type": "scatter3d",
         "x": [
          -2.5717838243394007,
          -2.814143824339396
         ],
         "y": [
          -2.471563825733141,
          -2.879923825733133
         ],
         "z": [
          2.0274989775571326,
          2.0872589775571315
         ]
        },
        {
         "line": {
          "color": "red",
          "width": 1
         },
         "mode": "lines",
         "type": "scatter3d",
         "x": [
          -2.846736855576103,
          -3.093156855576107
         ],
         "y": [
          -2.8688161168355872,
          -3.1984861168355927
         ],
         "z": [
          2.0324986984791757,
          2.095768698479177
         ]
        },
        {
         "line": {
          "color": "red",
          "width": 1
         },
         "mode": "lines",
         "type": "scatter3d",
         "x": [
          -3.1133579759329892,
          -3.3780079759329897
         ],
         "y": [
          -3.2210192214102586,
          -3.5325692214102595
         ],
         "z": [
          2.0499984097671895,
          2.1102984097671897
         ]
        },
        {
         "line": {
          "color": "red",
          "width": 1
         },
         "mode": "lines",
         "type": "scatter3d",
         "x": [
          -3.3605379696015714,
          -3.589617969601567
         ],
         "y": [
          -3.5117915811337186,
          -3.7840315811337133
         ],
         "z": [
          2.054998134755276,
          2.0782381347552756
         ]
        },
        {
         "line": {
          "color": "red",
          "width": 1
         },
         "mode": "lines",
         "type": "scatter3d",
         "x": [
          -3.5938314496547066,
          -3.81361144965471
         ],
         "y": [
          -3.7370377978960874,
          -3.90353779789609
         ],
         "z": [
          2.0349978844699397,
          2.0716278844699403
         ]
        },
        {
         "line": {
          "color": "red",
          "width": 1
         },
         "mode": "lines",
         "type": "scatter3d",
         "x": [
          -3.7854653800393763,
          -3.9249053800393767
         ],
         "y": [
          -3.9049486294763183,
          -4.001228629476318
         ],
         "z": [
          2.014997677204433,
          2.038237677204433
         ]
        },
        {
         "line": {
          "color": "red",
          "width": 1
         },
         "mode": "lines",
         "type": "scatter3d",
         "x": [
          -3.935439773667828,
          -4.045329773667827
         ],
         "y": [
          -3.9950471441933746,
          -4.041667144193374
         ],
         "z": [
          1.9874975332869496,
          2.0274575332869493
         ]
        },
        {
         "line": {
          "color": "red",
          "width": 1
         },
         "mode": "lines",
         "type": "scatter3d",
         "x": [
          -4.079859605123021,
          -4.223909605123021
         ],
         "y": [
          -3.9909518209788004,
          -3.8837518209788002
         ],
         "z": [
          1.95499744437608,
          2.00189744437608
         ]
        },
        {
         "line": {
          "color": "red",
          "width": 1
         },
         "mode": "lines",
         "type": "scatter3d",
         "x": [
          -4.252052531864631,
          -4.494412531864632
         ],
         "y": [
          -3.906996524783689,
          -3.687876524783688
         ],
         "z": [
          1.9299973794067553,
          1.9631973794067554
         ]
        },
        {
         "line": {
          "color": "red",
          "width": 1
         },
         "mode": "lines",
         "type": "scatter3d",
         "x": [
          -4.488123491050354,
          -4.791153491050353
         ],
         "y": [
          -3.7677535680061722,
          -3.584603568006173
         ],
         "z": [
          1.8974972959754508,
          1.8974972959754508
         ]
        },
        {
         "line": {
          "color": "red",
          "width": 1
         },
         "mode": "lines",
         "type": "scatter3d",
         "x": [
          -4.796404381998555,
          -5.191484381998556
         ],
         "y": [
          -3.6059860287551433,
          -3.463226028755143
         ],
         "z": [
          1.864997161116836,
          1.878277161116836
         ]
        },
        {
         "line": {
          "color": "red",
          "width": 1
         },
         "mode": "lines",
         "type": "scatter3d",
         "x": [
          -5.157454049650003,
          -5.542704049650004
         ],
         "y": [
          -3.460600045110015,
          -3.313200045110015
         ],
         "z": [
          1.83499695781462,
          1.8081969578146198
         ]
        },
        {
         "line": {
          "color": "red",
          "width": 1
         },
         "mode": "lines",
         "type": "scatter3d",
         "x": [
          -5.549054036492558,
          -5.9286740364925565
         ],
         "y": [
          -3.347977134399983,
          -3.2447471343999834
         ],
         "z": [
          1.7924966880036437,
          1.8624266880036433
         ]
        },
        {
         "line": {
          "color": "red",
          "width": 1
         },
         "mode": "lines",
         "type": "scatter3d",
         "x": [
          -5.95176323866702,
          -6.403283238667021
         ],
         "y": [
          -3.251735765065173,
          -3.178695765065173
         ],
         "z": [
          1.7624963734645815,
          1.7658163734645815
         ]
        },
        {
         "line": {
          "color": "red",
          "width": 1
         },
         "mode": "lines",
         "type": "scatter3d",
         "x": [
          -6.360027035480339,
          -6.77502703548034
         ],
         "y": [
          -3.165732847857139,
          -3.0760928478571388
         ],
         "z": [
          1.7274960216824427,
          1.7175360216824427
         ]
        },
        {
         "line": {
          "color": "red",
          "width": 1
         },
         "mode": "lines",
         "type": "scatter3d",
         "x": [
          -6.7655135275940985,
          -7.171773527594096
         ],
         "y": [
          -3.098159161050419,
          -3.0315591610504193
         ],
         "z": [
          1.7049956373506991,
          1.7682656373506989
         ]
        },
        {
         "line": {
          "color": "red",
          "width": 1
         },
         "mode": "lines",
         "type": "scatter3d",
         "x": [
          -7.182109235764407,
          -7.607559235764398
         ],
         "y": [
          -3.0510624068261984,
          -3.034312406826199
         ],
         "z": [
          1.6924952028408828,
          1.635545202840884
         ]
        },
        {
         "line": {
          "color": "red",
          "width": 1
         },
         "mode": "lines",
         "type": "scatter3d",
         "x": [
          -7.607036844571367,
          -8.008756844571376
         ],
         "y": [
          -3.016251806548518,
          -3.002971806548518
         ],
         "z": [
          1.6749947248374935,
          1.7048747248374942
         ]
        },
        {
         "line": {
          "color": "red",
          "width": 1
         },
         "mode": "lines",
         "type": "scatter3d",
         "x": [
          -8.029187159963383,
          -8.452097159963381
         ],
         "y": [
          -2.9998704459665104,
          -2.9665704459665108
         ],
         "z": [
          1.6749942139209542,
          1.704964213920954
         ]
        },
        {
         "line": {
          "color": "red",
          "width": 1
         },
         "mode": "lines",
         "type": "scatter3d",
         "x": [
          -8.459669370048234,
          -8.858069370048225
         ],
         "y": [
          -2.995775241528284,
          -3.0190152415282836
         ],
         "z": [
          1.6649936594801469,
          1.6417536594801474
         ]
        },
        {
         "line": {
          "color": "red",
          "width": 1
         },
         "mode": "lines",
         "type": "scatter3d",
         "x": [
          -8.879042359406895,
          -9.275312359406893
         ],
         "y": [
          -2.9671077063750477,
          -2.9571177063750476
         ],
         "z": [
          1.6474931021755457,
          1.6974431021755454
         ]
        },
        {
         "line": {
          "color": "red",
          "width": 1
         },
         "mode": "lines",
         "type": "scatter3d",
         "x": [
          -9.29286075823871,
          -9.699120758238726
         ],
         "y": [
          -2.9015816823777856,
          -2.8083416823777823
         ],
         "z": [
          1.634992540238764,
          1.5750525402387616
         ]
        },
        {
         "line": {
          "color": "red",
          "width": 1
         },
         "mode": "lines",
         "type": "scatter3d",
         "x": [
          -9.701124532822202,
          -10.06852453282219
         ],
         "y": [
          -2.793054073115105,
          -2.666134073115109
         ],
         "z": [
          1.6024919787914171,
          1.6125119787914168
         ]
        },
        {
         "line": {
          "color": "red",
          "width": 1
         },
         "mode": "lines",
         "type": "scatter3d",
         "x": [
          -10.101056431784349,
          -10.470686431784348
         ],
         "y": [
          -2.6108094794023815,
          -2.437649479402382
         ],
         "z": [
          1.5799914324451723,
          1.5799914324451723
         ]
        },
        {
         "line": {
          "color": "red",
          "width": 1
         },
         "mode": "lines",
         "type": "scatter3d",
         "x": [
          -10.478769915106378,
          -10.78512991510639
         ],
         "y": [
          -2.3650863523412364,
          -2.108676352341227
         ],
         "z": [
          1.5624909166732066,
          1.5092109166732046
         ]
        },
        {
         "line": {
          "color": "red",
          "width": 1
         },
         "mode": "lines",
         "type": "scatter3d",
         "x": [
          -10.806491918587305,
          -11.0554919185873
         ],
         "y": [
          -2.0763616147985964,
          -1.7709216147986022
         ],
         "z": [
          1.54499046973229,
          1.5815104697322893
         ]
        },
        {
         "line": {
          "color": "red",
          "width": 1
         },
         "mode": "lines",
         "type": "scatter3d",
         "x": [
          -11.0620040182344,
          -11.2384940182344
         ],
         "y": [
          -1.7425875737874823,
          -1.376287573787484
         ],
         "z": [
          1.5374901338580815,
          1.4875401338580818
         ]
        },
        {
         "line": {
          "color": "red",
          "width": 1
         },
         "mode": "lines",
         "type": "scatter3d",
         "x": [
          -11.200869292475527,
          -11.200869292475527
         ],
         "y": [
          -1.3842411574827103,
          -0.9989911574827011
         ],
         "z": [
          1.517489981156892,
          1.4940399811568914
         ]
        },
        {
         "line": {
          "color": "red",
          "width": 1
         },
         "mode": "lines",
         "type": "scatter3d",
         "x": [
          -11.223087778338396,
          -11.096927778338399
         ],
         "y": [
          -1.0258947126171585,
          -0.6108947126171664
         ],
         "z": [
          1.5099900100869443,
          1.529910010086944
         ]
        },
        {
         "line": {
          "color": "red",
          "width": 1
         },
         "mode": "lines",
         "type": "scatter3d",
         "x": [
          -11.139768664726304,
          -10.953288664726305
         ],
         "y": [
          -0.6532143960558158,
          -0.26360439605581765
         ],
         "z": [
          1.4974902035791509,
          1.4375502035791512
         ]
        },
        {
         "line": {
          "color": "red",
          "width": 1
         },
         "mode": "lines",
         "type": "scatter3d",
         "x": [
          -10.962021180622799,
          -10.703061180622793
         ],
         "y": [
          -0.2907725533597936,
          0.05118744664021452
         ],
         "z": [
          1.4874905374054492,
          1.5273305374054502
         ]
        },
        {
         "line": {
          "color": "red",
          "width": 1
         },
         "mode": "lines",
         "type": "scatter3d",
         "x": [
          -10.728727625417946,
          -10.399057625417948
         ],
         "y": [
          0.049144638446679045,
          0.37548463844667745
         ],
         "z": [
          1.4999909405303207,
          1.4700209405303208
         ]
        },
        {
         "line": {
          "color": "red",
          "width": 1
         },
         "mode": "lines",
         "type": "scatter3d",
         "x": [
          -10.456551768611602,
          -10.131601768611608
         ],
         "y": [
          0.3808710321718614,
          0.6857210321718558
         ],
         "z": [
          1.4999913822703512,
          1.5200913822703508
         ]
        },
        {
         "line": {
          "color": "red",
          "width": 1
         },
         "mode": "lines",
         "type": "scatter3d",
         "x": [
          -10.159380181167503,
          -9.794180181167494
         ],
         "y": [
          0.6798343004302272,
          0.9852743004302345
         ],
         "z": [
          1.5149918396532134,
          1.5880318396532151
         ]
        },
        {
         "line": {
          "color": "red",
          "width": 1
         },
         "mode": "lines",
         "type": "scatter3d",
         "x": [
          -9.845544747141362,
          -9.445944747141365
         ],
         "y": [
          0.964463683965613,
          1.2175436839656117
         ],
         "z": [
          1.524992296184791,
          1.4650522961847914
         ]
        },
        {
         "line": {
          "color": "red",
          "width": 1
         },
         "mode": "lines",
         "type": "scatter3d",
         "x": [
          -9.528931960556246,
          -9.143811960556253
         ],
         "y": [
          1.236806876778322,
          1.4924468767783172
         ],
         "z": [
          1.5099927316552224,
          1.5398727316552219
         ]
        },
        {
         "line": {
          "color": "red",
          "width": 1
         },
         "mode": "lines",
         "type": "scatter3d",
         "x": [
          -9.201209962626702,
          -8.805909962626693
         ],
         "y": [
          1.4825300288658898,
          1.737130028865896
         ],
         "z": [
          1.5024931617251793,
          1.4622931617251784
         ]
        },
        {
         "line": {
          "color": "red",
          "width": 1
         },
         "mode": "lines",
         "type": "scatter3d",
         "x": [
          -8.856824107508189,
          -8.4993441075082
         ],
         "y": [
          1.715966988537391,
          1.9112569885373842
         ],
         "z": [
          1.4774935922115628,
          1.444393592211564
         ]
        },
        {
         "line": {
          "color": "red",
          "width": 1
         },
         "mode": "lines",
         "type": "scatter3d",
         "x": [
          -8.520770155978523,
          -8.13667015597852
         ],
         "y": [
          1.9494039228628939,
          2.183203922862896
         ],
         "z": [
          1.4499939834879643,
          1.4733739834879644
         ]
        },
        {
         "line": {
          "color": "red",
          "width": 1
         },
         "mode": "lines",
         "type": "scatter3d",
         "x": [
          -8.173606993102911,
          -7.844926993102904
         ],
         "y": [
          2.1930792977753857,
          2.4785992977753923
         ],
         "z": [
          1.4349943581529079,
          1.3586343581529061
         ]
        },
        {
         "line": {
          "color": "red",
          "width": 1
         },
         "mode": "lines",
         "type": "scatter3d",
         "x": [
          -7.815334601872264,
          -7.482334601872266
         ],
         "y": [
          2.4367546443396724,
          2.6498746443396715
         ],
         "z": [
          1.4174947194069039,
          1.4474647194069037
         ]
        },
        {
         "line": {
          "color": "red",
          "width": 1
         },
         "mode": "lines",
         "type": "scatter3d",
         "x": [
          -7.448730315177828,
          -7.06911031517783
         ],
         "y": [
          2.666096119577771,
          2.85923611957777
         ],
         "z": [
          1.4149950675293606,
          1.4083350675293607
         ]
        },
        {
         "line": {
          "color": "red",
          "width": 1
         },
         "mode": "lines",
         "type": "scatter3d",
         "x": [
          -7.059907583186581,
          -6.662447583186577
         ],
         "y": [
          2.8770083199300505,
          3.060708319930052
         ],
         "z": [
          1.402495419260346,
          1.3624154192603457
         ]
        },
        {
         "line": {
          "color": "red",
          "width": 1
         },
         "mode": "lines",
         "type": "scatter3d",
         "x": [
          -6.659975639856102,
          -6.249155639856115
         ],
         "y": [
          3.057205100856781,
          3.214185100856776
         ],
         "z": [
          1.389995766453218,
          1.423395766453217
         ]
        },
        {
         "line": {
          "color": "red",
          "width": 1
         },
         "mode": "lines",
         "type": "scatter3d",
         "x": [
          -6.260043711749724,
          -5.835083711749713
         ],
         "y": [
          3.2107818630631852,
          3.326981863063188
         ],
         "z": [
          1.3849960980451028,
          1.3385160980451016
         ]
        },
        {
         "line": {
          "color": "red",
          "width": 1
         },
         "mode": "lines",
         "type": "scatter3d",
         "x": [
          -5.865666389930011,
          -5.4672663899300185
         ],
         "y": [
          3.3438816824226185,
          3.433521682422617
         ],
         "z": [
          1.3699964072926099,
          1.3965564072926093
         ]
        },
        {
         "line": {
          "color": "red",
          "width": 1
         },
         "mode": "lines",
         "type": "scatter3d",
         "x": [
          -5.4796210269336205,
          -5.0633710269336225
         ],
         "y": [
          3.4216938096126417,
          3.4816338096126414
         ],
         "z": [
          1.3749967112298906,
          1.3749967112298906
         ]
        },
        {
         "line": {
          "color": "red",
          "width": 1
         },
         "mode": "lines",
         "type": "scatter3d",
         "x": [
          -5.099130300265569,
          -4.700480300265559
         ],
         "y": [
          3.429884393419043,
          3.379634393419042
         ],
         "z": [
          1.3724970230059421,
          1.2954470230059403
         ]
        },
        {
         "line": {
          "color": "red",
          "width": 1
         },
         "mode": "lines",
         "type": "scatter3d",
         "x": [
          -4.721416897443834,
          -4.342936897443842
         ],
         "y": [
          3.395073443314315,
          3.275553443314317
         ],
         "z": [
          1.3699973327576984,
          1.396557332757698
         ]
        },
        {
         "line": {
          "color": "red",
          "width": 1
         },
         "mode": "lines",
         "type": "scatter3d",
         "x": [
          -4.354812749722859,
          -3.948552749722861
         ],
         "y": [
          3.307022518630739,
          3.1771525186307397
         ],
         "z": [
          1.3849976409564109,
          1.318397640956411
         ]
        },
        {
         "line": {
          "color": "red",
          "width": 1
         },
         "mode": "lines",
         "type": "scatter3d",
         "x": [
          -4.024313580188635,
          -3.718873580188628
         ],
         "y": [
          3.16777932134411,
          2.951979321344105
         ],
         "z": [
          1.3974979308738789,
          1.3974979308738789
         ]
        },
        {
         "line": {
          "color": "red",
          "width": 1
         },
         "mode": "lines",
         "type": "scatter3d",
         "x": [
          -3.7326967001489733,
          -3.4363267001489746
         ],
         "y": [
          2.9855346365198274,
          2.6891646365198287
         ],
         "z": [
          1.4299981970366615,
          1.4266681970366615
         ]
        },
        {
         "line": {
          "color": "red",
          "width": 1
         },
         "mode": "lines",
         "type": "scatter3d",
         "x": [
          -3.477184789162825,
          -3.21253478916283
         ],
         "y": [
          2.7439069143373653,
          2.442406914337371
         ],
         "z": [
          1.4499984485254815,
          1.3829984485254827
         ]
        },
        {
         "line": {
          "color": "red",
          "width": 1
         },
         "mode": "lines",
         "type": "scatter3d",
         "x": [
          -2.5217921928353393,
          null
         ],
         "y": [
          1.9596409494406402,
          null
         ],
         "z": [
          1.092498927554145,
          null
         ]
        }
       ],
       "layout": {
        "annotations": [
         {
          "font": {
           "size": 14
          },
          "showarrow": false,
          "text": "Location (Blue) with Predicted Location for Next Timestamp (Red)",
          "x": 0.5,
          "xref": "paper",
          "y": 1.05,
          "yref": "paper"
         }
        ],
        "scene": {
         "xaxis": {
          "title": {
           "text": "East (m)"
          }
         },
         "yaxis": {
          "title": {
           "text": "North (m)"
          }
         },
         "zaxis": {
          "title": {
           "text": "Altitude (m)"
          }
         }
        },
        "showlegend": false,
        "template": {
         "data": {
          "bar": [
           {
            "error_x": {
             "color": "#2a3f5f"
            },
            "error_y": {
             "color": "#2a3f5f"
            },
            "marker": {
             "line": {
              "color": "white",
              "width": 0.5
             },
             "pattern": {
              "fillmode": "overlay",
              "size": 10,
              "solidity": 0.2
             }
            },
            "type": "bar"
           }
          ],
          "barpolar": [
           {
            "marker": {
             "line": {
              "color": "white",
              "width": 0.5
             },
             "pattern": {
              "fillmode": "overlay",
              "size": 10,
              "solidity": 0.2
             }
            },
            "type": "barpolar"
           }
          ],
          "carpet": [
           {
            "aaxis": {
             "endlinecolor": "#2a3f5f",
             "gridcolor": "#C8D4E3",
             "linecolor": "#C8D4E3",
             "minorgridcolor": "#C8D4E3",
             "startlinecolor": "#2a3f5f"
            },
            "baxis": {
             "endlinecolor": "#2a3f5f",
             "gridcolor": "#C8D4E3",
             "linecolor": "#C8D4E3",
             "minorgridcolor": "#C8D4E3",
             "startlinecolor": "#2a3f5f"
            },
            "type": "carpet"
           }
          ],
          "choropleth": [
           {
            "colorbar": {
             "outlinewidth": 0,
             "ticks": ""
            },
            "type": "choropleth"
           }
          ],
          "contour": [
           {
            "colorbar": {
             "outlinewidth": 0,
             "ticks": ""
            },
            "colorscale": [
             [
              0,
              "#0d0887"
             ],
             [
              0.1111111111111111,
              "#46039f"
             ],
             [
              0.2222222222222222,
              "#7201a8"
             ],
             [
              0.3333333333333333,
              "#9c179e"
             ],
             [
              0.4444444444444444,
              "#bd3786"
             ],
             [
              0.5555555555555556,
              "#d8576b"
             ],
             [
              0.6666666666666666,
              "#ed7953"
             ],
             [
              0.7777777777777778,
              "#fb9f3a"
             ],
             [
              0.8888888888888888,
              "#fdca26"
             ],
             [
              1,
              "#f0f921"
             ]
            ],
            "type": "contour"
           }
          ],
          "contourcarpet": [
           {
            "colorbar": {
             "outlinewidth": 0,
             "ticks": ""
            },
            "type": "contourcarpet"
           }
          ],
          "heatmap": [
           {
            "colorbar": {
             "outlinewidth": 0,
             "ticks": ""
            },
            "colorscale": [
             [
              0,
              "#0d0887"
             ],
             [
              0.1111111111111111,
              "#46039f"
             ],
             [
              0.2222222222222222,
              "#7201a8"
             ],
             [
              0.3333333333333333,
              "#9c179e"
             ],
             [
              0.4444444444444444,
              "#bd3786"
             ],
             [
              0.5555555555555556,
              "#d8576b"
             ],
             [
              0.6666666666666666,
              "#ed7953"
             ],
             [
              0.7777777777777778,
              "#fb9f3a"
             ],
             [
              0.8888888888888888,
              "#fdca26"
             ],
             [
              1,
              "#f0f921"
             ]
            ],
            "type": "heatmap"
           }
          ],
          "heatmapgl": [
           {
            "colorbar": {
             "outlinewidth": 0,
             "ticks": ""
            },
            "colorscale": [
             [
              0,
              "#0d0887"
             ],
             [
              0.1111111111111111,
              "#46039f"
             ],
             [
              0.2222222222222222,
              "#7201a8"
             ],
             [
              0.3333333333333333,
              "#9c179e"
             ],
             [
              0.4444444444444444,
              "#bd3786"
             ],
             [
              0.5555555555555556,
              "#d8576b"
             ],
             [
              0.6666666666666666,
              "#ed7953"
             ],
             [
              0.7777777777777778,
              "#fb9f3a"
             ],
             [
              0.8888888888888888,
              "#fdca26"
             ],
             [
              1,
              "#f0f921"
             ]
            ],
            "type": "heatmapgl"
           }
          ],
          "histogram": [
           {
            "marker": {
             "pattern": {
              "fillmode": "overlay",
              "size": 10,
              "solidity": 0.2
             }
            },
            "type": "histogram"
           }
          ],
          "histogram2d": [
           {
            "colorbar": {
             "outlinewidth": 0,
             "ticks": ""
            },
            "colorscale": [
             [
              0,
              "#0d0887"
             ],
             [
              0.1111111111111111,
              "#46039f"
             ],
             [
              0.2222222222222222,
              "#7201a8"
             ],
             [
              0.3333333333333333,
              "#9c179e"
             ],
             [
              0.4444444444444444,
              "#bd3786"
             ],
             [
              0.5555555555555556,
              "#d8576b"
             ],
             [
              0.6666666666666666,
              "#ed7953"
             ],
             [
              0.7777777777777778,
              "#fb9f3a"
             ],
             [
              0.8888888888888888,
              "#fdca26"
             ],
             [
              1,
              "#f0f921"
             ]
            ],
            "type": "histogram2d"
           }
          ],
          "histogram2dcontour": [
           {
            "colorbar": {
             "outlinewidth": 0,
             "ticks": ""
            },
            "colorscale": [
             [
              0,
              "#0d0887"
             ],
             [
              0.1111111111111111,
              "#46039f"
             ],
             [
              0.2222222222222222,
              "#7201a8"
             ],
             [
              0.3333333333333333,
              "#9c179e"
             ],
             [
              0.4444444444444444,
              "#bd3786"
             ],
             [
              0.5555555555555556,
              "#d8576b"
             ],
             [
              0.6666666666666666,
              "#ed7953"
             ],
             [
              0.7777777777777778,
              "#fb9f3a"
             ],
             [
              0.8888888888888888,
              "#fdca26"
             ],
             [
              1,
              "#f0f921"
             ]
            ],
            "type": "histogram2dcontour"
           }
          ],
          "mesh3d": [
           {
            "colorbar": {
             "outlinewidth": 0,
             "ticks": ""
            },
            "type": "mesh3d"
           }
          ],
          "parcoords": [
           {
            "line": {
             "colorbar": {
              "outlinewidth": 0,
              "ticks": ""
             }
            },
            "type": "parcoords"
           }
          ],
          "pie": [
           {
            "automargin": true,
            "type": "pie"
           }
          ],
          "scatter": [
           {
            "fillpattern": {
             "fillmode": "overlay",
             "size": 10,
             "solidity": 0.2
            },
            "type": "scatter"
           }
          ],
          "scatter3d": [
           {
            "line": {
             "colorbar": {
              "outlinewidth": 0,
              "ticks": ""
             }
            },
            "marker": {
             "colorbar": {
              "outlinewidth": 0,
              "ticks": ""
             }
            },
            "type": "scatter3d"
           }
          ],
          "scattercarpet": [
           {
            "marker": {
             "colorbar": {
              "outlinewidth": 0,
              "ticks": ""
             }
            },
            "type": "scattercarpet"
           }
          ],
          "scattergeo": [
           {
            "marker": {
             "colorbar": {
              "outlinewidth": 0,
              "ticks": ""
             }
            },
            "type": "scattergeo"
           }
          ],
          "scattergl": [
           {
            "marker": {
             "colorbar": {
              "outlinewidth": 0,
              "ticks": ""
             }
            },
            "type": "scattergl"
           }
          ],
          "scattermapbox": [
           {
            "marker": {
             "colorbar": {
              "outlinewidth": 0,
              "ticks": ""
             }
            },
            "type": "scattermapbox"
           }
          ],
          "scatterpolar": [
           {
            "marker": {
             "colorbar": {
              "outlinewidth": 0,
              "ticks": ""
             }
            },
            "type": "scatterpolar"
           }
          ],
          "scatterpolargl": [
           {
            "marker": {
             "colorbar": {
              "outlinewidth": 0,
              "ticks": ""
             }
            },
            "type": "scatterpolargl"
           }
          ],
          "scatterternary": [
           {
            "marker": {
             "colorbar": {
              "outlinewidth": 0,
              "ticks": ""
             }
            },
            "type": "scatterternary"
           }
          ],
          "surface": [
           {
            "colorbar": {
             "outlinewidth": 0,
             "ticks": ""
            },
            "colorscale": [
             [
              0,
              "#0d0887"
             ],
             [
              0.1111111111111111,
              "#46039f"
             ],
             [
              0.2222222222222222,
              "#7201a8"
             ],
             [
              0.3333333333333333,
              "#9c179e"
             ],
             [
              0.4444444444444444,
              "#bd3786"
             ],
             [
              0.5555555555555556,
              "#d8576b"
             ],
             [
              0.6666666666666666,
              "#ed7953"
             ],
             [
              0.7777777777777778,
              "#fb9f3a"
             ],
             [
              0.8888888888888888,
              "#fdca26"
             ],
             [
              1,
              "#f0f921"
             ]
            ],
            "type": "surface"
           }
          ],
          "table": [
           {
            "cells": {
             "fill": {
              "color": "#EBF0F8"
             },
             "line": {
              "color": "white"
             }
            },
            "header": {
             "fill": {
              "color": "#C8D4E3"
             },
             "line": {
              "color": "white"
             }
            },
            "type": "table"
           }
          ]
         },
         "layout": {
          "annotationdefaults": {
           "arrowcolor": "#2a3f5f",
           "arrowhead": 0,
           "arrowwidth": 1
          },
          "autotypenumbers": "strict",
          "coloraxis": {
           "colorbar": {
            "outlinewidth": 0,
            "ticks": ""
           }
          },
          "colorscale": {
           "diverging": [
            [
             0,
             "#8e0152"
            ],
            [
             0.1,
             "#c51b7d"
            ],
            [
             0.2,
             "#de77ae"
            ],
            [
             0.3,
             "#f1b6da"
            ],
            [
             0.4,
             "#fde0ef"
            ],
            [
             0.5,
             "#f7f7f7"
            ],
            [
             0.6,
             "#e6f5d0"
            ],
            [
             0.7,
             "#b8e186"
            ],
            [
             0.8,
             "#7fbc41"
            ],
            [
             0.9,
             "#4d9221"
            ],
            [
             1,
             "#276419"
            ]
           ],
           "sequential": [
            [
             0,
             "#0d0887"
            ],
            [
             0.1111111111111111,
             "#46039f"
            ],
            [
             0.2222222222222222,
             "#7201a8"
            ],
            [
             0.3333333333333333,
             "#9c179e"
            ],
            [
             0.4444444444444444,
             "#bd3786"
            ],
            [
             0.5555555555555556,
             "#d8576b"
            ],
            [
             0.6666666666666666,
             "#ed7953"
            ],
            [
             0.7777777777777778,
             "#fb9f3a"
            ],
            [
             0.8888888888888888,
             "#fdca26"
            ],
            [
             1,
             "#f0f921"
            ]
           ],
           "sequentialminus": [
            [
             0,
             "#0d0887"
            ],
            [
             0.1111111111111111,
             "#46039f"
            ],
            [
             0.2222222222222222,
             "#7201a8"
            ],
            [
             0.3333333333333333,
             "#9c179e"
            ],
            [
             0.4444444444444444,
             "#bd3786"
            ],
            [
             0.5555555555555556,
             "#d8576b"
            ],
            [
             0.6666666666666666,
             "#ed7953"
            ],
            [
             0.7777777777777778,
             "#fb9f3a"
            ],
            [
             0.8888888888888888,
             "#fdca26"
            ],
            [
             1,
             "#f0f921"
            ]
           ]
          },
          "colorway": [
           "#636efa",
           "#EF553B",
           "#00cc96",
           "#ab63fa",
           "#FFA15A",
           "#19d3f3",
           "#FF6692",
           "#B6E880",
           "#FF97FF",
           "#FECB52"
          ],
          "font": {
           "color": "#2a3f5f"
          },
          "geo": {
           "bgcolor": "white",
           "lakecolor": "white",
           "landcolor": "white",
           "showlakes": true,
           "showland": true,
           "subunitcolor": "#C8D4E3"
          },
          "hoverlabel": {
           "align": "left"
          },
          "hovermode": "closest",
          "mapbox": {
           "style": "light"
          },
          "paper_bgcolor": "white",
          "plot_bgcolor": "white",
          "polar": {
           "angularaxis": {
            "gridcolor": "#EBF0F8",
            "linecolor": "#EBF0F8",
            "ticks": ""
           },
           "bgcolor": "white",
           "radialaxis": {
            "gridcolor": "#EBF0F8",
            "linecolor": "#EBF0F8",
            "ticks": ""
           }
          },
          "scene": {
           "xaxis": {
            "backgroundcolor": "white",
            "gridcolor": "#DFE8F3",
            "gridwidth": 2,
            "linecolor": "#EBF0F8",
            "showbackground": true,
            "ticks": "",
            "zerolinecolor": "#EBF0F8"
           },
           "yaxis": {
            "backgroundcolor": "white",
            "gridcolor": "#DFE8F3",
            "gridwidth": 2,
            "linecolor": "#EBF0F8",
            "showbackground": true,
            "ticks": "",
            "zerolinecolor": "#EBF0F8"
           },
           "zaxis": {
            "backgroundcolor": "white",
            "gridcolor": "#DFE8F3",
            "gridwidth": 2,
            "linecolor": "#EBF0F8",
            "showbackground": true,
            "ticks": "",
            "zerolinecolor": "#EBF0F8"
           }
          },
          "shapedefaults": {
           "line": {
            "color": "#2a3f5f"
           }
          },
          "ternary": {
           "aaxis": {
            "gridcolor": "#DFE8F3",
            "linecolor": "#A2B1C6",
            "ticks": ""
           },
           "baxis": {
            "gridcolor": "#DFE8F3",
            "linecolor": "#A2B1C6",
            "ticks": ""
           },
           "bgcolor": "white",
           "caxis": {
            "gridcolor": "#DFE8F3",
            "linecolor": "#A2B1C6",
            "ticks": ""
           }
          },
          "title": {
           "x": 0.05
          },
          "xaxis": {
           "automargin": true,
           "gridcolor": "#EBF0F8",
           "linecolor": "#EBF0F8",
           "ticks": "",
           "title": {
            "standoff": 15
           },
           "zerolinecolor": "#EBF0F8",
           "zerolinewidth": 2
          },
          "yaxis": {
           "automargin": true,
           "gridcolor": "#EBF0F8",
           "linecolor": "#EBF0F8",
           "ticks": "",
           "title": {
            "standoff": 15
           },
           "zerolinecolor": "#EBF0F8",
           "zerolinewidth": 2
          }
         }
        },
        "title": {
         "text": "Kinematic Model of Telemetry Stream",
         "x": 0.5
        },
        "xaxis": {
         "autorange": "reversed",
         "title": {
          "font": {
           "family": "Trebuchet"
          }
         }
        },
        "yaxis": {
         "scaleanchor": "x",
         "scaleratio": 1
        }
       }
      }
     },
     "metadata": {},
     "output_type": "display_data"
    }
   ],
   "source": [
    "fig = go.Figure()\n",
    "\n",
    "fig.update_xaxes(title_font_family=\"Trebuchet\")\n",
    "fig.update_layout(yaxis=dict(scaleanchor=\"x\", scaleratio=1),\n",
    "                  template = \"plotly_white\",\n",
    "                  title=\"<b>Kinematic Model of Telemetry Stream</b>\",\n",
    "                 )\n",
    "fig.update_layout(xaxis = dict(autorange=\"reversed\"))\n",
    "\n",
    "fig.add_trace(go.Scatter3d(\n",
    "    x=df['x'],\n",
    "    y=df['y'],\n",
    "    z=df['z'],\n",
    "    mode='markers',\n",
    "    marker=dict(\n",
    "        size=2,\n",
    "        color=df['error'],                # set color to an array/list of desired values\n",
    "        colorscale='Viridis',   # choose a colorscale\n",
    "        opacity=0.8\n",
    "    )\n",
    "))\n",
    "# add a line to from each point to the predicted point\n",
    "for index, row in df.iterrows():\n",
    "    fig.add_trace(go.Scatter3d(\n",
    "        x=[row['x'], row['x_pred']],\n",
    "        y=[row['y'], row['y_pred']],\n",
    "        z=[row['z'], row['z_pred']],\n",
    "        mode='lines',\n",
    "        line=dict(color='red', width=1)\n",
    "    ))\n",
    "# remove the legend\n",
    "fig.update_layout(showlegend=False)\n",
    "fig.update_layout(scene = dict(\n",
    "                    xaxis_title='East (m)',\n",
    "                    yaxis_title='North (m)',\n",
    "                    zaxis_title='Altitude (m)'))\n",
    "fig.update_layout(\n",
    "    title_text='Kinematic Model of Telemetry Stream',\n",
    "    title_x=0.5,\n",
    ")\n",
    "# subtitle\n",
    "fig.add_annotation(xref='paper', yref='paper', x=0.5, y=1.05,\n",
    "            text=\"Location (Blue) with Predicted Location for Next Timestamp (Red)\",\n",
    "            showarrow=False, font=dict(size=14))\n",
    "\n",
    "fig.write_html(\"figures/3D-kinematic-model.html\")\n",
    "fig.show()"
   ]
  },
  {
   "cell_type": "markdown",
   "metadata": {},
   "source": [
    "# What's Going on in Z?"
   ]
  },
  {
   "cell_type": "code",
   "execution_count": 15,
   "metadata": {},
   "outputs": [
    {
     "data": {
      "application/vnd.plotly.v1+json": {
       "config": {
        "plotlyServerURL": "https://plot.ly"
       },
       "data": [
        {
         "hovertemplate": "time=%{x}<br>vz=%{y}<extra></extra>",
         "legendgroup": "",
         "marker": {
          "color": "#636efa",
          "symbol": "circle"
         },
         "mode": "markers",
         "name": "",
         "orientation": "v",
         "showlegend": false,
         "type": "scatter",
         "x": [
          0.14,
          0.473,
          0.806,
          1.138,
          1.471,
          1.806,
          2.138,
          2.471,
          2.803,
          3.136,
          3.471,
          3.803,
          4.136,
          4.468,
          4.803,
          5.134,
          5.468,
          5.801,
          6.134,
          6.466,
          6.8,
          7.134,
          7.466,
          7.798,
          8.131,
          8.466,
          8.798,
          9.131,
          9.463,
          9.796,
          10.131,
          10.463,
          10.796,
          11.128,
          11.461,
          11.796,
          12.128,
          12.461,
          12.793,
          13.128,
          13.461,
          13.793,
          14.125,
          14.458,
          14.793,
          15.126,
          15.458,
          15.79,
          16.123,
          16.456,
          16.79,
          17.123,
          17.456,
          17.788,
          18.121,
          18.456,
          18.788,
          19.121,
          19.453,
          19.786,
          20.121,
          20.453,
          20.786,
          21.118,
          21.453,
          21.786,
          22.118,
          22.45,
          22.783,
          23.118,
          23.45,
          23.783,
          24.115,
          24.448,
          24.781,
          25.115,
          25.448,
          25.781,
          26.113,
          26.446,
          26.781,
          27.113,
          27.446,
          27.778,
          28.111,
          28.446,
          28.778,
          29.111,
          29.443,
          29.778,
          30.109,
          30.443,
          30.775,
          31.109,
          31.443,
          31.775,
          32.109,
          32.44,
          32.773,
          33.106,
          33.44,
          33.773,
          34.106,
          34.438,
          34.771,
          35.106,
          35.438,
          35.771,
          36.103,
          36.436,
          36.771,
          37.103,
          37.436,
          37.768,
          38.103,
          38.436,
          38.768,
          39.1,
          39.433,
          39.766,
          40.1,
          40.433,
          40.766,
          41.098,
          41.431,
          41.766,
          42.098,
          42.431,
          42.763,
          43.096,
          43.431,
          43.763,
          44.096,
          44.428,
          44.761,
          45.096,
          45.428,
          45.761,
          46.093,
          46.428,
          46.761,
          47.093,
          47.425,
          47.758,
          48.093,
          48.425,
          48.758,
          49.09,
          49.423,
          49.756,
          50.09,
          50.423,
          50.756,
          51.088,
          51.421,
          51.756,
          52.088,
          52.421,
          52.753,
          53.086,
          53.421,
          53.753,
          54.086,
          54.418,
          54.753,
          55.086,
          55.418,
          55.75,
          56.083,
          56.418,
          56.75,
          57.083,
          57.416,
          57.748,
          58.081,
          58.416,
          58.748,
          59.081,
          59.413,
          59.746,
          60.081,
          60.413,
          60.746,
          61.078,
          61.411,
          61.746,
          62.078,
          62.411,
          62.743,
          63.078,
          63.411,
          63.743,
          64.075,
          64.408,
          64.743,
          65.075,
          65.408,
          65.74,
          66.073,
          66.406,
          66.74,
          67.073,
          67.406,
          67.738,
          68.071,
          68.406,
          68.738,
          69.071,
          69.403,
          69.736,
          70.071,
          70.403,
          70.736,
          71.068,
          71.403,
          71.734,
          72.068,
          72.4,
          72.733,
          73.066,
          73.4,
          73.734,
          74.066,
          74.398,
          74.731,
          75.066,
          75.398,
          75.731,
          76.063,
          76.396,
          76.731
         ],
         "xaxis": "x",
         "y": [
          0,
          0,
          0,
          0,
          0,
          0,
          0,
          0,
          0,
          0,
          0,
          0,
          0,
          -0.01,
          -0.01,
          -0.01,
          -0.01,
          -0.01,
          0,
          0.19,
          0.74,
          1.06,
          1.18,
          0.18,
          0.09,
          -0.01,
          -0.17,
          0.05,
          0.08,
          -0.06,
          -0.14,
          0.14,
          -0.17,
          0.17,
          -0.05,
          0,
          0.02,
          -0.31,
          0.25,
          0.19,
          0.07,
          0.02,
          -0.27,
          -0.03,
          -0.31,
          -0.22,
          -0.04,
          -0.21,
          -0.02,
          -0.09,
          -0.05,
          0.11,
          -0.2,
          0.04,
          0.01,
          -0.06,
          0.14,
          -0.06,
          -0.23,
          0.01,
          -0.31,
          -0.13,
          0.11,
          -0.15,
          -0.08,
          0.17,
          -0.11,
          0.07,
          0.16,
          0.06,
          -0.03,
          0.01,
          -0.1,
          0.04,
          0.08,
          0,
          0.14,
          0,
          0.01,
          0.24,
          -0.03,
          0.15,
          0.21,
          -0.04,
          0.17,
          0.04,
          -0.06,
          0.2,
          0,
          0.02,
          0.06,
          -0.05,
          0.14,
          0.06,
          -0.02,
          0.27,
          0.01,
          0.08,
          0.18,
          -0.09,
          0.12,
          0,
          -0.11,
          0.08,
          -0.1,
          -0.1,
          0.14,
          -0.07,
          0.16,
          -0.02,
          -0.12,
          0.12,
          -0.23,
          -0.05,
          0,
          -0.23,
          0.09,
          -0.15,
          -0.15,
          0.09,
          -0.26,
          0.1,
          -0.01,
          -0.2,
          0.07,
          -0.11,
          -0.02,
          0.07,
          -0.24,
          0.1,
          -0.15,
          -0.13,
          0.05,
          -0.22,
          0.06,
          0.09,
          -0.2,
          0.16,
          -0.16,
          -0.01,
          0.07,
          -0.2,
          0.19,
          -0.05,
          -0.02,
          0.2,
          -0.11,
          0.12,
          0.06,
          -0.13,
          0.12,
          -0.2,
          -0.05,
          0,
          -0.19,
          0.01,
          -0.24,
          -0.01,
          0.08,
          -0.14,
          0.1,
          -0.08,
          -0.04,
          0.22,
          -0.07,
          0.08,
          0.14,
          -0.06,
          0.3,
          0.09,
          0.21,
          0.33,
          0.02,
          0.33,
          0.29,
          0.01,
          0.3,
          0.18,
          0.19,
          0.18,
          0.07,
          0.11,
          0.07,
          0.12,
          0.14,
          0.1,
          0,
          0.04,
          -0.08,
          0.21,
          0.01,
          -0.03,
          0.19,
          -0.17,
          0.09,
          0.09,
          -0.07,
          0.15,
          -0.18,
          0.03,
          0,
          -0.16,
          0.11,
          -0.15,
          -0.07,
          0.06,
          -0.18,
          0.12,
          -0.09,
          0.06,
          0.22,
          -0.18,
          0.09,
          -0.12,
          -0.1,
          0.07,
          -0.23,
          0.09,
          -0.02,
          -0.12,
          0.1,
          -0.14,
          0.08,
          0,
          -0.23,
          0.08,
          -0.2,
          0,
          -0.01,
          -0.2,
          0.11
         ],
         "yaxis": "y"
        }
       ],
       "layout": {
        "legend": {
         "tracegroupgap": 0
        },
        "margin": {
         "t": 60
        },
        "template": {
         "data": {
          "bar": [
           {
            "error_x": {
             "color": "#2a3f5f"
            },
            "error_y": {
             "color": "#2a3f5f"
            },
            "marker": {
             "line": {
              "color": "#E5ECF6",
              "width": 0.5
             },
             "pattern": {
              "fillmode": "overlay",
              "size": 10,
              "solidity": 0.2
             }
            },
            "type": "bar"
           }
          ],
          "barpolar": [
           {
            "marker": {
             "line": {
              "color": "#E5ECF6",
              "width": 0.5
             },
             "pattern": {
              "fillmode": "overlay",
              "size": 10,
              "solidity": 0.2
             }
            },
            "type": "barpolar"
           }
          ],
          "carpet": [
           {
            "aaxis": {
             "endlinecolor": "#2a3f5f",
             "gridcolor": "white",
             "linecolor": "white",
             "minorgridcolor": "white",
             "startlinecolor": "#2a3f5f"
            },
            "baxis": {
             "endlinecolor": "#2a3f5f",
             "gridcolor": "white",
             "linecolor": "white",
             "minorgridcolor": "white",
             "startlinecolor": "#2a3f5f"
            },
            "type": "carpet"
           }
          ],
          "choropleth": [
           {
            "colorbar": {
             "outlinewidth": 0,
             "ticks": ""
            },
            "type": "choropleth"
           }
          ],
          "contour": [
           {
            "colorbar": {
             "outlinewidth": 0,
             "ticks": ""
            },
            "colorscale": [
             [
              0,
              "#0d0887"
             ],
             [
              0.1111111111111111,
              "#46039f"
             ],
             [
              0.2222222222222222,
              "#7201a8"
             ],
             [
              0.3333333333333333,
              "#9c179e"
             ],
             [
              0.4444444444444444,
              "#bd3786"
             ],
             [
              0.5555555555555556,
              "#d8576b"
             ],
             [
              0.6666666666666666,
              "#ed7953"
             ],
             [
              0.7777777777777778,
              "#fb9f3a"
             ],
             [
              0.8888888888888888,
              "#fdca26"
             ],
             [
              1,
              "#f0f921"
             ]
            ],
            "type": "contour"
           }
          ],
          "contourcarpet": [
           {
            "colorbar": {
             "outlinewidth": 0,
             "ticks": ""
            },
            "type": "contourcarpet"
           }
          ],
          "heatmap": [
           {
            "colorbar": {
             "outlinewidth": 0,
             "ticks": ""
            },
            "colorscale": [
             [
              0,
              "#0d0887"
             ],
             [
              0.1111111111111111,
              "#46039f"
             ],
             [
              0.2222222222222222,
              "#7201a8"
             ],
             [
              0.3333333333333333,
              "#9c179e"
             ],
             [
              0.4444444444444444,
              "#bd3786"
             ],
             [
              0.5555555555555556,
              "#d8576b"
             ],
             [
              0.6666666666666666,
              "#ed7953"
             ],
             [
              0.7777777777777778,
              "#fb9f3a"
             ],
             [
              0.8888888888888888,
              "#fdca26"
             ],
             [
              1,
              "#f0f921"
             ]
            ],
            "type": "heatmap"
           }
          ],
          "heatmapgl": [
           {
            "colorbar": {
             "outlinewidth": 0,
             "ticks": ""
            },
            "colorscale": [
             [
              0,
              "#0d0887"
             ],
             [
              0.1111111111111111,
              "#46039f"
             ],
             [
              0.2222222222222222,
              "#7201a8"
             ],
             [
              0.3333333333333333,
              "#9c179e"
             ],
             [
              0.4444444444444444,
              "#bd3786"
             ],
             [
              0.5555555555555556,
              "#d8576b"
             ],
             [
              0.6666666666666666,
              "#ed7953"
             ],
             [
              0.7777777777777778,
              "#fb9f3a"
             ],
             [
              0.8888888888888888,
              "#fdca26"
             ],
             [
              1,
              "#f0f921"
             ]
            ],
            "type": "heatmapgl"
           }
          ],
          "histogram": [
           {
            "marker": {
             "pattern": {
              "fillmode": "overlay",
              "size": 10,
              "solidity": 0.2
             }
            },
            "type": "histogram"
           }
          ],
          "histogram2d": [
           {
            "colorbar": {
             "outlinewidth": 0,
             "ticks": ""
            },
            "colorscale": [
             [
              0,
              "#0d0887"
             ],
             [
              0.1111111111111111,
              "#46039f"
             ],
             [
              0.2222222222222222,
              "#7201a8"
             ],
             [
              0.3333333333333333,
              "#9c179e"
             ],
             [
              0.4444444444444444,
              "#bd3786"
             ],
             [
              0.5555555555555556,
              "#d8576b"
             ],
             [
              0.6666666666666666,
              "#ed7953"
             ],
             [
              0.7777777777777778,
              "#fb9f3a"
             ],
             [
              0.8888888888888888,
              "#fdca26"
             ],
             [
              1,
              "#f0f921"
             ]
            ],
            "type": "histogram2d"
           }
          ],
          "histogram2dcontour": [
           {
            "colorbar": {
             "outlinewidth": 0,
             "ticks": ""
            },
            "colorscale": [
             [
              0,
              "#0d0887"
             ],
             [
              0.1111111111111111,
              "#46039f"
             ],
             [
              0.2222222222222222,
              "#7201a8"
             ],
             [
              0.3333333333333333,
              "#9c179e"
             ],
             [
              0.4444444444444444,
              "#bd3786"
             ],
             [
              0.5555555555555556,
              "#d8576b"
             ],
             [
              0.6666666666666666,
              "#ed7953"
             ],
             [
              0.7777777777777778,
              "#fb9f3a"
             ],
             [
              0.8888888888888888,
              "#fdca26"
             ],
             [
              1,
              "#f0f921"
             ]
            ],
            "type": "histogram2dcontour"
           }
          ],
          "mesh3d": [
           {
            "colorbar": {
             "outlinewidth": 0,
             "ticks": ""
            },
            "type": "mesh3d"
           }
          ],
          "parcoords": [
           {
            "line": {
             "colorbar": {
              "outlinewidth": 0,
              "ticks": ""
             }
            },
            "type": "parcoords"
           }
          ],
          "pie": [
           {
            "automargin": true,
            "type": "pie"
           }
          ],
          "scatter": [
           {
            "fillpattern": {
             "fillmode": "overlay",
             "size": 10,
             "solidity": 0.2
            },
            "type": "scatter"
           }
          ],
          "scatter3d": [
           {
            "line": {
             "colorbar": {
              "outlinewidth": 0,
              "ticks": ""
             }
            },
            "marker": {
             "colorbar": {
              "outlinewidth": 0,
              "ticks": ""
             }
            },
            "type": "scatter3d"
           }
          ],
          "scattercarpet": [
           {
            "marker": {
             "colorbar": {
              "outlinewidth": 0,
              "ticks": ""
             }
            },
            "type": "scattercarpet"
           }
          ],
          "scattergeo": [
           {
            "marker": {
             "colorbar": {
              "outlinewidth": 0,
              "ticks": ""
             }
            },
            "type": "scattergeo"
           }
          ],
          "scattergl": [
           {
            "marker": {
             "colorbar": {
              "outlinewidth": 0,
              "ticks": ""
             }
            },
            "type": "scattergl"
           }
          ],
          "scattermapbox": [
           {
            "marker": {
             "colorbar": {
              "outlinewidth": 0,
              "ticks": ""
             }
            },
            "type": "scattermapbox"
           }
          ],
          "scatterpolar": [
           {
            "marker": {
             "colorbar": {
              "outlinewidth": 0,
              "ticks": ""
             }
            },
            "type": "scatterpolar"
           }
          ],
          "scatterpolargl": [
           {
            "marker": {
             "colorbar": {
              "outlinewidth": 0,
              "ticks": ""
             }
            },
            "type": "scatterpolargl"
           }
          ],
          "scatterternary": [
           {
            "marker": {
             "colorbar": {
              "outlinewidth": 0,
              "ticks": ""
             }
            },
            "type": "scatterternary"
           }
          ],
          "surface": [
           {
            "colorbar": {
             "outlinewidth": 0,
             "ticks": ""
            },
            "colorscale": [
             [
              0,
              "#0d0887"
             ],
             [
              0.1111111111111111,
              "#46039f"
             ],
             [
              0.2222222222222222,
              "#7201a8"
             ],
             [
              0.3333333333333333,
              "#9c179e"
             ],
             [
              0.4444444444444444,
              "#bd3786"
             ],
             [
              0.5555555555555556,
              "#d8576b"
             ],
             [
              0.6666666666666666,
              "#ed7953"
             ],
             [
              0.7777777777777778,
              "#fb9f3a"
             ],
             [
              0.8888888888888888,
              "#fdca26"
             ],
             [
              1,
              "#f0f921"
             ]
            ],
            "type": "surface"
           }
          ],
          "table": [
           {
            "cells": {
             "fill": {
              "color": "#EBF0F8"
             },
             "line": {
              "color": "white"
             }
            },
            "header": {
             "fill": {
              "color": "#C8D4E3"
             },
             "line": {
              "color": "white"
             }
            },
            "type": "table"
           }
          ]
         },
         "layout": {
          "annotationdefaults": {
           "arrowcolor": "#2a3f5f",
           "arrowhead": 0,
           "arrowwidth": 1
          },
          "autotypenumbers": "strict",
          "coloraxis": {
           "colorbar": {
            "outlinewidth": 0,
            "ticks": ""
           }
          },
          "colorscale": {
           "diverging": [
            [
             0,
             "#8e0152"
            ],
            [
             0.1,
             "#c51b7d"
            ],
            [
             0.2,
             "#de77ae"
            ],
            [
             0.3,
             "#f1b6da"
            ],
            [
             0.4,
             "#fde0ef"
            ],
            [
             0.5,
             "#f7f7f7"
            ],
            [
             0.6,
             "#e6f5d0"
            ],
            [
             0.7,
             "#b8e186"
            ],
            [
             0.8,
             "#7fbc41"
            ],
            [
             0.9,
             "#4d9221"
            ],
            [
             1,
             "#276419"
            ]
           ],
           "sequential": [
            [
             0,
             "#0d0887"
            ],
            [
             0.1111111111111111,
             "#46039f"
            ],
            [
             0.2222222222222222,
             "#7201a8"
            ],
            [
             0.3333333333333333,
             "#9c179e"
            ],
            [
             0.4444444444444444,
             "#bd3786"
            ],
            [
             0.5555555555555556,
             "#d8576b"
            ],
            [
             0.6666666666666666,
             "#ed7953"
            ],
            [
             0.7777777777777778,
             "#fb9f3a"
            ],
            [
             0.8888888888888888,
             "#fdca26"
            ],
            [
             1,
             "#f0f921"
            ]
           ],
           "sequentialminus": [
            [
             0,
             "#0d0887"
            ],
            [
             0.1111111111111111,
             "#46039f"
            ],
            [
             0.2222222222222222,
             "#7201a8"
            ],
            [
             0.3333333333333333,
             "#9c179e"
            ],
            [
             0.4444444444444444,
             "#bd3786"
            ],
            [
             0.5555555555555556,
             "#d8576b"
            ],
            [
             0.6666666666666666,
             "#ed7953"
            ],
            [
             0.7777777777777778,
             "#fb9f3a"
            ],
            [
             0.8888888888888888,
             "#fdca26"
            ],
            [
             1,
             "#f0f921"
            ]
           ]
          },
          "colorway": [
           "#636efa",
           "#EF553B",
           "#00cc96",
           "#ab63fa",
           "#FFA15A",
           "#19d3f3",
           "#FF6692",
           "#B6E880",
           "#FF97FF",
           "#FECB52"
          ],
          "font": {
           "color": "#2a3f5f"
          },
          "geo": {
           "bgcolor": "white",
           "lakecolor": "white",
           "landcolor": "#E5ECF6",
           "showlakes": true,
           "showland": true,
           "subunitcolor": "white"
          },
          "hoverlabel": {
           "align": "left"
          },
          "hovermode": "closest",
          "mapbox": {
           "style": "light"
          },
          "paper_bgcolor": "white",
          "plot_bgcolor": "#E5ECF6",
          "polar": {
           "angularaxis": {
            "gridcolor": "white",
            "linecolor": "white",
            "ticks": ""
           },
           "bgcolor": "#E5ECF6",
           "radialaxis": {
            "gridcolor": "white",
            "linecolor": "white",
            "ticks": ""
           }
          },
          "scene": {
           "xaxis": {
            "backgroundcolor": "#E5ECF6",
            "gridcolor": "white",
            "gridwidth": 2,
            "linecolor": "white",
            "showbackground": true,
            "ticks": "",
            "zerolinecolor": "white"
           },
           "yaxis": {
            "backgroundcolor": "#E5ECF6",
            "gridcolor": "white",
            "gridwidth": 2,
            "linecolor": "white",
            "showbackground": true,
            "ticks": "",
            "zerolinecolor": "white"
           },
           "zaxis": {
            "backgroundcolor": "#E5ECF6",
            "gridcolor": "white",
            "gridwidth": 2,
            "linecolor": "white",
            "showbackground": true,
            "ticks": "",
            "zerolinecolor": "white"
           }
          },
          "shapedefaults": {
           "line": {
            "color": "#2a3f5f"
           }
          },
          "ternary": {
           "aaxis": {
            "gridcolor": "white",
            "linecolor": "white",
            "ticks": ""
           },
           "baxis": {
            "gridcolor": "white",
            "linecolor": "white",
            "ticks": ""
           },
           "bgcolor": "#E5ECF6",
           "caxis": {
            "gridcolor": "white",
            "linecolor": "white",
            "ticks": ""
           }
          },
          "title": {
           "x": 0.05
          },
          "xaxis": {
           "automargin": true,
           "gridcolor": "white",
           "linecolor": "white",
           "ticks": "",
           "title": {
            "standoff": 15
           },
           "zerolinecolor": "white",
           "zerolinewidth": 2
          },
          "yaxis": {
           "automargin": true,
           "gridcolor": "white",
           "linecolor": "white",
           "ticks": "",
           "title": {
            "standoff": 15
           },
           "zerolinecolor": "white",
           "zerolinewidth": 2
          }
         }
        },
        "xaxis": {
         "anchor": "y",
         "domain": [
          0,
          1
         ],
         "title": {
          "text": "time"
         }
        },
        "yaxis": {
         "anchor": "x",
         "domain": [
          0,
          1
         ],
         "title": {
          "text": "vz"
         }
        }
       }
      }
     },
     "metadata": {},
     "output_type": "display_data"
    }
   ],
   "source": [
    "px.scatter(df, x=df.index, y='vz').show()"
   ]
  },
  {
   "cell_type": "code",
   "execution_count": 16,
   "metadata": {},
   "outputs": [
    {
     "name": "stdout",
     "output_type": "stream",
     "text": [
      "Sample rate: 3.00 Hz\n"
     ]
    }
   ],
   "source": [
    "signal_series = df[df.index > 8].vz\n",
    "signal = signal_series.values\n",
    "\n",
    "sampling_rate = 1 / signal_series.index.diff().dropna().values.mean()\n",
    "print(f'Sample rate: {sampling_rate:.2f} Hz')"
   ]
  },
  {
   "cell_type": "code",
   "execution_count": 17,
   "metadata": {},
   "outputs": [],
   "source": [
    "import numpy as np\n",
    "from scipy.fft import fft, rfft\n",
    "from scipy.fft import fftfreq, rfftfreq\n",
    "import plotly.graph_objs as go\n",
    "from plotly.subplots import make_subplots\n",
    "import matplotlib.pyplot as plt"
   ]
  },
  {
   "cell_type": "code",
   "execution_count": 18,
   "metadata": {},
   "outputs": [
    {
     "data": {
      "application/vnd.plotly.v1+json": {
       "config": {
        "plotlyServerURL": "https://plot.ly"
       },
       "data": [
        {
         "hovertemplate": "x=%{x}<br>y=%{y}<extra></extra>",
         "legendgroup": "",
         "line": {
          "color": "#636efa",
          "dash": "solid"
         },
         "marker": {
          "symbol": "circle"
         },
         "mode": "lines",
         "name": "",
         "orientation": "v",
         "showlegend": false,
         "type": "scatter",
         "x": [
          0,
          0.014506837931860117,
          0.029013675863720233,
          0.04352051379558035,
          0.05802735172744047,
          0.07253418965930059,
          0.0870410275911607,
          0.10154786552302082,
          0.11605470345488093,
          0.13056154138674106,
          0.14506837931860117,
          0.15957521725046128,
          0.1740820551823214,
          0.1885888931141815,
          0.20309573104604164,
          0.21760256897790176,
          0.23210940690976187,
          0.24661624484162198,
          0.2611230827734821,
          0.2756299207053422,
          0.29013675863720234,
          0.3046435965690624,
          0.31915043450092256,
          0.3336572724327827,
          0.3481641103646428,
          0.3626709482965029,
          0.377177786228363,
          0.39168462416022315,
          0.4061914620920833,
          0.4206983000239434,
          0.4352051379558035,
          0.4497119758876636,
          0.46421881381952373,
          0.4787256517513839,
          0.49323248968324396,
          0.5077393276151041,
          0.5222461655469642,
          0.5367530034788243,
          0.5512598414106844,
          0.5657666793425445,
          0.5802735172744047,
          0.5947803552062648,
          0.6092871931381248,
          0.623794031069985,
          0.6383008690018451,
          0.6528077069337053,
          0.6673145448655654,
          0.6818213827974254,
          0.6963282207292856,
          0.7108350586611457,
          0.7253418965930059,
          0.739848734524866,
          0.754355572456726,
          0.7688624103885862,
          0.7833692483204463,
          0.7978760862523064,
          0.8123829241841666,
          0.8268897621160266,
          0.8413966000478867,
          0.8559034379797469,
          0.870410275911607,
          0.8849171138434672,
          0.8994239517753272,
          0.9139307897071873,
          0.9284376276390475,
          0.9429444655709076,
          0.9574513035027677,
          0.9719581414346278,
          0.9864649793664879,
          1.000971817298348,
          1.0154786552302082,
          1.0299854931620682,
          1.0444923310939285,
          1.0589991690257885,
          1.0735060069576485,
          1.0880128448895088,
          1.1025196828213688,
          1.117026520753229,
          1.131533358685089,
          1.1460401966169491,
          1.1605470345488094,
          1.1750538724806694,
          1.1895607104125296,
          1.2040675483443897,
          1.2185743862762497,
          1.23308122420811,
          1.24758806213997,
          1.2620949000718302,
          1.2766017380036903,
          1.2911085759355503,
          1.3056154138674105,
          1.3201222517992706,
          1.3346290897311308,
          1.3491359276629908,
          1.3636427655948509,
          1.3781496035267111,
          1.3926564414585711,
          1.4071632793904314,
          1.4216701173222914,
          1.4361769552541515,
          1.4506837931860117,
          1.4651906311178717,
          1.479697469049732,
          1.494204306981592
         ],
         "xaxis": "x",
         "y": [
          0.00714975845410628,
          0.025058942493321447,
          0.06246714033023006,
          0.035718478606417435,
          0.03499878123997226,
          0.019593100345798642,
          0.029612470816111628,
          0.015839353470029665,
          0.0078483199415646,
          0.021386802303674866,
          0.0006933226031883864,
          0.007294975674098496,
          0.012817154836625587,
          0.01611799984497705,
          0.016753062444097515,
          0.02555118376338373,
          0.01959659183721031,
          0.015697063989953863,
          0.0029417109059006307,
          0.0008773612675562784,
          0.008231483873082568,
          0.006775688363237869,
          0.01242978115271705,
          0.00828919022822928,
          0.014596951917983776,
          0.006968813902891164,
          0.00985925012834,
          0.010300375976489294,
          0.010838433201852783,
          0.0077692441663569315,
          0.010602598285847939,
          0.009769415932292523,
          0.00987010004089843,
          0.011442290569544222,
          0.009971987602813693,
          0.009032764469925745,
          0.012471877270686998,
          0.011749449108908482,
          0.0053507736301109145,
          0.0094235024365678,
          0.014539099747123183,
          0.006556367959668112,
          0.004786684703219713,
          0.00993232650513682,
          0.0036064053040334894,
          0.0097204648451129,
          0.005428086935063036,
          0.007130445847039362,
          0.0018382599320940947,
          0.007444954807088306,
          0.00469438114635168,
          0.00967584609674414,
          0.013163004612937824,
          0.005072909611046219,
          0.014302835391782972,
          0.013588618638582187,
          0.009100765216566364,
          0.011972906093961686,
          0.01188277234034089,
          0.005977240687066048,
          0.005161263726310696,
          0.0074160905330173535,
          0.007183766264273619,
          0.008142221318067468,
          0.0082714051074258,
          0.01790579048350444,
          0.005418193161200422,
          0.005943567299306486,
          0.006776663174357963,
          0.008715489985583955,
          0.016238902464474465,
          0.007428943557737625,
          0.026745391726000413,
          0.010697224645516465,
          0.02084542213016972,
          0.016913728417226364,
          0.034302429629474565,
          0.028211905959320948,
          0.023024613594821455,
          0.06872634239563556,
          0.08664918051114825,
          0.03369644222460804,
          0.04889846551234408,
          0.02643610578986514,
          0.010184274308107031,
          0.006137433723679844,
          0.015429383365756055,
          0.008720538169376126,
          0.010273534258059143,
          0.010501053396771199,
          0.009233526112080477,
          0.0027541169457175503,
          0.008012493295308166,
          0.0067882629038125445,
          0.012572115536650278,
          0.004820315260269565,
          0.003716857836866662,
          0.01248941123616605,
          0.0015218658234224694,
          0.004197211843402997,
          0.006632129160721968,
          0.00857541555504021,
          0.006425782711603539,
          0.010781673550742435
         ],
         "yaxis": "y"
        }
       ],
       "layout": {
        "bargap": 0.2,
        "bargroupgap": 0.1,
        "legend": {
         "tracegroupgap": 0
        },
        "margin": {
         "t": 60
        },
        "template": {
         "data": {
          "bar": [
           {
            "error_x": {
             "color": "#2a3f5f"
            },
            "error_y": {
             "color": "#2a3f5f"
            },
            "marker": {
             "line": {
              "color": "white",
              "width": 0.5
             },
             "pattern": {
              "fillmode": "overlay",
              "size": 10,
              "solidity": 0.2
             }
            },
            "type": "bar"
           }
          ],
          "barpolar": [
           {
            "marker": {
             "line": {
              "color": "white",
              "width": 0.5
             },
             "pattern": {
              "fillmode": "overlay",
              "size": 10,
              "solidity": 0.2
             }
            },
            "type": "barpolar"
           }
          ],
          "carpet": [
           {
            "aaxis": {
             "endlinecolor": "#2a3f5f",
             "gridcolor": "#C8D4E3",
             "linecolor": "#C8D4E3",
             "minorgridcolor": "#C8D4E3",
             "startlinecolor": "#2a3f5f"
            },
            "baxis": {
             "endlinecolor": "#2a3f5f",
             "gridcolor": "#C8D4E3",
             "linecolor": "#C8D4E3",
             "minorgridcolor": "#C8D4E3",
             "startlinecolor": "#2a3f5f"
            },
            "type": "carpet"
           }
          ],
          "choropleth": [
           {
            "colorbar": {
             "outlinewidth": 0,
             "ticks": ""
            },
            "type": "choropleth"
           }
          ],
          "contour": [
           {
            "colorbar": {
             "outlinewidth": 0,
             "ticks": ""
            },
            "colorscale": [
             [
              0,
              "#0d0887"
             ],
             [
              0.1111111111111111,
              "#46039f"
             ],
             [
              0.2222222222222222,
              "#7201a8"
             ],
             [
              0.3333333333333333,
              "#9c179e"
             ],
             [
              0.4444444444444444,
              "#bd3786"
             ],
             [
              0.5555555555555556,
              "#d8576b"
             ],
             [
              0.6666666666666666,
              "#ed7953"
             ],
             [
              0.7777777777777778,
              "#fb9f3a"
             ],
             [
              0.8888888888888888,
              "#fdca26"
             ],
             [
              1,
              "#f0f921"
             ]
            ],
            "type": "contour"
           }
          ],
          "contourcarpet": [
           {
            "colorbar": {
             "outlinewidth": 0,
             "ticks": ""
            },
            "type": "contourcarpet"
           }
          ],
          "heatmap": [
           {
            "colorbar": {
             "outlinewidth": 0,
             "ticks": ""
            },
            "colorscale": [
             [
              0,
              "#0d0887"
             ],
             [
              0.1111111111111111,
              "#46039f"
             ],
             [
              0.2222222222222222,
              "#7201a8"
             ],
             [
              0.3333333333333333,
              "#9c179e"
             ],
             [
              0.4444444444444444,
              "#bd3786"
             ],
             [
              0.5555555555555556,
              "#d8576b"
             ],
             [
              0.6666666666666666,
              "#ed7953"
             ],
             [
              0.7777777777777778,
              "#fb9f3a"
             ],
             [
              0.8888888888888888,
              "#fdca26"
             ],
             [
              1,
              "#f0f921"
             ]
            ],
            "type": "heatmap"
           }
          ],
          "heatmapgl": [
           {
            "colorbar": {
             "outlinewidth": 0,
             "ticks": ""
            },
            "colorscale": [
             [
              0,
              "#0d0887"
             ],
             [
              0.1111111111111111,
              "#46039f"
             ],
             [
              0.2222222222222222,
              "#7201a8"
             ],
             [
              0.3333333333333333,
              "#9c179e"
             ],
             [
              0.4444444444444444,
              "#bd3786"
             ],
             [
              0.5555555555555556,
              "#d8576b"
             ],
             [
              0.6666666666666666,
              "#ed7953"
             ],
             [
              0.7777777777777778,
              "#fb9f3a"
             ],
             [
              0.8888888888888888,
              "#fdca26"
             ],
             [
              1,
              "#f0f921"
             ]
            ],
            "type": "heatmapgl"
           }
          ],
          "histogram": [
           {
            "marker": {
             "pattern": {
              "fillmode": "overlay",
              "size": 10,
              "solidity": 0.2
             }
            },
            "type": "histogram"
           }
          ],
          "histogram2d": [
           {
            "colorbar": {
             "outlinewidth": 0,
             "ticks": ""
            },
            "colorscale": [
             [
              0,
              "#0d0887"
             ],
             [
              0.1111111111111111,
              "#46039f"
             ],
             [
              0.2222222222222222,
              "#7201a8"
             ],
             [
              0.3333333333333333,
              "#9c179e"
             ],
             [
              0.4444444444444444,
              "#bd3786"
             ],
             [
              0.5555555555555556,
              "#d8576b"
             ],
             [
              0.6666666666666666,
              "#ed7953"
             ],
             [
              0.7777777777777778,
              "#fb9f3a"
             ],
             [
              0.8888888888888888,
              "#fdca26"
             ],
             [
              1,
              "#f0f921"
             ]
            ],
            "type": "histogram2d"
           }
          ],
          "histogram2dcontour": [
           {
            "colorbar": {
             "outlinewidth": 0,
             "ticks": ""
            },
            "colorscale": [
             [
              0,
              "#0d0887"
             ],
             [
              0.1111111111111111,
              "#46039f"
             ],
             [
              0.2222222222222222,
              "#7201a8"
             ],
             [
              0.3333333333333333,
              "#9c179e"
             ],
             [
              0.4444444444444444,
              "#bd3786"
             ],
             [
              0.5555555555555556,
              "#d8576b"
             ],
             [
              0.6666666666666666,
              "#ed7953"
             ],
             [
              0.7777777777777778,
              "#fb9f3a"
             ],
             [
              0.8888888888888888,
              "#fdca26"
             ],
             [
              1,
              "#f0f921"
             ]
            ],
            "type": "histogram2dcontour"
           }
          ],
          "mesh3d": [
           {
            "colorbar": {
             "outlinewidth": 0,
             "ticks": ""
            },
            "type": "mesh3d"
           }
          ],
          "parcoords": [
           {
            "line": {
             "colorbar": {
              "outlinewidth": 0,
              "ticks": ""
             }
            },
            "type": "parcoords"
           }
          ],
          "pie": [
           {
            "automargin": true,
            "type": "pie"
           }
          ],
          "scatter": [
           {
            "fillpattern": {
             "fillmode": "overlay",
             "size": 10,
             "solidity": 0.2
            },
            "type": "scatter"
           }
          ],
          "scatter3d": [
           {
            "line": {
             "colorbar": {
              "outlinewidth": 0,
              "ticks": ""
             }
            },
            "marker": {
             "colorbar": {
              "outlinewidth": 0,
              "ticks": ""
             }
            },
            "type": "scatter3d"
           }
          ],
          "scattercarpet": [
           {
            "marker": {
             "colorbar": {
              "outlinewidth": 0,
              "ticks": ""
             }
            },
            "type": "scattercarpet"
           }
          ],
          "scattergeo": [
           {
            "marker": {
             "colorbar": {
              "outlinewidth": 0,
              "ticks": ""
             }
            },
            "type": "scattergeo"
           }
          ],
          "scattergl": [
           {
            "marker": {
             "colorbar": {
              "outlinewidth": 0,
              "ticks": ""
             }
            },
            "type": "scattergl"
           }
          ],
          "scattermapbox": [
           {
            "marker": {
             "colorbar": {
              "outlinewidth": 0,
              "ticks": ""
             }
            },
            "type": "scattermapbox"
           }
          ],
          "scatterpolar": [
           {
            "marker": {
             "colorbar": {
              "outlinewidth": 0,
              "ticks": ""
             }
            },
            "type": "scatterpolar"
           }
          ],
          "scatterpolargl": [
           {
            "marker": {
             "colorbar": {
              "outlinewidth": 0,
              "ticks": ""
             }
            },
            "type": "scatterpolargl"
           }
          ],
          "scatterternary": [
           {
            "marker": {
             "colorbar": {
              "outlinewidth": 0,
              "ticks": ""
             }
            },
            "type": "scatterternary"
           }
          ],
          "surface": [
           {
            "colorbar": {
             "outlinewidth": 0,
             "ticks": ""
            },
            "colorscale": [
             [
              0,
              "#0d0887"
             ],
             [
              0.1111111111111111,
              "#46039f"
             ],
             [
              0.2222222222222222,
              "#7201a8"
             ],
             [
              0.3333333333333333,
              "#9c179e"
             ],
             [
              0.4444444444444444,
              "#bd3786"
             ],
             [
              0.5555555555555556,
              "#d8576b"
             ],
             [
              0.6666666666666666,
              "#ed7953"
             ],
             [
              0.7777777777777778,
              "#fb9f3a"
             ],
             [
              0.8888888888888888,
              "#fdca26"
             ],
             [
              1,
              "#f0f921"
             ]
            ],
            "type": "surface"
           }
          ],
          "table": [
           {
            "cells": {
             "fill": {
              "color": "#EBF0F8"
             },
             "line": {
              "color": "white"
             }
            },
            "header": {
             "fill": {
              "color": "#C8D4E3"
             },
             "line": {
              "color": "white"
             }
            },
            "type": "table"
           }
          ]
         },
         "layout": {
          "annotationdefaults": {
           "arrowcolor": "#2a3f5f",
           "arrowhead": 0,
           "arrowwidth": 1
          },
          "autotypenumbers": "strict",
          "coloraxis": {
           "colorbar": {
            "outlinewidth": 0,
            "ticks": ""
           }
          },
          "colorscale": {
           "diverging": [
            [
             0,
             "#8e0152"
            ],
            [
             0.1,
             "#c51b7d"
            ],
            [
             0.2,
             "#de77ae"
            ],
            [
             0.3,
             "#f1b6da"
            ],
            [
             0.4,
             "#fde0ef"
            ],
            [
             0.5,
             "#f7f7f7"
            ],
            [
             0.6,
             "#e6f5d0"
            ],
            [
             0.7,
             "#b8e186"
            ],
            [
             0.8,
             "#7fbc41"
            ],
            [
             0.9,
             "#4d9221"
            ],
            [
             1,
             "#276419"
            ]
           ],
           "sequential": [
            [
             0,
             "#0d0887"
            ],
            [
             0.1111111111111111,
             "#46039f"
            ],
            [
             0.2222222222222222,
             "#7201a8"
            ],
            [
             0.3333333333333333,
             "#9c179e"
            ],
            [
             0.4444444444444444,
             "#bd3786"
            ],
            [
             0.5555555555555556,
             "#d8576b"
            ],
            [
             0.6666666666666666,
             "#ed7953"
            ],
            [
             0.7777777777777778,
             "#fb9f3a"
            ],
            [
             0.8888888888888888,
             "#fdca26"
            ],
            [
             1,
             "#f0f921"
            ]
           ],
           "sequentialminus": [
            [
             0,
             "#0d0887"
            ],
            [
             0.1111111111111111,
             "#46039f"
            ],
            [
             0.2222222222222222,
             "#7201a8"
            ],
            [
             0.3333333333333333,
             "#9c179e"
            ],
            [
             0.4444444444444444,
             "#bd3786"
            ],
            [
             0.5555555555555556,
             "#d8576b"
            ],
            [
             0.6666666666666666,
             "#ed7953"
            ],
            [
             0.7777777777777778,
             "#fb9f3a"
            ],
            [
             0.8888888888888888,
             "#fdca26"
            ],
            [
             1,
             "#f0f921"
            ]
           ]
          },
          "colorway": [
           "#636efa",
           "#EF553B",
           "#00cc96",
           "#ab63fa",
           "#FFA15A",
           "#19d3f3",
           "#FF6692",
           "#B6E880",
           "#FF97FF",
           "#FECB52"
          ],
          "font": {
           "color": "#2a3f5f"
          },
          "geo": {
           "bgcolor": "white",
           "lakecolor": "white",
           "landcolor": "white",
           "showlakes": true,
           "showland": true,
           "subunitcolor": "#C8D4E3"
          },
          "hoverlabel": {
           "align": "left"
          },
          "hovermode": "closest",
          "mapbox": {
           "style": "light"
          },
          "paper_bgcolor": "white",
          "plot_bgcolor": "white",
          "polar": {
           "angularaxis": {
            "gridcolor": "#EBF0F8",
            "linecolor": "#EBF0F8",
            "ticks": ""
           },
           "bgcolor": "white",
           "radialaxis": {
            "gridcolor": "#EBF0F8",
            "linecolor": "#EBF0F8",
            "ticks": ""
           }
          },
          "scene": {
           "xaxis": {
            "backgroundcolor": "white",
            "gridcolor": "#DFE8F3",
            "gridwidth": 2,
            "linecolor": "#EBF0F8",
            "showbackground": true,
            "ticks": "",
            "zerolinecolor": "#EBF0F8"
           },
           "yaxis": {
            "backgroundcolor": "white",
            "gridcolor": "#DFE8F3",
            "gridwidth": 2,
            "linecolor": "#EBF0F8",
            "showbackground": true,
            "ticks": "",
            "zerolinecolor": "#EBF0F8"
           },
           "zaxis": {
            "backgroundcolor": "white",
            "gridcolor": "#DFE8F3",
            "gridwidth": 2,
            "linecolor": "#EBF0F8",
            "showbackground": true,
            "ticks": "",
            "zerolinecolor": "#EBF0F8"
           }
          },
          "shapedefaults": {
           "line": {
            "color": "#2a3f5f"
           }
          },
          "ternary": {
           "aaxis": {
            "gridcolor": "#DFE8F3",
            "linecolor": "#A2B1C6",
            "ticks": ""
           },
           "baxis": {
            "gridcolor": "#DFE8F3",
            "linecolor": "#A2B1C6",
            "ticks": ""
           },
           "bgcolor": "white",
           "caxis": {
            "gridcolor": "#DFE8F3",
            "linecolor": "#A2B1C6",
            "ticks": ""
           }
          },
          "title": {
           "x": 0.05
          },
          "xaxis": {
           "automargin": true,
           "gridcolor": "#EBF0F8",
           "linecolor": "#EBF0F8",
           "ticks": "",
           "title": {
            "standoff": 15
           },
           "zerolinecolor": "#EBF0F8",
           "zerolinewidth": 2
          },
          "yaxis": {
           "automargin": true,
           "gridcolor": "#EBF0F8",
           "linecolor": "#EBF0F8",
           "ticks": "",
           "title": {
            "standoff": 15
           },
           "zerolinecolor": "#EBF0F8",
           "zerolinewidth": 2
          }
         }
        },
        "title": {
         "text": "<b>Fourier Transform of vz</b>"
        },
        "xaxis": {
         "anchor": "y",
         "domain": [
          0,
          1
         ],
         "title": {
          "font": {
           "family": "Trebuchet"
          },
          "text": "Frequency (Hz)"
         }
        },
        "yaxis": {
         "anchor": "x",
         "domain": [
          0,
          1
         ],
         "title": {
          "text": "Amplitude"
         }
        }
       }
      }
     },
     "metadata": {},
     "output_type": "display_data"
    }
   ],
   "source": [
    "fourier = fft(signal)\n",
    "\n",
    "# Calculate N/2 to normalize the FFT output\n",
    "N = len(signal)\n",
    "\n",
    "# Plot the results\n",
    "# plt.plot(rfftfreq(N, d=1/sampling_rate), 2*np.abs(rfft(signal))/N)\n",
    "# plt.title('Spectrum')\n",
    "# plt.xlabel('Frequency[Hz]')\n",
    "# plt.ylabel('Amplitude')\n",
    "# plt.show()\n",
    "\n",
    "fig = px.line(x=rfftfreq(N, d=1/sampling_rate), y=2*np.abs(rfft(signal))/N)\n",
    "\n",
    "fig.update_xaxes(title_font_family=\"Trebuchet\")\n",
    "fig.update_layout(template = \"plotly_white\",\n",
    "                  title=\"<b>Fourier Transform of vz</b>\",\n",
    "                 )\n",
    "fig.update_layout(\n",
    "    xaxis_title_text='Frequency (Hz)',\n",
    "    yaxis_title_text='Amplitude',\n",
    "    bargap=0.2,\n",
    "    bargroupgap=0.1\n",
    ")\n",
    "fig.write_html(\"figures/fourier-transform.html\")\n",
    "fig.show()"
   ]
  }
 ],
 "metadata": {
  "kernelspec": {
   "display_name": "drones",
   "language": "python",
   "name": "python3"
  },
  "language_info": {
   "codemirror_mode": {
    "name": "ipython",
    "version": 3
   },
   "file_extension": ".py",
   "mimetype": "text/x-python",
   "name": "python",
   "nbconvert_exporter": "python",
   "pygments_lexer": "ipython3",
   "version": "3.9.18"
  },
  "orig_nbformat": 4
 },
 "nbformat": 4,
 "nbformat_minor": 2
}
